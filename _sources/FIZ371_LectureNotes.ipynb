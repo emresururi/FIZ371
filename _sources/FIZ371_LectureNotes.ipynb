{
 "cells": [
  {
   "cell_type": "markdown",
   "id": "ffb144d6",
   "metadata": {},
   "source": [
    "# Lecture Notes\n",
    "\n",
    "1. [Probabilities - Concept & Theory](FIZ371_LN01_EST_Probabilities_Theory)\n",
    "2. [Application: Letter Frequencies](FIZ371_LN01_EST_Probabilities_Theory_Application_WOZ)\n",
    "3. [Probabilities](FIZ371_LN02_EST_Probabilities)\n",
    "4. [Application: Monty Hall Problem](FIZ371_LN08_EST_Application_Monty_Hall)\n",
    "5. [Application: White Token Out Of A Bag](WhiteTokenOutOf2)\n",
    "6. [Application: Six Switch Puzzle](FIZ371_LN06_SixSwitchPuzzle_and_Parallelization)\n",
    "7. [Distributions 1 : Discrete Distributions](FIZ371_LN10_EST_Distributions_1)\n",
    "8. [Distributions 2 : Continous Distributions](FIZ371_LN15_EST_Distributions_2)\n",
    "9. [Game Theory](FIZ371_LN25_EST_Game_Theory)\n",
    "10. [Application: Prisonner's Dilemma with Memory](FIZ371_LN28_EST_Game_Theory_PrisonnersDilemmaWithMemory)\n",
    "11. [Gale-Shapley Algorithm Implementation](GaleShapleyMatching_Implementation)\n",
    "12. [Information Theory](FIZ371_LN36_EST_Information_Theory)\n",
    "13. [Application: Message Transmission Over A Noisy Channel](FIZ371_LN36_EST_Information_Theory_MessageTransmissionOverNoise)\n",
    "14. [Cellular Automata](FIZ371_LN47_EST_CellularAutomata_GameOfLife)\n",
    "15. [2D Ising Model](FIZ371_LN80_EST_2DIsing)\n",
    "16. [Neural Networks](FIZ371_LN69_EST_NeuralNetworks)\n",
    "\n",
    "**Appendix:** [Optimization, Minimization & Fitting Notes & Recipes](MinimizeOptimizeFit)"
   ]
  }
 ],
 "metadata": {
  "jupytext": {
   "formats": "ipynb,md:myst",
   "text_representation": {
    "extension": ".md",
    "format_name": "myst",
    "format_version": 0.13,
    "jupytext_version": "1.11.5"
   }
  },
  "kernelspec": {
   "display_name": "Python 3 (ipykernel)",
   "language": "python",
   "name": "python3"
  },
  "language_info": {
   "codemirror_mode": {
    "name": "ipython",
    "version": 3
   },
   "file_extension": ".py",
   "mimetype": "text/x-python",
   "name": "python",
   "nbconvert_exporter": "python",
   "pygments_lexer": "ipython3",
   "version": "3.8.5"
  },
  "source_map": [
   13
  ]
 },
 "nbformat": 4,
 "nbformat_minor": 5
}