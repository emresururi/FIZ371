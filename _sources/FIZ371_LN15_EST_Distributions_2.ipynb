{
 "cells": [
  {
   "cell_type": "markdown",
   "id": "be56019b",
   "metadata": {},
   "source": [
    "# Distributions 2 : Continous Distributions\n",
    "**FIZ371 - Scientific & Technical Computations | 06/04/2020**\n",
    "\n",
    "**Continous Distributions**\n",
    " * Reprise: Galton Machine\n",
    " * Gaussian (Normal) Distribution\n",
    "    * Mean and standard variance of the binomial distribution (or is it the normal distribution?.. ;)\n",
    "      * Mean Value (μ)\n",
    "      * Standard variation (σ)\n",
    "    * Gaussian distribution, final form\n",
    "    * Application: The Six σ\n",
    "    * A code of our own: Deriving the  σσ  distribution ratios stochastically\n",
    " * Poisson Distribution\n",
    "    * Assignment / HW : mean and variance of Poisson distribution\n",
    "    * Example: Airplane accidents\n",
    "  \n",
    "Emre S. Tasci <emre.tasci@hacettepe.edu.tr>"
   ]
  },
  {
   "cell_type": "markdown",
   "id": "6d6a1ecc",
   "metadata": {},
   "source": [
    "# Reprise: Galton Machine\n",
    "In our [previous lecture](FIZ371_LN10_EST_Distributions_1.md), we defined and analyzed the Galton machine and also implemented a simulator for it. That code is reproduced below, this time functionalized with the number of levels & balls as its input parameters:"
   ]
  },
  {
   "cell_type": "code",
   "execution_count": 1,
   "id": "efe38c61",
   "metadata": {},
   "outputs": [],
   "source": [
    "import numpy as np\n",
    "from scipy.special import comb\n",
    "import matplotlib.pyplot as plt\n",
    "\n",
    "def Galton(n,N):\n",
    "    # Fixing the seed so that the results are repeatable\n",
    "    np.random.seed(371)\n",
    "\n",
    "    # n: Number of levels\n",
    "    # N: Number of balls\n",
    "\n",
    "    # Initialize the boxes (numbered from 0 to n)\n",
    "    arr_boxes = np.zeros(n+1)\n",
    "\n",
    "    # Loop over the balls\n",
    "    for i in range(0,N):\n",
    "        position = 0\n",
    "        for level in range(0,n):\n",
    "            direction = np.random.randint(2)\n",
    "            # print(direction,end=\" \")\n",
    "            position += direction\n",
    "\n",
    "        # if it goes left everytime, then the position\n",
    "        # would be: 0 which is the leftmost box: 0\n",
    "\n",
    "        # if it goes right everytime, then the position\n",
    "        # would be: +n which is the rightmost box: #n\n",
    "        # print(str(position))\n",
    "        arr_boxes[position] += 1\n",
    "    #d#print(\"Simulation results:\")\n",
    "    #d#print(arr_boxes/N)\n",
    "\n",
    "    #d#print(\"\")\n",
    "\n",
    "    # Let's compare it with the direct Pascal's triangle results:\n",
    "    pascal_triangle = np.zeros(n+1)\n",
    "    for kk in range(n+1):\n",
    "        pascal_triangle[kk] = comb(n,kk)\n",
    "    #print(pascal_triangle)\n",
    "    pascal_triangle = pascal_triangle / np.sum(pascal_triangle)\n",
    "    #d#print(\"Pascal's Triangle:\")\n",
    "    #d#print(pascal_triangle)\n",
    "\n",
    "    # While we're at it, let's also plot the probabilities by\n",
    "    # dividing the number of balls in each box to the tall # of balls:\n",
    "    plt.bar(range(n+1),arr_boxes/N)\n",
    "\n",
    "    # and project upon it the values from Pascal's triangle:\n",
    "    plt.bar(range(n+1),pascal_triangle,color=\"none\",edgecolor=\"red\")\n",
    "    \n",
    "    mu = np.dot(arr_boxes/N,range(n+1))\n",
    "    std= np.sqrt(np.dot(arr_boxes/N,(range(n+1)-mu)**2))\n",
    "    print(\"---------------------------------------------------------\")\n",
    "    print(\"n:%3d Levels | N:%d Balls\"%(n,N))\n",
    "    print(\"mean: %.5f | std dev: %.5f\"%(mu,std))\n",
    "    plt.xlim(mu-3*std,mu+3*std)\n",
    "    plt.title(\"n:%3d Levels | N:%d Balls\"%(n,N))\n",
    "    plt.show()\n",
    "    return arr_boxes/N"
   ]
  },
  {
   "cell_type": "code",
   "execution_count": 2,
   "id": "0655f10c",
   "metadata": {},
   "outputs": [
    {
     "name": "stdout",
     "output_type": "stream",
     "text": [
      "---------------------------------------------------------\n",
      "n:  4 Levels | N:10000 Balls\n",
      "mean: 1.99480 | std dev: 0.99638\n"
     ]
    },
    {
     "data": {
      "image/png": "[encoded data removed]",
      "text/plain": [
       "<Figure size 432x288 with 1 Axes>"
      ]
     },
     "metadata": {
      "filenames": {
       "image/png": "/stmp/code/books/FIZ371/_build/jupyter_execute/FIZ371_LN15_EST_Distributions_2_3_1.png"
      },
      "needs_background": "light"
     },
     "output_type": "display_data"
    },
    {
     "name": "stdout",
     "output_type": "stream",
     "text": [
      "[0.061  0.2525 0.3807 0.2423 0.0635]\n"
     ]
    }
   ],
   "source": [
    "# So we can call it now like:\n",
    "g = Galton(4,10000)\n",
    "print(g)"
   ]
  },
  {
   "cell_type": "markdown",
   "id": "3cb10027",
   "metadata": {},
   "source": [
    "This time, we're going to increase the number of levels (and also to have statistically meaningful results, we will ensure that there is a sufficient number of balls to accompany them 8)."
   ]
  },
  {
   "cell_type": "code",
   "execution_count": 3,
   "id": "af770d3e",
   "metadata": {},
   "outputs": [
    {
     "name": "stdout",
     "output_type": "stream",
     "text": [
      "---------------------------------------------------------\n",
      "n: 10 Levels | N:1000 Balls\n",
      "mean: 5.01900 | std dev: 1.58134\n"
     ]
    },
    {
     "data": {
      "image/png": "[encoded data removed]",
      "text/plain": [
       "<Figure size 432x288 with 1 Axes>"
      ]
     },
     "metadata": {
      "filenames": {
       "image/png": "/stmp/code/books/FIZ371/_build/jupyter_execute/FIZ371_LN15_EST_Distributions_2_5_1.png"
      },
      "needs_background": "light"
     },
     "output_type": "display_data"
    },
    {
     "name": "stdout",
     "output_type": "stream",
     "text": [
      "---------------------------------------------------------\n",
      "n: 25 Levels | N:2500 Balls\n",
      "mean: 12.44880 | std dev: 2.46661\n"
     ]
    },
    {
     "data": {
      "image/png": "[encoded data removed]",
      "text/plain": [
       "<Figure size 432x288 with 1 Axes>"
      ]
     },
     "metadata": {
      "filenames": {
       "image/png": "/stmp/code/books/FIZ371/_build/jupyter_execute/FIZ371_LN15_EST_Distributions_2_5_3.png"
      },
      "needs_background": "light"
     },
     "output_type": "display_data"
    },
    {
     "name": "stdout",
     "output_type": "stream",
     "text": [
      "---------------------------------------------------------\n",
      "n: 50 Levels | N:5000 Balls\n",
      "mean: 24.88080 | std dev: 3.53579\n"
     ]
    },
    {
     "data": {
      "image/png": "[encoded data removed]",
      "text/plain": [
       "<Figure size 432x288 with 1 Axes>"
      ]
     },
     "metadata": {
      "filenames": {
       "image/png": "/stmp/code/books/FIZ371/_build/jupyter_execute/FIZ371_LN15_EST_Distributions_2_5_5.png"
      },
      "needs_background": "light"
     },
     "output_type": "display_data"
    },
    {
     "name": "stdout",
     "output_type": "stream",
     "text": [
      "---------------------------------------------------------\n",
      "n:100 Levels | N:10000 Balls\n",
      "mean: 49.89790 | std dev: 4.96444\n"
     ]
    },
    {
     "data": {
      "image/png": "[encoded data removed]",
      "text/plain": [
       "<Figure size 432x288 with 1 Axes>"
      ]
     },
     "metadata": {
      "filenames": {
       "image/png": "/stmp/code/books/FIZ371/_build/jupyter_execute/FIZ371_LN15_EST_Distributions_2_5_7.png"
      },
      "needs_background": "light"
     },
     "output_type": "display_data"
    },
    {
     "name": "stdout",
     "output_type": "stream",
     "text": [
      "---------------------------------------------------------\n",
      "n:250 Levels | N:25000 Balls\n",
      "mean: 124.97924 | std dev: 7.93965\n"
     ]
    },
    {
     "data": {
      "image/png": "[encoded data removed]",
      "text/plain": [
       "<Figure size 432x288 with 1 Axes>"
      ]
     },
     "metadata": {
      "filenames": {
       "image/png": "/stmp/code/books/FIZ371/_build/jupyter_execute/FIZ371_LN15_EST_Distributions_2_5_9.png"
      },
      "needs_background": "light"
     },
     "output_type": "display_data"
    }
   ],
   "source": [
    "#for i in np.array([10,25,50,100,250,500,1000]):\n",
    "for i in np.array([10,25,50,100,250]):\n",
    "    n = i\n",
    "    N = 100*n\n",
    "    g = Galton(n,N)"
   ]
  },
  {
   "cell_type": "markdown",
   "id": "42a4278e",
   "metadata": {},
   "source": [
    "So, you can see that, as the number of levels increase, naturally the number of \"boxes\" also increase and a pattern emerges. The \"thickness\" of the boxes becomes thinner, as we \"zoom out\" to fit more and more boxes in our graph and the overall distribution looks like a symmetrical \"bell\" centered on the middle box."
   ]
  },
  {
   "cell_type": "markdown",
   "id": "45e98449",
   "metadata": {},
   "source": [
    "# Gaussian (Normal) Distribution\n",
    "\n",
    "This bell-like shaped curve has its very special place in statistics and in nature: it is called a Gaussian curve and [we are going to derive the fact][Howard Haber's Physics 116 page] that as $n \\rightarrow \\infty$, binomial distribution becomes Gaussian distribution, just as the graphs above suggest. This distribution occurs so frequently that, it is also called the \"normal\" distribution.\n",
    "\n",
    "[Howard Haber's Physics 116 page]: http://scipp.ucsc.edu/~haber/ph116C/NormalApprox.pdf"
   ]
  },
  {
   "cell_type": "markdown",
   "id": "4eafa332",
   "metadata": {},
   "source": [
    "Remember that, the probability of the chosen outcome happening $k$ times out of $n$ tries was given by the binomial probability distribution function as:\n",
    "\n",
    "$$P(n,k)\n",
    "=\\frac{n!}{k!\\left(n-k\\right)!}\\,p^k\\, \\left(1-p\\right)^{n-k}$$\n",
    "\n",
    "where $p$ being the probability of the chosen outcome happening in a single try (and thus $(1-p)$ corresponding to the probability of the chosen outcome _not_ happening).\n",
    "\n",
    "For the sake of practicality (and taking the next step to continous distribution in the case of: $k\\rightarrow x$), we will switch to different symbols in the proof:\n",
    "* $x$ will replace $k$\n",
    "* we will denote $(1-p)$ by $q$\n",
    "so, our PDF above will be re-written as:\n",
    "\n",
    "$$P(x) = \\frac{n!}{x!\\left(n-x\\right)!}\\,p^x\\, q^{n-x}$$"
   ]
  },
  {
   "cell_type": "markdown",
   "id": "d77b0700",
   "metadata": {},
   "source": [
    "We will be working in the $n\\rightarrow\\infty$ limit, justifying the approximations.\n",
    "\n",
    "To get rid of the factorials, we will use [Stirling's approximation](https://en.wikipedia.org/wiki/Stirling%27s_approximation):\n",
    "\n",
    "$$n! \\approx n^n e^{-n} \\sqrt{2\\pi n}$$\n",
    "\n",
    "Substitution of all the factorials yields:\n",
    "\n",
    "$$\\begin{align*}\n",
    "P(x) &= \\frac{n^n e^{-n} \\sqrt{2\\pi n}}{\\left[x^x e^{-x} \\sqrt{2\\pi x}\\right]\n",
    "\\left[(n-x)^{n-x} e^{-(n-x)}\\sqrt{2 \\pi (n-x)}\\right]\n",
    "}p^x q^{n-x}\\\\\n",
    "&=(p\\,/x)^x (q\\,/(n-x))^{n-x} n^n \\sqrt{\\frac{n}{2\\pi x (n-x)}}\\\\\n",
    "&=\\left(\\frac{np}{x}\\right)^x\\left(\\frac{nq}{n-x}\\right)^{n-x} \\sqrt{\\frac{n}{2\\pi x (n-x)}}\n",
    "\\end{align*}$$"
   ]
  },
  {
   "cell_type": "markdown",
   "id": "e0ae4a83",
   "metadata": {},
   "source": [
    "If we define: $\\delta = x - np$, then $x=\\delta+np$ and $n-x = nq-\\delta$. \n",
    "\n",
    "From here we can write:\n",
    "\n",
    "$$\n",
    "\\begin{align*}\n",
    "\\ln\\left(\\frac{np}{x}\\right) &= \\ln\\left(\\frac{np}{np+\\delta}\\right) = -\\ln\\left(1 + \\frac{\\delta}{np}\\right)\\\\\n",
    "\\ln\\left(\\frac{nq}{n-x}\\right) &= \\ln\\left(\\frac{nq}{nq-\\delta}\\right) = -\\ln\\left(1 - \\frac{\\delta}{nq}\\right)\n",
    "\\end{align*}$$"
   ]
  },
  {
   "cell_type": "markdown",
   "id": "225e713c",
   "metadata": {},
   "source": [
    "At this point we'll take the logarithm of the probability function's $\\left(\\frac{np}{x}\\right)^x\\left(\\frac{nq}{n-x}\\right)^{n-x}$ part:\n",
    "\n",
    "$$\\ln\\left[\\left(\\frac{np}{x}\\right)^x\\left(\\frac{nq}{n-x}\\right)^{n-x}\\right] = x\\ln\\left(\\frac{np}{x}\\right)+(n-x) \\ln\\left(\\frac{nq}{n-x}\\right)$$\n",
    "\n",
    "\n",
    "Substitute $x=\\delta+np$, $n-x = nq-\\delta$, the above logarithmic identities, and use the expansion:  \n",
    "\n",
    "$$\\ln(1+x) = x - \\frac{1}{2} x^2$$\n",
    "to have:  \n",
    "\n",
    "$$\\begin{align*}\n",
    "\\ln\\left[\\left(\\frac{np}{x}\\right)^x\\left(\\frac{nq}{n-x}\\right)^{n-x}\\right] &= x\\ln\\left(\\frac{np}{x}\\right)+(n-x) \\ln\\left(\\frac{nq}{n-x}\\right)\\\\\n",
    "&=-(\\delta+np)\\left[\\frac{\\delta}{np}-\\frac{1}{2}\\frac{\\delta^2}{n^2 p^2}\\right] - (nq-\\delta)\\left[-\\frac{\\delta}{nq} -\\frac{1}{2} \\frac{\\delta^2}{n^2 q^2} \\right]\\\\\n",
    "&=-\\delta\\left[1 + \\frac{1}{2} \\frac{\\delta}{np} -1 + + \\frac{1}{2} \\frac{\\delta}{nq}\\right]\\\\\n",
    "&=-\\frac{\\delta^2}{2n p q}\n",
    "\\end{align*}$$\n",
    "\n",
    "(we have also used the $p+q=1$ identity)"
   ]
  },
  {
   "cell_type": "markdown",
   "id": "c3ed095b",
   "metadata": {},
   "source": [
    "We are almost there... We exponentiate the above equation to retrieve $\\left(\\frac{np}{x}\\right)^x\\left(\\frac{nq}{n-x}\\right)^{n-x}$ in the original function:\n",
    "\n",
    "$$\\rightarrow \\left(\\frac{np}{x}\\right)^x\\left(\\frac{nq}{n-x}\\right)^{n-x} = e^{-\\delta^2/2npq} = e^{-(x-np)^2/2npq}$$\n",
    "\n",
    "The square root factor still remains, so let's work on it a little:\n",
    "\n",
    "$$\\sqrt{\\frac{n}{2\\pi x (n-x)}} = \\sqrt{\\frac{n}{2\\pi (np+\\delta) (nq-\\delta)}} = \\sqrt{\\frac{1}{2\\pi npq}} = \\frac{1}{\\sqrt{2\\pi npq}}$$"
   ]
  },
  {
   "cell_type": "markdown",
   "id": "3bfbd0ef",
   "metadata": {},
   "source": [
    "Combining all, we have:\n",
    "\n",
    "$$P(x) =  \\frac{1}{\\sqrt{2\\pi npq}} e^{-(x-np)^2/2npq}$$"
   ]
  },
  {
   "cell_type": "markdown",
   "id": "95ed0f42",
   "metadata": {},
   "source": [
    "# Mean and standard variance of the binomial distribution (or is it the normal distribution?.. ;)\n",
    "## Mean Value ($\\mu$)\n",
    "(Once again, we are using [Howard Haber's Physics 116 page]( http://scipp.ucsc.edu/~haber/ph116C/NormalApprox.pdf) for this section, as well)\n",
    "\n",
    "We start from the binomial distribution:\n",
    "\n",
    "$$P(n,k) = C(n,k)\\,p^k\\, q^{n-k}$$\n",
    "\n",
    "where\n",
    "\n",
    "$$C(n,k) \\equiv \\frac{n!}{k!\\left(n-k\\right)!}$$\n",
    "\n",
    "as we have seen in the course on the binomial distribution. $p$ is the probability that the outcome will be success and $q$ is the probability that it will be failure, thus $q = 1-p$.\n",
    "\n",
    "As is usual with statistics, we'll start pursuing a seemingly not related identity (\"let's begin by taking...\") and then in the end find out that it becomes a very practical solution to our needs.\n",
    "\n",
    "So, _let's begin by taking_ the expansion of $(p+q)^n$:\n",
    "\n",
    "$$(p+q)^n = \\sum_{k=0}^{n}{C(n,k)\\,p^k q^{n-k}}$$\n",
    "\n",
    "Check that this is just the binomial expansion, nothing fancy than for example: $(a+b)^2 = a^2 + 2ab + b^2$ or $(a+b)^3 = a^3 + 3a^2 b + 3a b^2 + b^3$, with the $C(n,k)$ coefficients being the coefficients of the Pascal's triangle. So it holds for **any** $a,b$ -- not just $p,q$ with $p+q=1$ (but we'll also exploit this fact later as well! 8)\n",
    "\n",
    "Now, _for some reason_, we undergo an irrestible sensation that we have to take the equation's derivative with respect to $p$ and further multiply it by $p$, to obtain:\n",
    "\n",
    "$$p \\frac{d}{dp}\\left[(p+q)^n = \\sum_{k=0}^{n}{C(n,k)\\,p^k q^{n-k}}\\right]\\\\\n",
    "p \\frac{d}{dp} (p+q)^n = p\\sum_{k=0}^{n}{k C(n,k)\\,p^{k-1} q^{n-k}}=\\sum_{k=0}^{n}{k C(n,k)\\,p^{k} q^{n-k}}\\\\\n",
    "np (p+q)^{n-1} = \\sum_{k=0}^{n}{k C(n,k)\\,p^{k} q^{n-k}}$$\n",
    "\n",
    "In the second row, we applied the $p$ times derivation to the right side, and the in the third row, we applied it to the left side. As we have written above, this equation is valid for any $p,q$. But we'll now take into account that, as $p+q=1$ through our definition of them as being the probabilities of one of the only two possible outcomes (\"binom\" -- remember?), so it becomes:\n",
    "\n",
    "$$np=\\sum_{k=0}^{n}{k P(k)}$$\n",
    "\n",
    "Which is the mean value of the distribution by definition (\"summing up the possible values multiplied by their probability\"), so:\n",
    "\n",
    "$$\\mu = <k> = \\bar{k} = np$$\n",
    "\n",
    "_In the limit $n\\rightarrow\\infty$, discrete $k$ values becomes continous $x$ values_"
   ]
  },
  {
   "cell_type": "markdown",
   "id": "593a761e",
   "metadata": {},
   "source": [
    "## Standard variation ($\\sigma$)\n",
    "We follow a similar path for the calculation of the variance and standard variation. In this case we take:\n",
    "\n",
    "\n",
    "$$p^2 \\frac{d^2}{dp^2}\\left[(p+q)^n = \\sum_{k=0}^{n}{C(n,k)\\,p^k q^{n-k}}\\right]\\\\\n",
    "n (n-1)p^2(p+q)^{n-2} = \\sum_{k=0}^{n}{k (k-1) C(n,k)\\,p^{k} q^{n-k}}$$\n",
    "\n",
    "\n",
    "Once again, the above equation will hold for any $p,q$, but further  applying the relation of $p+q=1$, we get:\n",
    "\n",
    "\n",
    "$$n (n-1)p^2 = \\sum_{k=0}^{n}{k^2 P(k)} - \\sum_{k=0}^{n}{k^ P(k)}$$\n",
    "\n",
    "\n",
    "From the definition of mean, we can equate the right side to $\\overline{x^2}$ and ${\\overline{x}}$, respectively, so:\n",
    "\n",
    "\n",
    "$$\\overline{x^2} = n (n-1)p^2 + np$$\n",
    "\n",
    "\n",
    "Hence, the variance and the standard variation turns out to be:\n",
    "\n",
    "\n",
    "$$\\sigma^2 = \\overline{x^2} - {\\overline{x}}^2 = n(n-1)p^2+np-n^2 p^2 = np (1 - p)$$\n",
    "\n",
    "\n",
    "Substituting $q = (1-p)$, we finally arrive at:\n",
    "\n",
    "\n",
    "$$\\sigma^2 = npq\\\\\n",
    "\\sigma = \\sqrt{npq}$$"
   ]
  },
  {
   "cell_type": "markdown",
   "id": "3d759d62",
   "metadata": {},
   "source": [
    "# Gaussian distribution, final form\n",
    "Checking out the derived distribution by taking $n\\rightarrow\\infty$ and thus allowing many possible $k$ values such that we switch from discrete $k$ values to _continous_ $x$ values, we have:\n",
    "\n",
    "$$P(x) =  \\frac{1}{\\sqrt{2\\pi npq}} e^{-(x-np)^2/2npq}$$\n",
    "\n",
    "Lo and behold! We see that there are $npq$s and $np$ lying around!!! We've already derived that the mean $\\mu = np$ and the variance $\\sigma^2 = npq$, so let's substitute them in the equation and we'll have:\n",
    "\n",
    "$$P(x) =  \\frac{1}{\\sqrt{2\\pi}\\sigma} e^{-(x-\\mu)^2/2\\sigma^2}$$\n",
    "\n",
    "We have seen that $\\mu$ and $\\sigma$ are the mean and standard deviations, and in addition, they are the two characteristic parameters that define a Gaussian distribution. $\\mu$ defines the location for the symmetry axis and $\\sigma$ determines the \"wideness\" or, the \"extensiveness\" of our distribution. As the total integral from $x=-\\infty$ to $x=\\infty$ must be equal to 1 (meaning that, the total probability that any one of the possible outcomes will be (will be, que sera, sera... 8)), for higher number of $\\sigma$, our distribution must _distribute_ itself to a wider range, thus lowering its maximum probabilities' values.\n",
    "\n",
    "Here are a couple of Gaussian distributions for a variety of $(\\mu,\\sigma)$ values:"
   ]
  },
  {
   "cell_type": "code",
   "execution_count": 4,
   "id": "299a46a4",
   "metadata": {},
   "outputs": [
    {
     "data": {
      "image/png": "[encoded data removed]",
      "text/plain": [
       "<Figure size 432x288 with 2 Axes>"
      ]
     },
     "metadata": {
      "filenames": {
       "image/png": "/stmp/code/books/FIZ371/_build/jupyter_execute/FIZ371_LN15_EST_Distributions_2_17_0.png"
      },
      "needs_background": "light"
     },
     "output_type": "display_data"
    },
    {
     "data": {
      "image/png": "[encoded data removed]",
      "text/plain": [
       "<Figure size 432x288 with 1 Axes>"
      ]
     },
     "metadata": {
      "filenames": {
       "image/png": "/stmp/code/books/FIZ371/_build/jupyter_execute/FIZ371_LN15_EST_Distributions_2_17_1.png"
      },
      "needs_background": "light"
     },
     "output_type": "display_data"
    },
    {
     "name": "stdout",
     "output_type": "stream",
     "text": [
      "---------------------------------------------\n"
     ]
    },
    {
     "data": {
      "image/png": "[encoded data removed]",
      "text/plain": [
       "<Figure size 432x288 with 2 Axes>"
      ]
     },
     "metadata": {
      "filenames": {
       "image/png": "/stmp/code/books/FIZ371/_build/jupyter_execute/FIZ371_LN15_EST_Distributions_2_17_3.png"
      },
      "needs_background": "light"
     },
     "output_type": "display_data"
    },
    {
     "data": {
      "image/png": "[encoded data removed]",
      "text/plain": [
       "<Figure size 432x288 with 1 Axes>"
      ]
     },
     "metadata": {
      "filenames": {
       "image/png": "/stmp/code/books/FIZ371/_build/jupyter_execute/FIZ371_LN15_EST_Distributions_2_17_4.png"
      },
      "needs_background": "light"
     },
     "output_type": "display_data"
    }
   ],
   "source": [
    "import numpy as np\n",
    "from scipy.stats import norm\n",
    "import matplotlib.pyplot as plt\n",
    "\n",
    "x = np.linspace(-5,15,200)\n",
    "\n",
    "# Our reference distribution with mu = 5, sigma=1\n",
    "g_5_1 = norm.pdf(x,loc=5,scale=1)\n",
    "\n",
    "# Same mean, different sigma\n",
    "g_5_2p5 = norm.pdf(x,loc=5,scale=2.5)\n",
    "\n",
    "fig, (ax1, ax2) = plt.subplots(1, 2)\n",
    "fig.suptitle(\"Same mean, different sigma\")\n",
    "ax1.plot(x,g_5_1,\"\",[5,5],[0,np.max(g_5_1)],\"r--\")\n",
    "ax2.plot(x,g_5_2p5,\"\",[5,5],[0,np.max(g_5_2p5)],\"r--\")\n",
    "plt.show()\n",
    "\n",
    "plt.plot(x,g_5_1,\"\",x,g_5_2p5,\"\",[5,5],[0,np.max(g_5_1)],\"r--\")\n",
    "plt.show()\n",
    "\n",
    "# ----------------------------------\n",
    "print(\"-\"*45)\n",
    "\n",
    "# Different mean, same sigma\n",
    "g_7_1 =  norm.pdf(x,loc=7,scale=1)\n",
    "fig, (ax1, ax2) = plt.subplots(1, 2)\n",
    "fig.suptitle(\"Different mean, same sigma\")\n",
    "ax1.plot(x,g_5_1,\"\",[5,5],[0,np.max(g_5_1)],\"r--\")\n",
    "ax2.plot(x,g_7_1,\"\",[7,7],[0,np.max(g_7_1)],\"r--\")\n",
    "plt.show()\n",
    "\n",
    "plt.plot(x,g_5_1,\"\",x,g_7_1,\"\",[5,5],[0,np.max(g_5_1)],\\\n",
    "         \"r--\",[7,7],[0,np.max(g_7_1)],\"r--\")\n",
    "plt.show()"
   ]
  },
  {
   "cell_type": "markdown",
   "id": "1d5e2145",
   "metadata": {},
   "source": [
    "Let's find out the value of a distribution when it's $\\sigma$ away from the mean:"
   ]
  },
  {
   "cell_type": "code",
   "execution_count": 5,
   "id": "92162b36",
   "metadata": {},
   "outputs": [
    {
     "name": "stdout",
     "output_type": "stream",
     "text": [
      "P(x|5,1): Max probability (at x = mu = 5, of course)  : 0.39894\n",
      "P(x|5,1): Probability at x = mu ± sigma : 0.24197\n",
      "Ratio of P(x=mu)/P(x=mu±sigma): 1.648721270700128\n",
      "---------------------------------------------\n",
      "P(x|5,2.5): Max probability (at x = mu = 5, of course): 0.15958\n",
      "P(x|5,2.5): Probability at x = mu ± sigma : 0.09679\n",
      "Ratio of P(x=mu)/P(x=mu±sigma): 1.648721270700128\n"
     ]
    }
   ],
   "source": [
    "import numpy as np\n",
    "from scipy.stats import norm\n",
    "import matplotlib.pyplot as plt\n",
    "\n",
    "x = np.linspace(-5,15,200)\n",
    "\n",
    "# Our reference distribution with mu = 5, sigma=1\n",
    "g_5_1 = norm.pdf(x,loc=5,scale=1)\n",
    "print(\"P(x|5,1): Max probability (at x = mu = 5, of course)  : %.5f\"%norm.pdf(5,loc=5,scale=1))\n",
    "g_5_1_sigma = 1\n",
    "print(\"P(x|5,1): Probability at x = mu \"+u\"\\u00B1\"+\" sigma : %.5f\"%norm.pdf(5-1,loc=5,scale=1))\n",
    "print(\"Ratio of P(x=mu)/P(x=mu\"+u\"\\u00B1\"+\"sigma): %.15f\"%(norm.pdf(5,loc=5,scale=1)/norm.pdf(5-1,loc=5,scale=1)))\n",
    "\n",
    "print(\"-\"*45)\n",
    "\n",
    "# Same mean, different sigma\n",
    "g_5_2p5 = norm.pdf(x,loc=5,scale=2.5)\n",
    "print(\"P(x|5,2.5): Max probability (at x = mu = 5, of course): %.5f\"%norm.pdf(5,loc=5,scale=2.5))\n",
    "print(\"P(x|5,2.5): Probability at x = mu \"+u\"\\u00B1\"+\" sigma : %.5f\"%norm.pdf(5-2.5,loc=5,scale=2.5))\n",
    "print(\"Ratio of P(x=mu)/P(x=mu\"+u\"\\u00B1\"+\"sigma): %.15f\"%(norm.pdf(5,loc=5,scale=2.5)/norm.pdf(5-2.5,loc=5,scale=2.5)))"
   ]
  },
  {
   "cell_type": "markdown",
   "id": "679da215",
   "metadata": {},
   "source": [
    "So, the standard deviation has the property such that when you travel sigma away from the mean value, the probability decreases \"1.648721270700128\"th of the maximum value. \n",
    "\n",
    "_Does_ <u>1.648721270700128</u> _seem familiar?_ No?.. Then how about:\n",
    "\n",
    "`2.718281828459045`\n",
    "\n",
    "Yes, that's the most famous [Euler's number](https://en.wikipedia.org/wiki/E_(mathematical_constant)), _e_ (as in $\\exp$). Let's take its root:"
   ]
  },
  {
   "cell_type": "code",
   "execution_count": 6,
   "id": "36bc8914",
   "metadata": {},
   "outputs": [
    {
     "name": "stdout",
     "output_type": "stream",
     "text": [
      "     e  = 2.718281828459045\n",
      "sqrt(e) = 1.648721270700128\n"
     ]
    }
   ],
   "source": [
    "print(\"     e  = %.15f\"%np.exp(1))\n",
    "print(\"sqrt(e) = %.15f\"%np.exp(0.5))"
   ]
  },
  {
   "cell_type": "markdown",
   "id": "2445cbdc",
   "metadata": {},
   "source": [
    "![JamesHence_Beaker_Scream.jpg](images/JamesHence_Beaker_Scream.jpg)\n",
    "(James Hence - \"The Meep\")\n",
    "\n",
    "![mindblown.jpg](images/mindblown.jpg)\n",
    "[Mindblown!!!](https://www.youtube.com/watch?v=9CS7j5I6aOc)"
   ]
  },
  {
   "cell_type": "markdown",
   "id": "06759052",
   "metadata": {},
   "source": [
    "So, for a Gaussian distribution, we can alternatively define the standard deviation as the distance from the mean where the probability decreases to $\\frac{1}{\\sqrt{e}}$ of its maximum value."
   ]
  },
  {
   "cell_type": "markdown",
   "id": "fe8c6092",
   "metadata": {},
   "source": [
    "**Duh?...**\n",
    "\n",
    "Let's proceed from math's point of view, using the Gaussian distribution formula:\n",
    "\n",
    "$$P(x) =  \\frac{1}{\\sqrt{2\\pi}\\sigma} e^{-(x-\\mu)^2/2\\sigma^2}$$\n",
    "\n",
    "at $x = \\mu$, this becomes:\n",
    "\n",
    "$$\n",
    "\\begin{align*}\n",
    "P(\\mu) &=  \\frac{1}{\\sqrt{2\\pi}\\sigma} e^{-(\\mu-\\mu)^2/2\\sigma^2}\\\\\n",
    "&=\\frac{1}{\\sqrt{2\\pi}\\sigma} e^{0}\\\\\n",
    "&=\\frac{1}{\\sqrt{2\\pi}\\sigma}\n",
    "\\end{align*}$$\n",
    "\n",
    "What about the probability when $x = \\mu\\pm\\sigma$?\n",
    "\n",
    "$$\\begin{align*}\n",
    "P(\\mu\\pm\\sigma) &=  \\frac{1}{\\sqrt{2\\pi}\\sigma} e^{-(\\mu\\pm\\sigma-\\mu)^2/2\\sigma^2}\\\\\n",
    "&=\\frac{1}{\\sqrt{2\\pi}\\sigma}e^{-\\sigma^2/2\\sigma^2} =\\frac{1}{\\sqrt{2\\pi}\\sigma}e^{-1/2}\\\\\n",
    "&=\\frac{1}{\\sqrt{2\\pi}\\sigma}\\frac{1}{\\sqrt{e}}\n",
    "\\end{align*}$$\n",
    "\n",
    "Thus:\n",
    "\n",
    "$$\\frac{P(\\mu)}{P(\\mu\\pm\\sigma)} = \\frac{\\frac{1}{\\sqrt{2\\pi}\\sigma}}{\\frac{1}{\\sqrt{2\\pi}\\sigma}\\frac{1}{\\sqrt{e}}}=\\sqrt{e}$$\n",
    "\n",
    "Now it doesn't seem to be so mindblowing but just a boring (and an obvious) derivation... but remember, this is _just_ maths. We will be doing physics and modeling, so it's more important to pay attention to the <u>meaning</u> of the $\\sigma$ than what it does on a dull mathematical formula (it's similar to the information transferred by saying \"the magnitude of the space a circle covers is equal to $\\pi r^2$\" than simply writing a general and vague math equation of $\\pi r^2$ which can mean anything and nothing)."
   ]
  },
  {
   "cell_type": "markdown",
   "id": "65748dbc",
   "metadata": {},
   "source": [
    "# Application: The Six $\\sigma$\n",
    "I recommend you to stop reading at this instant and google for \"[the six sigma](https://www.google.com/search?q=the+six+sigma&oq=the+six+sigma&hl=en)\". Most of the results you are going to fine will be <strike>stupid</strike> self-pompitous \"excel yourself, reach the skies bla bla...\" junk sites but their root lies on pure statistics. Here is how.\n",
    "\n",
    "So, let's start once again with a nice Gaussian distribution characterized by $\\mu = 5$ & $\\sigma = 2.5$ $\\Rightarrow P(x|\\mu=5,\\sigma=2.5)$:"
   ]
  },
  {
   "cell_type": "code",
   "execution_count": 7,
   "id": "90fcb73b",
   "metadata": {},
   "outputs": [
    {
     "data": {
      "image/png": "[encoded data removed]",
      "text/plain": [
       "<Figure size 432x288 with 1 Axes>"
      ]
     },
     "metadata": {
      "filenames": {
       "image/png": "/stmp/code/books/FIZ371/_build/jupyter_execute/FIZ371_LN15_EST_Distributions_2_26_0.png"
      },
      "needs_background": "light"
     },
     "output_type": "display_data"
    }
   ],
   "source": [
    "import numpy as np\n",
    "from scipy.stats import norm\n",
    "import matplotlib.pyplot as plt\n",
    "\n",
    "x = np.linspace(-5,15,200)\n",
    "\n",
    "# Our reference distribution with mu = 5, sigma=1\n",
    "g_5_2p5 = norm.pdf(x,loc=5,scale=2.5)\n",
    "\n",
    "plt.plot(x,g_5_2p5)\n",
    "plt.show()"
   ]
  },
  {
   "cell_type": "markdown",
   "id": "8ec90087",
   "metadata": {},
   "source": [
    "Since our distribution is normalized, when we calculate the integral:\n",
    "\n",
    "$$I=\\int_{-\\infty}^{\\infty}{P(x|\\mu=5,\\sigma=2.5)\\, dx}$$\n",
    "\n",
    "we expect to find 1."
   ]
  },
  {
   "cell_type": "code",
   "execution_count": 8,
   "id": "9387a88b",
   "metadata": {},
   "outputs": [
    {
     "name": "stdout",
     "output_type": "stream",
     "text": [
      "I = 1.00000\n"
     ]
    }
   ],
   "source": [
    "import numpy as np\n",
    "from scipy import integrate\n",
    "\n",
    "G = lambda x: norm.pdf(x,loc=5,scale=2.5)\n",
    "[I,err] = integrate.quad(G,-np.inf,np.inf)\n",
    "print(\"I = %.5f\"%I)"
   ]
  },
  {
   "cell_type": "markdown",
   "id": "257e7d5e",
   "metadata": {},
   "source": [
    "This time, let's gradually integrate our distribution \\[from $(\\mu - n\\cdot\\sigma)$ to $\\left(\\mu - \\left(n-1\\right)\\cdot\\sigma\\right)\n",
    "$\\] + \\[from $\\left(\\mu + \\left(n-1\\right)\\cdot\\sigma\\right)$ to $(\\mu + n\\cdot\\sigma)$] with $n = 1\\dotsc7$, i.e., \n",
    "\n",
    "$$\\int_{\\mu-n\\sigma}^{\\mu-(n-1)\\sigma}{P(x|\\mu,\\sigma)\\, dx} + \\int_{\\mu+(n-1)\\sigma}^{\\mu+n\\sigma}{P(x|\\mu,\\sigma)\\, dx}$$"
   ]
  },
  {
   "cell_type": "code",
   "execution_count": 9,
   "id": "86ed3196",
   "metadata": {},
   "outputs": [
    {
     "name": "stdout",
     "output_type": "stream",
     "text": [
      "n:1 - Range: [μ-1σ,μ] U [μ,μ+1σ]\n",
      " --> I U I = 2*0.3413447461 = 0.6826894921 (I_Tot = 0.682689492137086)\n",
      "n:2 - Range: [μ-2σ,μ] U [μ,μ+2σ]\n",
      " --> I U I = 2*0.1359051220 = 0.2718102440 (I_Tot = 0.954499736103642)\n",
      "n:3 - Range: [μ-3σ,μ] U [μ,μ+3σ]\n",
      " --> I U I = 2*0.0214002339 = 0.0428004678 (I_Tot = 0.997300203936740)\n",
      "n:4 - Range: [μ-4σ,μ] U [μ,μ+4σ]\n",
      " --> I U I = 2*0.0013182268 = 0.0026364536 (I_Tot = 0.999936657516334)\n",
      "n:5 - Range: [μ-5σ,μ] U [μ,μ+5σ]\n",
      " --> I U I = 2*0.0000313846 = 0.0000627692 (I_Tot = 0.999999426696856)\n",
      "n:6 - Range: [μ-6σ,μ] U [μ,μ+6σ]\n",
      " --> I U I = 2*0.0000002857 = 0.0000005713 (I_Tot = 0.999999998026825)\n",
      "n:7 - Range: [μ-7σ,μ] U [μ,μ+7σ]\n",
      " --> I U I = 2*0.0000000010 = 0.0000000020 (I_Tot = 0.999999999997440)\n"
     ]
    }
   ],
   "source": [
    "import numpy as np\n",
    "from scipy import integrate\n",
    "\n",
    "mean = 5\n",
    "sigma = 2.5\n",
    "G = lambda x: norm.pdf(x,loc=mean,scale=sigma)\n",
    "I_tot = 0\n",
    "for n in range(1,8):\n",
    "    [I,err] = integrate.quad(G,mean-n*sigma,mean-(n-1)*sigma)\n",
    "    I_tot += 2*I\n",
    "    print(\"n:%d - Range: [μ-%dσ,μ] U [μ,μ+%dσ]\\n --> I U I = 2*%.10f = %.10f (I_Tot = %.15f)\"%(n,n,n,I,2*I,I_tot))"
   ]
  },
  {
   "cell_type": "markdown",
   "id": "603b2fa7",
   "metadata": {},
   "source": [
    "Formatting the output:\n",
    "\n",
    "|$n$ | $P(x\\in \\mathfrak{R}_A)$ |$P(x\\in \\mathfrak{R}_B)$|$P(x\\in \\mathfrak{R}_C)$\n",
    "----|----|----|----\n",
    "1|34.1%|68.2%|68.27%\n",
    "2|13.6%|27.2%|95.45%\n",
    "3|2.14%|4.3%|99.73%\n",
    "4|0.13%|0.26%|99.994%\n",
    "5|0.003%|0.006%|99.99994%\n",
    "6|0.00003%|0.00006|99.9999998%\n",
    "7|0.00000010%|0.00000020|99.9999999997%\n",
    "\n",
    "where the ranges in the probabilities are defined as:\n",
    "\n",
    "$\\mathfrak{R}_A: x \\in \\left[\\mu - n \\sigma,\\,\\mu - (n-1) \\sigma\\right]$ \n",
    "$\\mathfrak{R}_B: x \\in \\left[\\mu-n\\sigma,\\,\\mu-(n-1)\\sigma\\right] \\cup \\left[\\mu+(n-1)\\sigma,\\,\\mu+n\\sigma\\right]$  \n",
    "$\\mathfrak{R}_C: x \\in \\left[\\mu-n\\sigma,\\,\\mu+n\\sigma\\right]$"
   ]
  },
  {
   "cell_type": "markdown",
   "id": "431992ef",
   "metadata": {},
   "source": [
    "They look cool, but what's the meaning of these? \n",
    "\n",
    "* Let's start with the last range, $P(x \\in \\mathfrak{R}_C)$: It is the probability that an event randomly choosen from the given distribution will be within (upto) the $[\\mu-n\\sigma,\\mu+n\\sigma]$ range.  \n",
    "\n",
    "  For example, if we randomly draw a number from a Gaussian distribution with $\\mu = 5$ and $\\sigma = 2.5$, the probability that the number we get will be in between -2.5 and 12.5 is 99.73% $(n=3:\\;(\\mu-3\\sigma = 5-3\\times2.5=-2.5) \\quad\\&\\quad(\\mu+3\\sigma = 5+3\\times2.5=12.5) )$.\n",
    "\n",
    "* First range, $P(x \\in \\mathfrak{R}_A)$ lists the exclusive probability that the randomly drawn number will belong to the exclusive interval between $\\mu - n \\sigma$ and $\\mu - (n-1) \\sigma$. \n",
    "\n",
    "  _(As the distribution is symmetric (even) around $\\mu$, this is also equal to the probability of the number being from the $[\\mu+(n-1)\\sigma,\\,\\mu+n\\sigma]$ interval)_\n",
    "  \n",
    "  So, for example, if we once again consider $n=3$, the probability that a randomly drawn number from our distribution to be from $[5-3\\times 2.5,\\,5-2\\times 2.5]=[-2.5,\\,0]$ _(or equivalently from $[5+2\\times 2.5,\\,5+3\\times 2.5]= [10,\\,12.5]$)_ is 2.14%\n",
    "  \n",
    "* And finally, the 2nd column gives the probability that the randomly chosen value will be either to the left or to the right of the mean by $(n-1)\\sigma$ to $n\\sigma$.\n",
    "  \n",
    "  In our example ($n=3$) this means that, the randomly chosen value will be either between $5-7.5\\dotsc5-5 = -2.5\\dotsc0$ **or** between $5+5\\dotsc5+7.5=10\\dotsc12.5$ with a probability of 4.3%"
   ]
  },
  {
   "cell_type": "markdown",
   "id": "feaad71a",
   "metadata": {},
   "source": [
    "![6sigmas.png](images/6sigmas.png)\n",
    "(Experimental Design - From User Studies to Psychophysics by Cunningham & Wallraven)"
   ]
  },
  {
   "cell_type": "markdown",
   "id": "4486f9d9",
   "metadata": {},
   "source": [
    "But, really, what does this mean? Take nanotechnology lab for example, let's assume they are producing very refined nanotubes on demand. Due to the comptetition, their profit margin is really cut and it means that they really have to be careful. They have received an order of 1μg C(9,9) armchair type carbon nanotubes. Due to their production methods, there is a chance that some other types of nanotubes (like C(10,10) or C(9,8), etc..) can exist in the process, reducing the pureness. As long as they are working in the 2σ range, it's OK. There is a 68% chance that the outcome will be within the desired pureness. The erroneous nanotubes can be C(9,8) (lower in diameter) or C(10,10) (greater in diameter), but as long as their ratio is 13.6% it's also acceptable. But what is not acceptable is when the radii are greated than C(10,10)s (then they clog the vessel) or lower than C(9,8) (where they slip through the pores in the material). So this means that a 2σ precision/quality is required.\n",
    "\n",
    "In another example: consider the following news back from the days when the evasive Higgs' Boson was found. They were \"99.99994%\" sure (or \"5 sigmas\" as it was declared in the official announcement):\n",
    "\n",
    "[\"We observe in our data clear signs of a new particle, at the level of 5 sigma, in the mass region around 126 GeV.\"](https://cds.cern.ch/record/1459454?ln=en)\n",
    "\n",
    "(You can also check [What does the 5 sigma mean?](http://www.physics.org/article-questions.asp?id=103))"
   ]
  },
  {
   "cell_type": "markdown",
   "id": "9c06d840",
   "metadata": {},
   "source": [
    "# A code of our own: Deriving the $\\sigma$ distribution ratios stochastically\n",
    "One of the questions in the final exam of (20191's) FIZ353 : Numerical Analysis course was:\n",
    "\n",
    "_Show that when N is sufficiently great (~10000), for an ideal Gaussian distribution the number of the elements within the  $\\sigma$ neighborhood of the mean constitute around 68.2% of the total; those lying within $\\sigma$ and  $2\\sigma$ constitute 13.6% of the total and between $2\\sigma$ and  $3\\sigma$ amounts to 2.1% of the total._\n",
    "\n",
    "In the above, we've derived these numbers/ratios via integration but we can also do it stochastically, i.e., by drawing random numbers from a Gaussian distribution and then analyzing their range frequencies, so let's do that!"
   ]
  },
  {
   "cell_type": "markdown",
   "id": "bd898e11",
   "metadata": {},
   "source": [
    "1. Define a Gaussian distribution by specifying $\\mu$ and $\\sigma$.\n",
    "2. Draw $N$ random values to build a set.\n",
    "3. Calculate the mean and standard deviation of this set (they will be close to but not exactly the same as the ones we specified in step 1 -- why is that?)\n",
    "4. Count the number of elements ($n_i$) in the set for each one of the intervals mean -- n x stddev (and also $\\mu$ -- $n\\times\\sigma$ - which one of these two is better?).\n",
    "5. Divide $\\{n_i\\}$ to $N$ to find the probabilities -- multiply them by 100 if you want to write them in '%' notation."
   ]
  },
  {
   "cell_type": "code",
   "execution_count": 10,
   "id": "7b31b1ff",
   "metadata": {},
   "outputs": [
    {
     "name": "stdout",
     "output_type": "stream",
     "text": [
      "Calculated mean: 50.07108 | std dev: 6.97154\n",
      "\n",
      "[-3*sigma+mu,-2*sigma+mu) [ 29.0000, 36.0000]\n",
      "\t        using (μ,σ):  0.022 (2.170%)\n",
      "\tusing (mean,stddev):  0.023 (2.260%)\n",
      "---------------------------------------------\n",
      "[-2*sigma+mu,-1*sigma+mu) [ 36.0000, 43.0000]\n",
      "\t        using (μ,σ):  0.133 (13.280%)\n",
      "\tusing (mean,stddev):  0.135 (13.510%)\n",
      "---------------------------------------------\n",
      "[-1*sigma+mu, 1*sigma+mu) [ 43.0000, 57.0000]\n",
      "\t        using (μ,σ):  0.686 (68.610%)\n",
      "\tusing (mean,stddev):  0.684 (68.420%)\n",
      "---------------------------------------------\n",
      "[ 1*sigma+mu, 2*sigma+mu) [ 57.0000, 64.0000]\n",
      "\t        using (μ,σ):  0.136 (13.600%)\n",
      "\tusing (mean,stddev):  0.135 (13.480%)\n",
      "---------------------------------------------\n",
      "[ 2*sigma+mu, 3*sigma+mu) [ 64.0000, 71.0000]\n",
      "\t        using (μ,σ):  0.020 (1.980%)\n",
      "\tusing (mean,stddev):  0.020 (1.970%)\n",
      "---------------------------------------------\n"
     ]
    }
   ],
   "source": [
    "import numpy as np\n",
    "\n",
    "# Fixing the seed so that the results are repeatable\n",
    "np.random.seed(371)\n",
    "mu = 50\n",
    "sigma = 7\n",
    "\n",
    "N = 10000\n",
    "gauss_data = np.random.normal(mu, sigma, N)\n",
    "\n",
    "mean = np.mean(gauss_data)\n",
    "stddev =np.std(gauss_data)\n",
    "\n",
    "print(\"Calculated mean: %.5f | std dev: %.5f\\n\"%(mean,stddev))\n",
    "\n",
    "RANGE = [-3,-2,-1,1,2,3]\n",
    "\n",
    "for n in range(len(RANGE)-1):\n",
    "    print(\"[%2d*sigma+mu,%2d*sigma+mu) \"%(RANGE[n],RANGE[n+1]),end=\"\")\n",
    "    lim1 = mu+RANGE[n]*sigma;\n",
    "    lim2 = mu+RANGE[n+1]*sigma;\n",
    "    lim1B = mean+RANGE[n]*stddev;\n",
    "    lim2B = mean+RANGE[n+1]*stddev;\n",
    "    print(\"[%8.4f,%8.4f]\"%(lim1,lim2))\n",
    "    n_i = sum((gauss_data>=lim1) & (gauss_data<lim2))\n",
    "    n_iB = sum((gauss_data>=lim1B) & (gauss_data<lim2B))\n",
    "    print(\"\\t        using (μ,σ): %6.3f (%.3f%%)\"%(n_i/N,n_i/N*100))\n",
    "    print(\"\\tusing (mean,stddev): %6.3f (%.3f%%)\"%(n_iB/N,n_iB/N*100))\n",
    "    print(\"-\"*45)"
   ]
  },
  {
   "cell_type": "markdown",
   "id": "8a78a958",
   "metadata": {},
   "source": [
    "# Poisson Distribution\n",
    "When we took the limit of the number of possible outcomes through a binomial decision tree (i.e., drastically increased the levels of the Galton machine), we arrived to Gaussian (normal) distribution. We mentioned that, the Gaussian distribution was the way nature worked around: there is a most likely defined average (mean) and then the further you moved away from this average, the less probable you'd encounter a specimen from that region. For instance: let the average height of adult Turkish females be 1.63m[*](http://www.cumhuriyet.com.tr/haber/iste-turkiyedeki-ortalama-erkek-ve-kadin-boyu-864030). This means that we'll likely find many people between 1.60m - 1.65m alas not that many with heights around 1.30m. Or if the average of the grades in regard to an exam is 45% -- we don't expect many people with a grade higher than 80%. These are all normally expected outcomes and it comes to us naturally.\n",
    "\n",
    "But there are cases when the probability of something occuring is very low, like a plane crashing or a harddisk recently out of the factory to malfunction or a radioactive element's decay within a short time margin. For these kinds of situations we once again begin from binomial distribution but this time we take the probability to be very low such that aside from the $n\\rightarrow\\infty$, we now also have the limit: $p\\rightarrow0$). Since the first is very high and the latter very low, it is sufficient that their product is some finit number (which we'll refer to as $\\lambda\\; (np \\rightarrow \\lambda > 0$).\n",
    "\n",
    "For our derivation, let's start once again by this wonderful intution to take the limit of $y=(1-p)^{1/p}$ as $p\\rightarrow 0$:\n",
    "\n",
    "$$\\lim_{p\\rightarrow0}{\\ln y} = \\lim_{p\\rightarrow0}{\\frac{\\ln (1-p)}{p}}=\\lim_{p\\rightarrow0}{\\frac{-1/(1-p)}{1}}=-1$$\n",
    "\n",
    "where we applied [L'Hospital's Rule](https://en.wikipedia.org/wiki/L%27H%C3%B4pital%27s_rule) to evaluate the limit. Now that we know $\\lim_{p\\rightarrow0}{\\ln y} = -1$, we can exponentiate both sides to yield $\\lim_{p\\rightarrow0}{y}$:\n",
    "\n",
    "$$\\lim_{p\\rightarrow0}{y}=\\lim_{p\\rightarrow0}{(1-p)^{1/p}} = e^{-1}$$\n",
    "\n",
    "Why we did these? We'll see in a minute (I really hate this \"pre-derivations out of nowhere\" 8P).\n",
    "\n",
    "Now we all know that, the probability of an outcome with a probability $p$, happening $k$ times out of $n$ drawings/choosings is given by the binomial distributions:\n",
    "\n",
    "$$\\begin{align*}P(k) &= C(n,k)\\, p^k (1-p)^{n-k} = \\frac{n!}{k!\\left(n-k\\right)!} p^k (1-p)^{n-k}\\\\&= \\frac{n(n-1)\\dotsc(n-k+1)}{k!} \\frac{p^k(1-p)^n}{(1-p)^k}\\\\\n",
    "&=\\frac{(np)^k}{k!}\\left(\\frac{n-1}{n}\\right)\\dotsc \\left(\\frac{n-k+1}{n}\\right)\\frac{\\left[(1-p)^{1/p}\\right]^{np}}{(1-p)^k}\n",
    "\\end{align*}$$\n",
    "\n",
    "As $n\\rightarrow\\infty$: \n",
    "\n",
    "$$\\lim_{n\\rightarrow\\infty}{\\frac{n-\\#}{n}}=1$$\n",
    "\n",
    "where $\\#$ is a finite number. \n",
    "\n",
    "Also, as $p\\rightarrow0$:\n",
    "\n",
    "$$\\lim_{p\\rightarrow0}{\\frac{1}{(1-p)^k}} = \\frac{1}{1^k} = 1$$\n",
    "\n",
    "\n",
    "So taking the limit of $P(k)$ and also substituting $\\lambda = np$ in this limit, we have:\n",
    "\n",
    "$$\\lim_{n\\rightarrow\\infty\\\\p\\rightarrow0}{P(k)}=\\frac{\\lambda^k \\left(e^{-1}\\right)^\\lambda}{k!}=\\frac{\\lambda^k e^{-\\lambda}}{k!}$$\n",
    "\n",
    "where we used the identity $\\lim_{p\\rightarrow0}{(1-p)^{1/p}} = e^{-1}$ we derived in the beginning of this section.\n",
    "\n",
    "This probability distribution function:\n",
    "\n",
    "$$P(k) = \\frac{\\lambda^k e^{-\\lambda}}{k!}$$\n",
    "\n",
    "that describes the probability of a very-low chance outcome ($p\\rightarrow0$) happening k times out of a very high (practically infinite) number of drawings/tries/choosings ($n\\rightarrow\\infty$) is called as the **Poisson Distribution**."
   ]
  },
  {
   "cell_type": "markdown",
   "id": "53d093c2",
   "metadata": {},
   "source": [
    "## Assignment / HW : mean and variance of Poisson distribution\n",
    "Show that the mean value and the variance of a Poisson distribution, characterized by a $\\lambda$ parameter, are as follows:\n",
    "* $\\mu = \\lambda$\n",
    "* $\\sigma^2 = \\lambda$"
   ]
  },
  {
   "cell_type": "markdown",
   "id": "c1adce47",
   "metadata": {},
   "source": [
    "## Example: Airplane accidents\n",
    "On every $10^{12}$ flight miles, an accident occurs on average.\n",
    "\n",
    "What is the probability of an accident happening up to:  \n",
    "    a) $10^9$ flight miles?  \n",
    "    b) $10^{13}$ flight miles?"
   ]
  },
  {
   "cell_type": "markdown",
   "id": "e7aaa77e",
   "metadata": {},
   "source": [
    "**Solution**  \n",
    "$p = 1/10^{12} = 10^{-12}$ (hence, very very low)\n",
    "\n",
    "a) $n = 10^9$ (very very high)\n",
    "\n",
    "$$\\lambda = n\\,p=10^9.\\,10^{-12} = 10^{-3}$$\n",
    "\n",
    "probability that no accident happens: $k = 0$ (k: # of accidents)\n",
    "\n",
    "$$P(k=0) = \\frac{e^{-\\lambda}\\lambda^k}{k!} = \\frac{\\left(e^{-\\left(10^{-3}\\right)}\\right)\\left(10^{-3}\\right)^0}{0!} = 0.999$$"
   ]
  },
  {
   "cell_type": "code",
   "execution_count": 11,
   "id": "8d84157c",
   "metadata": {},
   "outputs": [
    {
     "name": "stdout",
     "output_type": "stream",
     "text": [
      "0.999000499833375\n"
     ]
    }
   ],
   "source": [
    "P_0 = np.exp(-(10**-3))\n",
    "print(P_0)"
   ]
  },
  {
   "cell_type": "markdown",
   "id": "3c27a6a1",
   "metadata": {},
   "source": [
    "That was the probability that no accident occurs. Thus, the probability that -at least- an accident occurs will be:  \n",
    "1 - (probability that no accident occurs)  \n",
    "= 1 - 0.999000499 = 0.0009995"
   ]
  },
  {
   "cell_type": "code",
   "execution_count": 12,
   "id": "a38ae8dc",
   "metadata": {},
   "outputs": [
    {
     "name": "stdout",
     "output_type": "stream",
     "text": [
      "0.000999500166624978\n"
     ]
    }
   ],
   "source": [
    "P_1 = 1 - P_0\n",
    "print(P_1)"
   ]
  },
  {
   "cell_type": "markdown",
   "id": "968ddf41",
   "metadata": {},
   "source": [
    "b) \n",
    "\n",
    "$$\\lambda = 10^{13}.\\,10^{-12} = 10^1\\\\\n",
    "P(k=0) = \\frac{\\left(e^{-\\left(10\\right)}\\right)\\left(10^{-1}\\right)^0}{0!} = 0.0000454$$\n",
    "\n",
    "The probability that -at least- an accident occurs will be:  \n",
    "1 - (probability that no accident occurs)  \n",
    "= 1 - 0.0000454 = 0.99995"
   ]
  },
  {
   "cell_type": "code",
   "execution_count": null,
   "id": "22cc7fd0",
   "metadata": {},
   "outputs": [],
   "source": []
  }
 ],
 "metadata": {
  "jupytext": {
   "formats": "ipynb,md:myst",
   "text_representation": {
    "extension": ".md",
    "format_name": "myst",
    "format_version": 0.13,
    "jupytext_version": "1.11.5"
   }
  },
  "kernelspec": {
   "display_name": "Python 3 (ipykernel)",
   "language": "python",
   "name": "python3"
  },
  "language_info": {
   "codemirror_mode": {
    "name": "ipython",
    "version": 3
   },
   "file_extension": ".py",
   "mimetype": "text/x-python",
   "name": "python",
   "nbconvert_exporter": "python",
   "pygments_lexer": "ipython3",
   "version": "3.8.5"
  },
  "source_map": [
   13,
   33,
   38,
   100,
   104,
   108,
   114,
   118,
   126,
   142,
   160,
   172,
   193,
   203,
   209,
   249,
   283,
   298,
   334,
   338,
   359,
   369,
   372,
   380,
   384,
   415,
   422,
   434,
   442,
   449,
   456,
   468,
   488,
   506,
   511,
   521,
   530,
   538,
   568,
   614,
   621,
   630,
   643,
   646,
   652,
   655,
   666
  ]
 },
 "nbformat": 4,
 "nbformat_minor": 5
}