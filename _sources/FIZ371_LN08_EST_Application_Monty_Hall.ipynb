{
 "cells": [
  {
   "cell_type": "markdown",
   "id": "f711574a",
   "metadata": {},
   "source": [
    "# Monty Hall Problem\n",
    "**FIZ371 - Scientific & Technical Calculations | 08/03/2021**\n",
    "\n",
    "Emre S. Tasci <emre.tasci@hacettepe.edu.tr>"
   ]
  },
  {
   "cell_type": "code",
   "execution_count": 1,
   "id": "df71e8ba",
   "metadata": {},
   "outputs": [],
   "source": [
    "import numpy as np\n",
    "import random\n",
    "\n",
    "N = 100000\n",
    "\n",
    "#np.random.seed(371)"
   ]
  },
  {
   "cell_type": "markdown",
   "id": "a939c320",
   "metadata": {},
   "source": [
    "# 3 doors, 1 door is opened"
   ]
  },
  {
   "cell_type": "code",
   "execution_count": 2,
   "id": "aeec6814",
   "metadata": {},
   "outputs": [],
   "source": [
    "tries = np.random.randint(1,4,(N,5))\n",
    "tries[:,2:5] = 0\n",
    "\n",
    "# 0th col: Door with the prize\n",
    "# 1st col: Door that the contestant has chosen\n",
    "# 2nd col: Door that Monty opens\n",
    "# 3rd col: 1 if the user wins by sticking, 0 otherwise\n",
    "# 4th col: 1 if the user wins by switching, 0 otherwise"
   ]
  },
  {
   "cell_type": "code",
   "execution_count": 3,
   "id": "cc26b53c",
   "metadata": {},
   "outputs": [],
   "source": [
    "# tries"
   ]
  },
  {
   "cell_type": "code",
   "execution_count": 4,
   "id": "73c21ec7",
   "metadata": {},
   "outputs": [],
   "source": [
    "filt = tries[:,0]==tries[:,1]"
   ]
  },
  {
   "cell_type": "code",
   "execution_count": 5,
   "id": "29bc0bdc",
   "metadata": {},
   "outputs": [],
   "source": [
    "#tries[filt]"
   ]
  },
  {
   "cell_type": "code",
   "execution_count": 6,
   "id": "65409503",
   "metadata": {},
   "outputs": [],
   "source": [
    "for i in np.array(range(N))[filt]:\n",
    "    possible = np.array([1,2,3])\n",
    "    possible = possible[possible != tries[i,0]]\n",
    "    tries[i,2] = random.choice(possible)\n",
    "\n",
    "for i in np.array(range(N))[filt]:\n",
    "    possible = np.array([1,2,3])\n",
    "    possible = possible[possible != tries[i,0]]\n",
    "    tries[i,3] = 1"
   ]
  },
  {
   "cell_type": "code",
   "execution_count": 7,
   "id": "4cfde3cf",
   "metadata": {},
   "outputs": [],
   "source": [
    "nfilt = np.invert(filt)"
   ]
  },
  {
   "cell_type": "code",
   "execution_count": 8,
   "id": "d7cff779",
   "metadata": {},
   "outputs": [],
   "source": [
    "#tries[nfilt]"
   ]
  },
  {
   "cell_type": "code",
   "execution_count": 9,
   "id": "6df7e719",
   "metadata": {},
   "outputs": [],
   "source": [
    "for i in np.array(range(N))[nfilt]:\n",
    "    possible = np.array([1,2,3])\n",
    "    possible = possible[possible != tries[i,0]]\n",
    "    possible = possible[possible != tries[i,1]]\n",
    "    tries[i,2] = possible[0]\n",
    "    tries[i,4] = 1"
   ]
  },
  {
   "cell_type": "code",
   "execution_count": 10,
   "id": "80ab45b0",
   "metadata": {},
   "outputs": [
    {
     "data": {
      "text/plain": [
       "array([[1, 1, 3, 1, 0],\n",
       "       [1, 2, 3, 0, 1],\n",
       "       [1, 1, 3, 1, 0],\n",
       "       ...,\n",
       "       [3, 1, 2, 0, 1],\n",
       "       [1, 1, 3, 1, 0],\n",
       "       [1, 1, 2, 1, 0]])"
      ]
     },
     "execution_count": 10,
     "metadata": {},
     "output_type": "execute_result"
    }
   ],
   "source": [
    "tries"
   ]
  },
  {
   "cell_type": "code",
   "execution_count": 11,
   "id": "6463524b",
   "metadata": {},
   "outputs": [
    {
     "name": "stdout",
     "output_type": "stream",
     "text": [
      "# of total wins if sticks  : 33075 [prob: 0.33075]\n",
      "# of total wins if switches: 66925 [prob: 0.66925]\n"
     ]
    }
   ],
   "source": [
    "print(\"# of total wins if sticks  : {:} [prob: {:.5f}]\"\\\n",
    "      .format(np.sum(tries[:,3]),np.sum(tries[:,3])/N))\n",
    "print(\"# of total wins if switches: {:} [prob: {:.5f}]\"\\\n",
    "      .format(np.sum(tries[:,4]),np.sum(tries[:,4])/N))"
   ]
  },
  {
   "cell_type": "markdown",
   "id": "cc16c302",
   "metadata": {},
   "source": [
    "# 4 doors, 2 are opened simultaneously"
   ]
  },
  {
   "cell_type": "code",
   "execution_count": 12,
   "id": "59be2f76",
   "metadata": {},
   "outputs": [],
   "source": [
    "tries4 = np.random.randint(1,5,(N,6))\n",
    "tries4[:,2:] = 0\n",
    "\n",
    "# 0th col: Door with the prize\n",
    "# 1st col: Door that the contestant has chosen\n",
    "# 2nd col: Door that Monty opens\n",
    "# 3rd col: Door that Monty opens\n",
    "# 4th col: 1 if the user wins by sticking, 0 otherwise\n",
    "# 5th col: 1 if the user wins by switching, 0 otherwise"
   ]
  },
  {
   "cell_type": "code",
   "execution_count": 13,
   "id": "56f884d6",
   "metadata": {},
   "outputs": [],
   "source": [
    "# tries4"
   ]
  },
  {
   "cell_type": "code",
   "execution_count": 14,
   "id": "28d639ee",
   "metadata": {},
   "outputs": [],
   "source": [
    "filt4 = tries4[:,0] == tries4[:,1]\n",
    "\n",
    "tries4[filt4,4] = 1\n",
    "tries4[np.invert(filt4),5] = 1"
   ]
  },
  {
   "cell_type": "code",
   "execution_count": 15,
   "id": "f0e27d00",
   "metadata": {},
   "outputs": [],
   "source": [
    "a = np.array([1,2,3,4])\n",
    "for i in range(N):\n",
    "    b = a[a != tries4[i,0]]\n",
    "    b = b[b != tries4[i,1]]\n",
    "    b = np.sort(np.random.choice(b,size=2,replace = False))\n",
    "    #print(b);\n",
    "    tries4[i,2:4] = b"
   ]
  },
  {
   "cell_type": "code",
   "execution_count": 16,
   "id": "9f38adae",
   "metadata": {},
   "outputs": [
    {
     "data": {
      "text/plain": [
       "array([[1, 4, 2, 3, 0, 1],\n",
       "       [4, 3, 1, 2, 0, 1],\n",
       "       [3, 4, 1, 2, 0, 1],\n",
       "       ...,\n",
       "       [3, 4, 1, 2, 0, 1],\n",
       "       [3, 1, 2, 4, 0, 1],\n",
       "       [1, 3, 2, 4, 0, 1]])"
      ]
     },
     "execution_count": 16,
     "metadata": {},
     "output_type": "execute_result"
    }
   ],
   "source": [
    "tries4"
   ]
  },
  {
   "cell_type": "code",
   "execution_count": 17,
   "id": "b66b364e",
   "metadata": {},
   "outputs": [
    {
     "name": "stdout",
     "output_type": "stream",
     "text": [
      "# of total wins if sticks  : 25147 [prob: 0.25147]\n",
      "# of total wins if switches: 74853 [prob: 0.74853]\n"
     ]
    }
   ],
   "source": [
    "print(\"# of total wins if sticks  : {:} [prob: {:.5f}]\"\\\n",
    "      .format(np.sum(tries4[:,4]),np.sum(tries4[:,4])/N))\n",
    "print(\"# of total wins if switches: {:} [prob: {:.5f}]\"\\\n",
    "      .format(np.sum(tries4[:,5]),np.sum(tries4[:,5])/N))"
   ]
  },
  {
   "cell_type": "markdown",
   "id": "b2683d39",
   "metadata": {},
   "source": [
    "# 4 doors, a door is opened at each stage"
   ]
  },
  {
   "cell_type": "code",
   "execution_count": 18,
   "id": "f2aef7d0",
   "metadata": {},
   "outputs": [
    {
     "data": {
      "text/plain": [
       "array([[2, 1, 0, 0, 0, 0, 0, 0, 0, 0, 0, 0],\n",
       "       [3, 1, 0, 0, 0, 0, 0, 0, 0, 0, 0, 0],\n",
       "       [4, 1, 0, 0, 0, 0, 0, 0, 0, 0, 0, 0],\n",
       "       [4, 3, 0, 0, 0, 0, 0, 0, 0, 0, 0, 0],\n",
       "       [4, 4, 0, 0, 0, 0, 0, 0, 0, 0, 0, 0],\n",
       "       [4, 4, 0, 0, 0, 0, 0, 0, 0, 0, 0, 0],\n",
       "       [1, 4, 0, 0, 0, 0, 0, 0, 0, 0, 0, 0],\n",
       "       [1, 1, 0, 0, 0, 0, 0, 0, 0, 0, 0, 0],\n",
       "       [2, 4, 0, 0, 0, 0, 0, 0, 0, 0, 0, 0],\n",
       "       [2, 3, 0, 0, 0, 0, 0, 0, 0, 0, 0, 0]])"
      ]
     },
     "execution_count": 18,
     "metadata": {},
     "output_type": "execute_result"
    }
   ],
   "source": [
    "N=10000\n",
    "tries41 = np.random.randint(1,5,(N,12))\n",
    "tries41[:,2:] = 0\n",
    "\n",
    "# 0th  col: Door with the prize\n",
    "# 1st  col: Door that the contestant has chosen first (stick - *)\n",
    "# 2nd  col: Door that Monty opens first\n",
    "# 3rd  col: Door that the contestant switches on the first ask (switch - *)\n",
    "# 4th  col: Door that Monty opens second (given the contestant has stuck on the 1st)\n",
    "# 5th  col: Door that Monty opens second (given the contestant has switched on the 1st)\n",
    "# 6th  col: Door that the contestant switches on the second ask (stick - switch)\n",
    "# 7th  col: Door that the contestant switches on the second ask (switch - switch)\n",
    "# 8th  col: 1 if the user has stick-stick win\n",
    "# 9th  col: 1 if the user has stick-switch win\n",
    "# 10th col: 1 if the user has switch-stick win\n",
    "# 11th col: 1 if the user has switch-switch win\n",
    "\n",
    "tries41[:10]"
   ]
  },
  {
   "cell_type": "code",
   "execution_count": 19,
   "id": "1551e5e1",
   "metadata": {},
   "outputs": [
    {
     "data": {
      "text/plain": [
       "array([[2, 1, 3, 4, 4, 1, 2, 2, 0, 0, 0, 0],\n",
       "       [3, 1, 2, 3, 4, 1, 3, 4, 0, 0, 0, 0],\n",
       "       [4, 1, 3, 2, 2, 1, 4, 4, 0, 0, 0, 0],\n",
       "       [4, 3, 2, 1, 1, 3, 4, 4, 0, 0, 0, 0],\n",
       "       [4, 4, 3, 2, 2, 1, 1, 4, 0, 0, 0, 0],\n",
       "       [4, 4, 3, 1, 1, 2, 2, 4, 0, 0, 0, 0],\n",
       "       [1, 4, 2, 3, 3, 4, 1, 1, 0, 0, 0, 0],\n",
       "       [1, 1, 4, 3, 3, 2, 2, 1, 0, 0, 0, 0],\n",
       "       [2, 4, 3, 1, 1, 4, 2, 2, 0, 0, 0, 0],\n",
       "       [2, 3, 1, 2, 4, 3, 2, 4, 0, 0, 0, 0]])"
      ]
     },
     "execution_count": 19,
     "metadata": {},
     "output_type": "execute_result"
    }
   ],
   "source": [
    "a = np.array([1,2,3,4])\n",
    "\n",
    "for i in range(N):\n",
    "    \n",
    "    # The 1st door Monty opens\n",
    "    b = a[a != tries41[i,0]] # Can't open the one with the prize\n",
    "    b = b[b != tries41[i,1]] # Can't open the contestant's pick\n",
    "    tries41[i,2] = np.random.choice(b)\n",
    "    \n",
    "    # The door the contestant switches (1st)\n",
    "    b = a[a != tries41[i,1]] # Can't switch to the already picked\n",
    "    b = b[b != tries41[i,2]] # Can't switch to the opened door\n",
    "    tries41[i,3] = np.random.choice(b)\n",
    "\n",
    "    # The 2nd door Monty opens (given the contestans has stuck)\n",
    "    b = a[a != tries41[i,0]] # Can't open the one with the prize\n",
    "    b = b[b != tries41[i,1]] # Can't open the contestant's pick\n",
    "    b = b[b != tries41[i,2]] # Can't open the already opened\n",
    "    tries41[i,4] = np.random.choice(b)    \n",
    "    \n",
    "    # The 2nd door Monty opens (given the contestans has switched)\n",
    "    b = a[a != tries41[i,0]] # Can't open the one with the prize\n",
    "    b = b[b != tries41[i,3]] # Can't open the contestant's pick\n",
    "    b = b[b != tries41[i,2]] # Can't open the already opened\n",
    "    tries41[i,5] = np.random.choice(b)    \n",
    "    \n",
    "    # The door the contestant switches (after having stuck)\n",
    "    b = a[a != tries41[i,2]] # Can't switch to the opened door\n",
    "    b = b[b != tries41[i,4]] # Can't switch to the opened door\n",
    "    b = b[b != tries41[i,1]] # Can't switch to the already picked\n",
    "    tries41[i,6] = np.random.choice(b)\n",
    "    \n",
    "    # The door the contestant switches (after having switched once)\n",
    "    b = a[a != tries41[i,2]] # Can't switch to the opened door\n",
    "    b = b[b != tries41[i,5]] # Can't switch to the opened door\n",
    "    b = b[b != tries41[i,3]] # Can't switch to the already picked\n",
    "    tries41[i,7] = np.random.choice(b)\n",
    "\n",
    "tries41[:10]"
   ]
  },
  {
   "cell_type": "code",
   "execution_count": 20,
   "id": "643ec4a1",
   "metadata": {},
   "outputs": [
    {
     "data": {
      "text/plain": [
       "array([[2, 1, 3, 4, 4, 1, 2, 2, 0, 1, 0, 1],\n",
       "       [3, 1, 2, 3, 4, 1, 3, 4, 0, 1, 1, 0],\n",
       "       [4, 1, 3, 2, 2, 1, 4, 4, 0, 1, 0, 1],\n",
       "       [4, 3, 2, 1, 1, 3, 4, 4, 0, 1, 0, 1],\n",
       "       [4, 4, 3, 2, 2, 1, 1, 4, 1, 0, 0, 1],\n",
       "       [4, 4, 3, 1, 1, 2, 2, 4, 1, 0, 0, 1],\n",
       "       [1, 4, 2, 3, 3, 4, 1, 1, 0, 1, 0, 1],\n",
       "       [1, 1, 4, 3, 3, 2, 2, 1, 1, 0, 0, 1],\n",
       "       [2, 4, 3, 1, 1, 4, 2, 2, 0, 1, 0, 1],\n",
       "       [2, 3, 1, 2, 4, 3, 2, 4, 0, 1, 1, 0]])"
      ]
     },
     "execution_count": 20,
     "metadata": {},
     "output_type": "execute_result"
    }
   ],
   "source": [
    "# stick - stick wins\n",
    "tries41[tries41[:,0] == tries41[:,1],8] = 1\n",
    "\n",
    "# stick - switch wins\n",
    "tries41[tries41[:,0] == tries41[:,6],9] = 1\n",
    "\n",
    "# switch - stick wins\n",
    "# If they first switch, then stick, \n",
    "# treat the 3rd column as the final choice\n",
    "tries41[tries41[:,0] == tries41[:,3],10] = 1\n",
    "\n",
    "# switch - switch wins\n",
    "tries41[tries41[:,0] == tries41[:,7],11] = 1\n",
    "\n",
    "tries41[:10]"
   ]
  },
  {
   "cell_type": "code",
   "execution_count": 21,
   "id": "84b1bc50",
   "metadata": {},
   "outputs": [
    {
     "name": "stdout",
     "output_type": "stream",
     "text": [
      "# of total wins for stick-stick   : 2468 [prob: 0.24680]\n",
      "# of total wins for stick-switch  : 7532 [prob: 0.75320]\n",
      "# of total wins for switch-stick  : 3813 [prob: 0.38130]\n",
      "# of total wins for switch-switch : 6187 [prob: 0.61870]\n"
     ]
    }
   ],
   "source": [
    "print(\"# of total wins for stick-stick   : {:} [prob: {:.5f}]\"\\\n",
    "      .format(np.sum(tries41[:,8]),np.sum(tries41[:,8])/N))\n",
    "print(\"# of total wins for stick-switch  : {:} [prob: {:.5f}]\"\\\n",
    "      .format(np.sum(tries41[:,9]),np.sum(tries41[:,9])/N))\n",
    "print(\"# of total wins for switch-stick  : {:} [prob: {:.5f}]\"\\\n",
    "      .format(np.sum(tries41[:,10]),np.sum(tries41[:,10])/N))\n",
    "print(\"# of total wins for switch-switch : {:} [prob: {:.5f}]\"\\\n",
    "      .format(np.sum(tries41[:,11]),np.sum(tries41[:,11])/N))"
   ]
  },
  {
   "cell_type": "code",
   "execution_count": 22,
   "id": "c8931015",
   "metadata": {},
   "outputs": [
    {
     "data": {
      "text/plain": [
       "array([[2, 1, 3, 4, 4, 1, 2, 2, 0, 1, 0, 1],\n",
       "       [3, 1, 2, 3, 4, 1, 3, 4, 0, 1, 1, 0],\n",
       "       [4, 1, 3, 2, 2, 1, 4, 4, 0, 1, 0, 1],\n",
       "       [4, 3, 2, 1, 1, 3, 4, 4, 0, 1, 0, 1],\n",
       "       [4, 4, 3, 2, 2, 1, 1, 4, 1, 0, 0, 1],\n",
       "       [4, 4, 3, 1, 1, 2, 2, 4, 1, 0, 0, 1],\n",
       "       [1, 4, 2, 3, 3, 4, 1, 1, 0, 1, 0, 1],\n",
       "       [1, 1, 4, 3, 3, 2, 2, 1, 1, 0, 0, 1],\n",
       "       [2, 4, 3, 1, 1, 4, 2, 2, 0, 1, 0, 1],\n",
       "       [2, 3, 1, 2, 4, 3, 2, 4, 0, 1, 1, 0]])"
      ]
     },
     "execution_count": 22,
     "metadata": {},
     "output_type": "execute_result"
    }
   ],
   "source": [
    "tries41[:10]"
   ]
  },
  {
   "cell_type": "code",
   "execution_count": 23,
   "id": "0f3cfe6a",
   "metadata": {},
   "outputs": [
    {
     "data": {
      "text/plain": [
       "array([[2, 1, 2, 4, 2],\n",
       "       [3, 1, 3, 3, 4],\n",
       "       [4, 1, 4, 2, 4],\n",
       "       [4, 3, 4, 1, 4],\n",
       "       [4, 4, 1, 2, 4],\n",
       "       [4, 4, 2, 1, 4],\n",
       "       [1, 4, 1, 3, 1],\n",
       "       [1, 1, 2, 3, 1],\n",
       "       [2, 4, 2, 1, 2],\n",
       "       [2, 3, 2, 2, 4]])"
      ]
     },
     "execution_count": 23,
     "metadata": {},
     "output_type": "execute_result"
    }
   ],
   "source": [
    "ss = tries41[:,[0,1,6,3,7]] \n",
    "ss[:10] # pr, st-st, st-sw, sw-st, sw-sw"
   ]
  },
  {
   "cell_type": "code",
   "execution_count": null,
   "id": "7f7a9ecf",
   "metadata": {},
   "outputs": [],
   "source": []
  }
 ],
 "metadata": {
  "jupytext": {
   "formats": "ipynb,md:myst",
   "text_representation": {
    "extension": ".md",
    "format_name": "myst",
    "format_version": 0.13,
    "jupytext_version": "1.11.5"
   }
  },
  "kernelspec": {
   "display_name": "Python 3 (ipykernel)",
   "language": "python",
   "name": "python3"
  },
  "language_info": {
   "codemirror_mode": {
    "name": "ipython",
    "version": 3
   },
   "file_extension": ".py",
   "mimetype": "text/x-python",
   "name": "python",
   "nbconvert_exporter": "python",
   "pygments_lexer": "ipython3",
   "version": "3.8.5"
  },
  "source_map": [
   13,
   20,
   27,
   31,
   42,
   46,
   50,
   54,
   66,
   70,
   74,
   83,
   87,
   92,
   96,
   108,
   112,
   119,
   129,
   133,
   138,
   142,
   163,
   205,
   223,
   234,
   238,
   243
  ]
 },
 "nbformat": 4,
 "nbformat_minor": 5
}