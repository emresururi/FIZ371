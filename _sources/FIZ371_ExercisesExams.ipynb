{
 "cells": [
  {
   "cell_type": "markdown",
   "id": "7563769c",
   "metadata": {},
   "source": [
    "# Exercises & Exams"
   ]
  },
  {
   "cell_type": "markdown",
   "id": "373ff57f",
   "metadata": {},
   "source": [
    "## Exams\n",
    "* [2022-23 Fall Term Midterm Exam](Exams_HW/FIZ371_20221_MT)\n",
    "* [2022-23 Fall Term Final Exam](Exams_HW/FIZ371_20221_Final)\n",
    "* [2022-23 Fall Term Resit Exam](Exams_HW/FIZ371_20221_Resit)\n",
    "* [2023-24 Fall Term Midterm Exam](Exams_HW/FIZ371_20231_MT)\n",
    "* [2023-24 Fall Term Midterm MakeUp Exam](Exams_HW/FIZ371_20231_MT_MakeUp)\n",
    "* [2023-24 Fall Term Final Exam](Exams_HW/FIZ371_20231_Final)\n",
    "* [2023-24 Fall Term Resit Exam](Exams_HW/FIZ371_20231_Final_Resit)"
   ]
  },
  {
   "cell_type": "code",
   "execution_count": null,
   "id": "4e9d43d3",
   "metadata": {},
   "outputs": [],
   "source": []
  }
 ],
 "metadata": {
  "jupytext": {
   "formats": "ipynb,md:myst",
   "text_representation": {
    "extension": ".md",
    "format_name": "myst",
    "format_version": 0.13,
    "jupytext_version": "1.11.5"
   }
  },
  "kernelspec": {
   "display_name": "Python 3 (ipykernel)",
   "language": "python",
   "name": "python3"
  },
  "language_info": {
   "codemirror_mode": {
    "name": "ipython",
    "version": 3
   },
   "file_extension": ".py",
   "mimetype": "text/x-python",
   "name": "python",
   "nbconvert_exporter": "python",
   "pygments_lexer": "ipython3",
   "version": "3.8.5"
  },
  "source_map": [
   13,
   17,
   28
  ]
 },
 "nbformat": 4,
 "nbformat_minor": 5
}