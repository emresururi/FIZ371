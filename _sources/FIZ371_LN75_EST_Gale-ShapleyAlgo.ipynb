{
 "cells": [
  {
   "cell_type": "markdown",
   "id": "cf174292",
   "metadata": {},
   "source": [
    "### Gale-Shapley Matching Algorithm\n",
    "**FIZ371 - Scientific & Technical Computations | 26/04/2021**\n",
    "\n",
    "  \n",
    "Dr. Emre S. Tasci <emre.tasci@hacettepe.edu.tr>\n",
    "\n",
    "_This version of the Lecture Notes is just a draft with most of the parts directly assembled from Gura & Maschler's book (see References)._\n",
    "\n",
    "Thus: Definitely **NOT** for distribution!"
   ]
  },
  {
   "cell_type": "markdown",
   "id": "71d0e9fe",
   "metadata": {},
   "source": [
    "* [\"College Admissions and the Stability of Marriage\"](https://www.eecs.harvard.edu/cs286r/courses/fall09/papers/galeshapley.pdf) David Gale & Lloyd Shapley, American Mathematical Monthly 69 9-15 (1962)."
   ]
  },
  {
   "cell_type": "markdown",
   "id": "fc11f932",
   "metadata": {},
   "source": [
    "> According to Gale, 2 the paper owes its origin to an article in the\n",
    "New Yorker, dated September 10, 1960, in which the writer describes\n",
    "the difficulties of undergraduate admissions at Yale University. Then\n",
    "as now, students would apply to several universities and admissions\n",
    "officers had no way of telling which applicants were serious about\n",
    "enrolling. The students, who had every reason to manipulate, would\n",
    "create the impression that each university was their top choice, while\n",
    "the universities would enroll too many students, assuming that many\n",
    "of them would not attend. The whole process became a guessing game.\n",
    "Above all, there was a feeling that actual enrollments were far from\n",
    "optimal.  \n",
    "\n",
    "[Gura & Maschler, p1]"
   ]
  },
  {
   "cell_type": "markdown",
   "id": "f933a4bf",
   "metadata": {},
   "source": [
    "Gale & Shapley proved that stable matching alway exists (they also used the analogy for matching men and women(!))"
   ]
  },
  {
   "cell_type": "markdown",
   "id": "dee503be",
   "metadata": {},
   "source": [
    "## The Matching Problem\n",
    "\n",
    "> Consider a community of men and women where the number of men\n",
    "equals the number of women.\n",
    "\n",
    "> **Objective:** Propose a good matching system for the community. To\n",
    "be able to propose such a system, we shall need relevant data about\n",
    "the community. Accordingly, we shall ask every community member to rank \n",
    "members of the opposite sex in accordance with his or\n",
    "her preferences for a marriage partner. We shall assume that no man\n",
    "or woman in the community is indifferent to a choice between two\n",
    "or more members of the opposite sex. For example, if Al’s list of\n",
    "preferences consists of Ann, Beth, Cher, and Dot, in that order, then\n",
    "Al ranks Ann first, Beth second, Cher third, and Dot fourth. Again,\n",
    "we shall assume that Al is not indifferent to a choice between two or\n",
    "more of the four women on his list.\n",
    "\n",
    "[Gura & Maschler, p2]"
   ]
  },
  {
   "cell_type": "markdown",
   "id": "13ee6d3a",
   "metadata": {},
   "source": [
    "![image.png](images/GaleShapley1.png)"
   ]
  },
  {
   "cell_type": "markdown",
   "id": "679afe55",
   "metadata": {},
   "source": [
    "**Problem:** Given everyone’s preferences, can you propose a matching system for\n",
    "the community?\n",
    "\n",
    "![image.png](images/GaleShapley2.png)\n",
    "\n",
    "(Man->Woman) x (Woman->Man)"
   ]
  },
  {
   "cell_type": "markdown",
   "id": "e7caa110",
   "metadata": {},
   "source": [
    "> This is indeed a possible proposal, but it is not a good one.\n",
    "Cher is displeased, because she is paired off with her last choice. She\n",
    "can propose to Bob, but she will be turned down because she is his last\n",
    "choice. She will fare no better with Cal, because she is his third choice\n",
    "while he is paired off with his second choice. On the other hand, if\n",
    "Cher proposes to Al, he will be very pleased, because she is his first\n",
    "choice.\n",
    "\n",
    ">The proposal is rejected, because Cher and Al prefer each other to their\n",
    "actual mates, and one can reasonably assume that they will reject the\n",
    "matchmaker’s proposal.\n",
    "\n",
    "[Gura & Maschler, p3]"
   ]
  },
  {
   "cell_type": "markdown",
   "id": "6ddce806",
   "metadata": {},
   "source": [
    "> **Another Possible Proposal:** Let us try to pair off all the men with their\n",
    "first choice.\n",
    "\n",
    "> Al’s first choice is Cher.  \n",
    "Bob’s first choice is Dot.  \n",
    "Cal’s first choice is Ann.  \n",
    "Dan’s first choice is Dot.  \n",
    "\n",
    "> We see that there is a problem: both Bob and Dan prefer Dot. We can\n",
    "try to pair off Dan with his second choice, Cher, but she is already\n",
    "paired off with Al. Will Dan’s third choice work out? Dan’s third\n",
    "choice is Ann, but she is already paired off with Cal. That leaves Dan\n",
    "with his last choice, Beth."
   ]
  },
  {
   "cell_type": "markdown",
   "id": "d0c42add",
   "metadata": {},
   "source": [
    "![image.png](images/GaleShapley3.png)"
   ]
  },
  {
   "cell_type": "markdown",
   "id": "d3898289",
   "metadata": {},
   "source": [
    "> Three of the four men are paired off with their first choice. Do you\n",
    "think this proposal will be accepted or rejected?"
   ]
  },
  {
   "cell_type": "markdown",
   "id": "339e7016",
   "metadata": {},
   "source": [
    "> **Still Another Possible Proposal:** Now we shall try to pair off all the\n",
    "women with their first choice. Is it possible?\n",
    "\n",
    "> Ann’s first choice is Al.  \n",
    "Beth’s first choice is Al.  \n",
    "Cher’s first choice is Bob.  \n",
    "Dot’s first choice is Cal.  \n",
    "\n",
    "> We see that if we pair off Ann with her first choice, Al, then Beth\n",
    "cannot be paired off with him too. We can pair off Beth with her\n",
    "second choice, Bob, but he is already paired off with Cher. And Beth’s\n",
    "third choice, Cal, is already paired off with Dot. Beth is therefore left\n",
    "with her last choice, Dan."
   ]
  },
  {
   "cell_type": "markdown",
   "id": "9cca57ba",
   "metadata": {},
   "source": [
    "![image.png](images/GaleShapley4.png)\n",
    "\n",
    "> Three of the four women are paired off with their first choice. Will\n",
    "they accept or reject this matching system?\n",
    "\n",
    "> Beth can fight this matching. For example, she can approach Bob and\n",
    "suggest that they both reject this matching and form their own pair.\n",
    "In so doing Beth gets her second choice – better than her fourth choice\n",
    "– and Bob gets his third choice – better than his fourth choice. Thus,\n",
    "the above matching will be rejected by Beth and Bob."
   ]
  },
  {
   "cell_type": "markdown",
   "id": "8f196f8d",
   "metadata": {},
   "source": [
    "> **Stable Matching System:** _A matching system must be such that under it there cannot be found\n",
    "a man and a woman who are not paired off with each other but prefer\n",
    "each other to their actual mates._"
   ]
  },
  {
   "cell_type": "markdown",
   "id": "25da98ca",
   "metadata": {},
   "source": [
    "![image.png](images/GaleShapley5.png)"
   ]
  },
  {
   "cell_type": "markdown",
   "id": "15f4ef4c",
   "metadata": {},
   "source": [
    "![image.png](images/GaleShapley6.png)"
   ]
  },
  {
   "cell_type": "markdown",
   "id": "0240087c",
   "metadata": {},
   "source": [
    "> **Note:** The position of the circles in the two tables must be\n",
    "identical.\n",
    "\n",
    "> **Verification:** Mr. c and Mr. d are paired off with their first choice,\n",
    "so they need look no further. Mr. b prefers Ms. B to his actual mate,\n",
    "Ms. A, but Ms. B will turn him down because he is her last choice.\n",
    "Mr. a prefers Ms. B and Ms. C to his actual mate, D. If he proposes to\n",
    "B, she will turn him down because he is her second choice and she is\n",
    "paired off with her first choice. If he proposes to C, she too will turn him down because he is her last choice.\n",
    "\n",
    "> **Remark:** When no man wants to deviate from the matchmaker’s recommendation, then it does not matter if a woman wants to change,\n",
    "because she will not find a man who will agree to cooperate with her.\n",
    "Thus, there is no further need to continue the verification."
   ]
  },
  {
   "cell_type": "markdown",
   "id": "6f8fda37",
   "metadata": {},
   "source": [
    "### Exercise\n",
    "Given the following preference structure of a community of five\n",
    "women and five men:\n",
    "\n",
    "![image.png](images/GaleShapley7.png)\n",
    "\n",
    "Which of the following matching systems are not stable?\n",
    "\n",
    "![image-2.png](images/GaleShapley8.png)"
   ]
  },
  {
   "cell_type": "markdown",
   "id": "73b68b38",
   "metadata": {},
   "source": [
    "### Example\n",
    "![image.png](images/GaleShapley9.png)"
   ]
  },
  {
   "cell_type": "markdown",
   "id": "aaaad0e9",
   "metadata": {},
   "source": [
    "> i. This matching system is stable because A and B are paired off with\n",
    "their first choice and therefore will refuse to annul the match.\n",
    "\n",
    "> ii. This matching system is stable, too, because a and b are paired\n",
    "off with their first choice and therefore will refuse to deviate from\n",
    "the matchmaker’s recommendation.\n",
    "\n",
    "> This example shows that if one side (say, the men’s) obtains its first\n",
    "choice, that is, if one side is satisfied with the match, then the other\n",
    "side cannnot undermine the system, however dissatisfied it may be\n",
    "with the match.\n",
    "\n",
    "> _A stable matching system is not necessarily a system under\n",
    "which everyone is satisfied. A matching system is stable when no\n",
    "unmatched pair will find it beneficial to deviate from the matching\n",
    "and form their own match. In other words, a stable matching system serves the interests of the matchmaker, whose recommendation\n",
    "will be honored, but it does not necessarily serve the interests of all community members._"
   ]
  },
  {
   "cell_type": "markdown",
   "id": "791085f4",
   "metadata": {},
   "source": [
    "### Exercise\n",
    "![image.png](images/GaleShapley10.png)\n",
    "\n",
    "i. The men obtain their first choice:\n",
    "![image.png](images/GaleShapley11.png)\n",
    "\n",
    "ii. The women obtain their first choice:\n",
    "![image.png](images/GaleShapley12.png)\n",
    "\n",
    "iii. There is also a third stable matching system, where men and women all obtain their second choice:\n",
    "![image.png](images/GaleShapley13.png)\n",
    "\n",
    "> In fact, all those who try to obtain their first choice will be rejected because they themselves are their favorite’s third choice.\n",
    "\n",
    "![image.png](images/GaleShapley14.png)"
   ]
  },
  {
   "cell_type": "markdown",
   "id": "4cb9fb7c",
   "metadata": {},
   "source": [
    "### Exercise: The roommate Problem\n",
    "![image.png](images/GaleShapley15.png)\n",
    "\n",
    "![image.png](images/GaleShapley16.png)"
   ]
  },
  {
   "cell_type": "markdown",
   "id": "6489d515",
   "metadata": {},
   "source": [
    "## The Gale-Shapley algorithm for finding a stable matching system\n",
    "> **First Stage:** Every man turns to the woman who is first on his list and\n",
    "proposes to her. Every woman who receives more than one proposal\n",
    "selects her favorite from among those who propose to her and tells the\n",
    "others that she will never marry them. Every man who is not rejected\n",
    "is put on a “waiting list” of the woman to whom he proposed.\n",
    "\n",
    "> **Second Stage:** Every man who was rejected turns to the woman who\n",
    "is second on his list and proposes to her. Every woman who receives\n",
    "more than one proposal, including any proposals from the previous\n",
    "stage, selects her favorite, and puts him on her waiting list. She\n",
    "informs the others that they are rejected.\n",
    "\n",
    "> **Third Stage:** Every man who is rejected turns to the woman who is\n",
    "next on his list – the second on his list if he was put on the waiting\n",
    "list at a previous stage, or the third on his list if he was rejected twice. Once again, every woman selects her favorite from among those who have proposed to her, including anyone on her waiting list from the\n",
    "previous stage, puts him on the waiting list, and rejects the others.\n",
    "The procedure continues – until such time as no man is rejected.\n",
    "At that stage every man on a waiting list becomes a mate, and the\n",
    "procedure terminates."
   ]
  },
  {
   "cell_type": "markdown",
   "id": "3229b4e5",
   "metadata": {},
   "source": [
    "### Example\n",
    "![image.png](images/GaleShapley17.png)\n",
    "\n",
    "![image.png](images/GaleShapley18.png)\n",
    "Mr. b, marked with an asterisk (*), is rejected. The others are\n",
    "“waitlisted.”\n",
    "\n",
    "![image.png](images/GaleShapley19.png)\n",
    "Mr. d is rejected (despite having been waitlisted at the previous stage).\n",
    "\n",
    "![image.png](images/GaleShapley20.png)\n",
    "Mr. c is rejected.\n",
    "\n",
    "![image.png](images/GaleShapley21.png)\n",
    "Mr. a is rejected.\n",
    "\n",
    "![image.png](images/GaleShapley22.png)\n",
    "Mr. a is rejected again.\n",
    "\n",
    "![image.png](images/GaleShapley23.png)\n",
    "\n",
    "The procedure ends and the proposed matching system is:\n",
    "![image.png](images/GaleShapley24.png)"
   ]
  },
  {
   "cell_type": "markdown",
   "id": "78a040ff",
   "metadata": {},
   "source": [
    "**Theorem:** For a community of n men & n women, the Gale-Shapley algorithm reaches a stable state at most in $n^2-2n+2$ stages."
   ]
  },
  {
   "cell_type": "markdown",
   "id": "d281ffb8",
   "metadata": {},
   "source": [
    "## The number of men does not equal the number of women\n",
    "\n",
    "![image.png](images/GaleShapley25.png)\n",
    "\n",
    "![image.png](images/GaleShapley26.png)\n",
    "\n",
    "The procedure terminates in the matching system:\n",
    "\n",
    "![image.png](images/GaleShapley27.png)"
   ]
  },
  {
   "cell_type": "markdown",
   "id": "8e412eaf",
   "metadata": {},
   "source": [
    "![image.png](images/GaleShapley28.png)\n",
    "\n",
    "Here again, the procedure terminates in the matching system:\n",
    "\n",
    "![image.png](images/GaleShapley29.png)"
   ]
  },
  {
   "cell_type": "markdown",
   "id": "cce17987",
   "metadata": {},
   "source": [
    "## Existence of a preference list that does not include all members of the opposite sex\n",
    "Just set the preference to zero when men/women rather being single than be paired of with certain women/men.\n",
    "\n",
    "![image.png](images/GaleShapley30.png)\n",
    "\n",
    "![image.png](images/GaleShapley31.png)\n",
    "\n",
    "The matching system obtained is:\n",
    "\n",
    "![image.png](images/GaleShapley32.png)"
   ]
  },
  {
   "cell_type": "markdown",
   "id": "043f572e",
   "metadata": {},
   "source": [
    "## Possible Indifference\n",
    "Just re-order it yourself accordingly! ;)\n",
    "\n",
    "![image.png](images/GaleShapley33.png)\n",
    "\n",
    "becomes\n",
    "\n",
    "![image.png](images/GaleShapley34.png)\n",
    "\n",
    "![image.png](images/GaleShapley35.png)\n",
    "\n",
    "The stable matching system is:\n",
    "\n",
    "\n",
    "![image.png](images/GaleShapley36.png)"
   ]
  },
  {
   "cell_type": "markdown",
   "id": "47d128e2",
   "metadata": {},
   "source": [
    "alternatively, if we re-order it like this:\n",
    "\n",
    "![image.png](images/GaleShapley37.png)\n",
    "\n",
    "![image.png](images/GaleShapley38.png)\n",
    "\n",
    "The stable matching system is:\n",
    "\n",
    "![image.png](images/GaleShapley39.png)"
   ]
  },
  {
   "cell_type": "markdown",
   "id": "fef9d3b0",
   "metadata": {},
   "source": [
    "## Condition for the existence of a unique stable matching system\n",
    "A system has a unique stable solution if the result of men proposing is the same as the result of women proposing."
   ]
  },
  {
   "cell_type": "markdown",
   "id": "9c5d6efc",
   "metadata": {},
   "source": [
    "# Discussion\n",
    "> Gale and Shapley were the first to ask whether their algorithm for\n",
    "matching men and women was applicable to the college admissions problem. As they wrote in the conclusion of their paper, “In making the special assumptions needed in order to analyze our problem\n",
    "mathematically, we necessarily moved further away from the original\n",
    "college admissions question, and eventually in discussing the marriage problem, we abandoned reality altogether and entered the world\n",
    "of mathematical make-believe. ... It was our opinion, too, however,\n",
    "that some of the ideas introduced here might usefully be applied to\n",
    "certain phases of the admissions problem.”\n",
    "\n",
    "> What Gale and Shapley did not know at the time was that the\n",
    "Association of American Medical Colleges had already for ten years\n",
    "been applying the Gale–Shapley algorithm to the task of assigning\n",
    "interns to hospitals in the United States. By a process of trial and error\n",
    "that spanned over half a century, the Association in 1951 adopted the\n",
    "procedure, later rediscovered by Gale and Shapley, that was hospital-optimal. A detailed description of this procedure can be found in [Two-Sided Matching by A. E. Roth and M. Sotomayor](http://web.stanford.edu/~alroth/papers/92_HGT_Two-SidedMatching.pdf). The book contains\n",
    "many extensions that evolved after the appearance of the paper by\n",
    "Gale and Shapley.\n",
    "\n",
    "[Gura & Maschler, p56]"
   ]
  },
  {
   "cell_type": "markdown",
   "id": "58c53d6d",
   "metadata": {},
   "source": [
    "# References \n",
    "\n",
    "* (mostly \"directly copied from\") Ein-Ya Gura & Michael B. Maschler, [\"Insights Into Game Theory\"](http://katalog.hacettepe.edu.tr/client/tr_TR/default_tr/search/detailnonmodal/ent:$002f$002fSD_ILS$002f0$002fSD_ILS:312448/one?qu=ein+ya+gura), Cambridge Uni. Press, 2008. [ISBN 978-0-511-45538-4](https://www.google.com/search?q=ISBN+978-0-511-45538-4&oq=ISBN+978-0-511-45538-4)\n",
    "* Economic Sciences Nobel Prize 2012:  \n",
    " _\"for the theory of stable allocations and the practice of market design.\"_\n",
    " * [Lloyd S. Shapley](https://www.nobelprize.org/prizes/economic-sciences/2012/shapley/facts/)\n",
    " * [Alvin E. Roth](https://www.nobelprize.org/prizes/economic-sciences/2012/roth/facts/)"
   ]
  },
  {
   "cell_type": "code",
   "execution_count": null,
   "id": "f1932eb2",
   "metadata": {},
   "outputs": [],
   "source": []
  }
 ],
 "metadata": {
  "jupytext": {
   "formats": "ipynb,md:myst",
   "text_representation": {
    "extension": ".md",
    "format_name": "myst",
    "format_version": 0.13,
    "jupytext_version": "1.11.5"
   }
  },
  "kernelspec": {
   "display_name": "Python 3 (ipykernel)",
   "language": "python",
   "name": "python3"
  },
  "language_info": {
   "codemirror_mode": {
    "name": "ipython",
    "version": 3
   },
   "file_extension": ".py",
   "mimetype": "text/x-python",
   "name": "python",
   "nbconvert_exporter": "python",
   "pygments_lexer": "ipython3",
   "version": "3.8.5"
  },
  "source_map": [
   13,
   25,
   29,
   45,
   49,
   70,
   74,
   83,
   99,
   115,
   119,
   124,
   140,
   153,
   159,
   163,
   167,
   183,
   195,
   200,
   220,
   238,
   245,
   268,
   294,
   298,
   310,
   318,
   331,
   349,
   361,
   366,
   388,
   398
  ]
 },
 "nbformat": 4,
 "nbformat_minor": 5
}