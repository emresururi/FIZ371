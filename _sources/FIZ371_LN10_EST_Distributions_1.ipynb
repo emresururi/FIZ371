{
 "cells": [
  {
   "cell_type": "markdown",
   "id": "e5adb18a",
   "metadata": {},
   "source": [
    "# Distributions 1 : Discrete Distributions\n",
    "**FIZ371 - Scientific & Technical Computations | 31/03/2020**\n",
    "\n",
    "**Discrete Distributions**\n",
    " * Dice distribution\n",
    "   * Fair dice\n",
    "     1. Expected value\n",
    "     2. Variance\n",
    "     3. Standard deviation\n",
    "   * Loaded Dice\n",
    "     * Drawing from a distribution function\n",
    "        * Creating a sample list\n",
    "        * Using the PDF directly\n",
    " * Bernoulli / Binomial Distribution\n",
    "   * Combinatrics\n",
    "   * Galton Machine\n",
    "    \n",
    "    [Plotting: matplotlib.pyplot.bar()]\n",
    "\n",
    "Emre S. Tasci <emre.tasci@hacettepe.edu.tr>"
   ]
  },
  {
   "cell_type": "markdown",
   "id": "56aa40f8",
   "metadata": {},
   "source": [
    "## Distribution\n",
    "A distribution, or more directly, _a probability distribution_ is the distribution of weights among the possible outcomes of a drawing. We will start from discrete distributions (such as dice, binomial distributions) and will move on to continous distributions (such as Gaussian, Laplace distributions)."
   ]
  },
  {
   "cell_type": "markdown",
   "id": "8e874e90",
   "metadata": {},
   "source": [
    "### Dice distribution\n",
    "* **Fair dice**  \n",
    "\n",
    "Let's start using a fair, 6-sided dice. If it is fair, then it means that the probability for any of the 6 possible outcomes must be the same. And as the sum of the probabilities must be equal to 1, we have:\n",
    "\n",
    "$$p(x=1) = p(x=2) = ... =p(x=6),\\quad\\sum^{6}_{i=1}{p(x=i)}=1\\,\\Rightarrow p(x=i) = \\frac{1}{6}\\quad(i \\in [1,6])$$\n",
    "\n",
    "For which the graph of our probability distribution function (PDF) looks like:"
   ]
  },
  {
   "cell_type": "code",
   "execution_count": 1,
   "id": "1f432cb4",
   "metadata": {},
   "outputs": [
    {
     "data": {
      "image/png": "[encoded data removed]",
      "text/plain": [
       "<Figure size 432x288 with 1 Axes>"
      ]
     },
     "metadata": {
      "filenames": {
       "image/png": "/stmp/code/books/FIZ371/_build/jupyter_execute/FIZ371_LN10_EST_Distributions_1_3_0.png"
      },
      "needs_background": "light"
     },
     "output_type": "display_data"
    }
   ],
   "source": [
    "import numpy as np\n",
    "import matplotlib.pyplot as plt\n",
    "\n",
    "fair_pdf = np.ones(6) * 1./6\n",
    "\n",
    "plt.bar(np.arange(1,7),fair_pdf)\n",
    "plt.yticks([0,1/12,1/6],[\"0\",\"1/12\",\"1/6\"])\n",
    "plt.title(\"PDF of a fair 6-sided dice\")\n",
    "plt.show()"
   ]
  },
  {
   "cell_type": "markdown",
   "id": "b3119af0",
   "metadata": {},
   "source": [
    "These kind of probability distribution functions (PDFs) where every possible outcome has equal probability are called as **Uniform Distributions**."
   ]
  },
  {
   "cell_type": "markdown",
   "id": "e24026fe",
   "metadata": {},
   "source": [
    "1\\. Expected (Average) Value $\\left(\\mu,\\left<x\\right>, E[x]\\right)$:\n",
    "\n",
    "$$\\mu = \\sum_{x_i}{x_i\\cdot p(x_i)}$$"
   ]
  },
  {
   "cell_type": "code",
   "execution_count": 2,
   "id": "1a6b2083",
   "metadata": {},
   "outputs": [
    {
     "name": "stdout",
     "output_type": "stream",
     "text": [
      "Expected value: 3.500\n"
     ]
    }
   ],
   "source": [
    "import numpy as np\n",
    "import matplotlib.pyplot as plt\n",
    "\n",
    "x = range(1,7)\n",
    "fair_pdf = np.ones(6) * 1./6\n",
    "mean = 0;\n",
    "for i in range(0,6):\n",
    "    mean += x[i] * fair_pdf[i]\n",
    "print (\"Expected value: %.3f\"%mean)"
   ]
  },
  {
   "cell_type": "markdown",
   "id": "1646d098",
   "metadata": {},
   "source": [
    "2\\. Variance ($\\sigma^2$):\n",
    "\n",
    "$$\\sigma^2 = \\sum_{x_i}{x_i^2 p(x_i) - \\mu^2}$$"
   ]
  },
  {
   "cell_type": "code",
   "execution_count": 3,
   "id": "6d110709",
   "metadata": {},
   "outputs": [
    {
     "name": "stdout",
     "output_type": "stream",
     "text": [
      "Expected value: 3.500\n",
      "Variance: 2.917\n"
     ]
    }
   ],
   "source": [
    "import numpy as np\n",
    "import matplotlib.pyplot as plt\n",
    "\n",
    "x = range(1,7)\n",
    "fair_pdf = np.ones(6) * 1./6\n",
    "mean = 0;\n",
    "for i in range(0,6):\n",
    "    mean += x[i] * fair_pdf[i]\n",
    "\n",
    "var = 0\n",
    "for i in range(0,6):\n",
    "    var += x[i]**2 *fair_pdf[i]\n",
    "var = var - mean**2\n",
    "\n",
    "print (\"Expected value: %.3f\"%mean)\n",
    "print (\"Variance: %.3f\"%var)"
   ]
  },
  {
   "cell_type": "markdown",
   "id": "9f79d99d",
   "metadata": {},
   "source": [
    "3\\. Standard Deviation ($\\sigma$):\n",
    "\n",
    "$$\n",
    "\\begin{align*}\n",
    "\\sigma&=\\sqrt{\\sigma^2}\\\\\n",
    "\\sigma &= \\sqrt{\\left<x^2\\right> - \\left<x\\right>^2}\\\\\n",
    "&=\\sqrt{\\sum_{i}{p_i \\left(x_i - \\mu\\right)^2}}\n",
    "\\end{align*}$$"
   ]
  },
  {
   "cell_type": "code",
   "execution_count": 4,
   "id": "4bd52a10",
   "metadata": {},
   "outputs": [
    {
     "name": "stdout",
     "output_type": "stream",
     "text": [
      "Expected value: 3.500\n",
      "Variance: 2.917\n",
      "Standard Deviation: 1.708\n"
     ]
    }
   ],
   "source": [
    "import numpy as np\n",
    "import matplotlib.pyplot as plt\n",
    "\n",
    "x = range(1,7)\n",
    "fair_pdf = np.ones(6) * 1./6\n",
    "mean = 0;\n",
    "for i in range(0,6):\n",
    "    mean += x[i] * fair_pdf[i]\n",
    "\n",
    "var = 0\n",
    "for i in range(0,6):\n",
    "    var += x[i]**2 *fair_pdf[i]\n",
    "var = var - mean**2\n",
    "\n",
    "std = 0\n",
    "for i in range(0,6):\n",
    "    std += fair_pdf[i]*(x[i]-mean)**2\n",
    "std = np.sqrt(std)\n",
    "\n",
    "print (\"Expected value: %.3f\"%mean)\n",
    "print (\"Variance: %.3f\"%var)\n",
    "print (\"Standard Deviation: %.3f\"%std)"
   ]
  },
  {
   "cell_type": "markdown",
   "id": "eb69a6c7",
   "metadata": {},
   "source": [
    "* **Loaded Dice**  \n",
    "\n",
    "Now consider that we have a \"loaded dice\" such that its PDF is given by:"
   ]
  },
  {
   "cell_type": "code",
   "execution_count": 5,
   "id": "5d05da46",
   "metadata": {},
   "outputs": [
    {
     "data": {
      "image/png": "[encoded data removed]",
      "text/plain": [
       "<Figure size 432x288 with 1 Axes>"
      ]
     },
     "metadata": {
      "filenames": {
       "image/png": "/stmp/code/books/FIZ371/_build/jupyter_execute/FIZ371_LN10_EST_Distributions_1_12_0.png"
      },
      "needs_background": "light"
     },
     "output_type": "display_data"
    }
   ],
   "source": [
    "import numpy as np\n",
    "import matplotlib.pyplot as plt\n",
    "\n",
    "loaded_pdf = np.array([1/8, 0, 2/8, 1/8, 3/8, 1/8])\n",
    "\n",
    "plt.bar(np.arange(1,7),loaded_pdf)\n",
    "plt.yticks([0,1/8,1/4,3/8],[\"0\",\"1/8\",\"1/4\",\"3/8\"])\n",
    "plt.title(\"PDF of a loaded 6-sided dice\")\n",
    "plt.show()"
   ]
  },
  {
   "cell_type": "markdown",
   "id": "7bc70910",
   "metadata": {},
   "source": [
    "Let's calculate its properties:"
   ]
  },
  {
   "cell_type": "code",
   "execution_count": 6,
   "id": "8ce11b00",
   "metadata": {},
   "outputs": [
    {
     "name": "stdout",
     "output_type": "stream",
     "text": [
      "Expected value: 4.000\n",
      "Variance: 2.250\n",
      "Standard Deviation: 1.500\n"
     ]
    }
   ],
   "source": [
    "import numpy as np\n",
    "import matplotlib.pyplot as plt\n",
    "\n",
    "x = np.arange(1,7)\n",
    "loaded_pdf = np.array([1/8, 0, 2/8, 1/8, 3/8, 1/8])\n",
    "\n",
    "mean = 0;\n",
    "for i in range(0,6):\n",
    "    mean += x[i] * loaded_pdf[i]\n",
    "\n",
    "var = 0\n",
    "for i in range(0,6):\n",
    "    var += x[i]**2 *loaded_pdf[i]\n",
    "var = var - mean**2\n",
    "\n",
    "std = 0\n",
    "for i in range(0,6):\n",
    "    std += loaded_pdf[i]*(x[i]-mean)**2\n",
    "std = np.sqrt(std)\n",
    "\n",
    "print (\"Expected value: %.3f\"%mean)\n",
    "print (\"Variance: %.3f\"%var)\n",
    "print (\"Standard Deviation: %.3f\"%std)"
   ]
  },
  {
   "cell_type": "markdown",
   "id": "b16afdf9",
   "metadata": {},
   "source": [
    "### Drawing from a distribution function\n",
    "We have our probability distribution function, but how do we draw from such a distribution? Looking at the distribution graph, we see that, no matter how many times we roll the dice, we'll never get a '2'. Also, in theory, out of 8 rolls, we'll get a '5' three times. But the question remains: when we have the probability distribution function, how do we use to draw samples that comply with it?\n",
    "\n",
    "**Creating a sample list**  \n",
    "If the number of variables in a PDF is low like our loaded dice, we can \"construct\" a sample list and draw randomly (as in \"uniformly\") from that list. So, for the case we have, we can define our list as:\n",
    "![pdfloadeddice.png](images/pdfloadeddice.png)"
   ]
  },
  {
   "cell_type": "code",
   "execution_count": 7,
   "id": "a4b2217f",
   "metadata": {},
   "outputs": [],
   "source": [
    "loaded_dice_set = np.array([1,3,3,4,5,5,5,6])"
   ]
  },
  {
   "cell_type": "markdown",
   "id": "e16a0dfa",
   "metadata": {},
   "source": [
    "This list has the same probability of outcomes as that of the given distribution (e.g., there are two 3s out of a total of eight numbers, so its probability is 1/3, etc.). Thus, we can use a uniform random number generator to produce a random number between 0 and 7 and correspond it with our set (0 -> \"1\"; 1 -> \"3\"; 2 -> \"3\"; ... ; 7 -> \"6\"):"
   ]
  },
  {
   "cell_type": "code",
   "execution_count": 8,
   "id": "ed28b193",
   "metadata": {},
   "outputs": [
    {
     "name": "stdout",
     "output_type": "stream",
     "text": [
      "[5. 3. 3. 1. 5. 5. 4. 5. 4. 3.]\n"
     ]
    }
   ],
   "source": [
    "import numpy as np\n",
    "import matplotlib.pyplot as plt\n",
    "\n",
    "# Fixing the seed so that the results are repeatable\n",
    "np.random.seed(371)\n",
    "\n",
    "# Let's draw 10 numbers\n",
    "N = 10\n",
    "\n",
    "loaded_dice_set = np.array([1,3,3,4,5,5,5,6])\n",
    "\n",
    "# Creating an empty array to store the drawn numbers\n",
    "drawn_numbers = np.array([])\n",
    "\n",
    "for i in range (0,N):\n",
    "    # Randomly pick a number in [0,7] ( =[0,8) ) \n",
    "    r = np.random.randint(0,8)\n",
    "    rth_element = loaded_dice_set[r]\n",
    "    \n",
    "    # Add this to our drawn_numbers set\n",
    "    drawn_numbers = np.append(drawn_numbers,rth_element)\n",
    "\n",
    "print(drawn_numbers)"
   ]
  },
  {
   "cell_type": "code",
   "execution_count": 9,
   "id": "b2849e2b",
   "metadata": {},
   "outputs": [
    {
     "name": "stdout",
     "output_type": "stream",
     "text": [
      "Number of occurences of 1: 1\n",
      "Number of occurences of 2: 0\n",
      "Number of occurences of 3: 3\n",
      "Number of occurences of 4: 2\n",
      "Number of occurences of 5: 4\n",
      "Number of occurences of 6: 0\n"
     ]
    }
   ],
   "source": [
    "# Let's calculate the frequencies of occurences:\n",
    "freqs = np.zeros(7)\n",
    "for i in range(1,7):\n",
    "    freqs[i] = np.sum(drawn_numbers == i)\n",
    "    print (\"Number of occurences of %d: %d\"%(i,freqs[i]))"
   ]
  },
  {
   "cell_type": "code",
   "execution_count": 10,
   "id": "1ead32eb",
   "metadata": {},
   "outputs": [
    {
     "name": "stdout",
     "output_type": "stream",
     "text": [
      "[0.1 0.  0.3 0.2 0.4 0. ]\n"
     ]
    },
    {
     "data": {
      "image/png": "[encoded data removed]",
      "text/plain": [
       "<Figure size 432x288 with 1 Axes>"
      ]
     },
     "metadata": {
      "filenames": {
       "image/png": "/stmp/code/books/FIZ371/_build/jupyter_execute/FIZ371_LN10_EST_Distributions_1_20_1.png"
      },
      "needs_background": "light"
     },
     "output_type": "display_data"
    }
   ],
   "source": [
    "# From here on, calculating the occurence probabilities are straightforward:\n",
    "probs = freqs / 10.\n",
    "probs = probs[1:7] # Taking out the dummy 0th entry\n",
    "print(probs)\n",
    "\n",
    "# We will use the original probability dist for comparison\n",
    "probs_real = np.array([0, 1/8, 0, 2/8, 1/8, 3/8, 1/8])\n",
    "\n",
    "plt.bar(range(1,7),probs)\n",
    "plt.bar(range(1,7),probs_real[1:7],color=\"none\",edgecolor=\"red\")\n",
    "plt.show()"
   ]
  },
  {
   "cell_type": "markdown",
   "id": "800f9396",
   "metadata": {},
   "source": [
    "It doesn't quite match that of the original distribution... Can it be due to the low number of draws we have made? Let's up it from 10 to 10000:"
   ]
  },
  {
   "cell_type": "code",
   "execution_count": 11,
   "id": "f82ce6ba",
   "metadata": {},
   "outputs": [
    {
     "name": "stdout",
     "output_type": "stream",
     "text": [
      "Number of occurences of 1: 1239\n",
      "Number of occurences of 2: 0\n",
      "Number of occurences of 3: 2559\n",
      "Number of occurences of 4: 1254\n",
      "Number of occurences of 5: 3731\n",
      "Number of occurences of 6: 1217\n",
      "[0.1239 0.     0.2559 0.1254 0.3731 0.1217]\n"
     ]
    },
    {
     "data": {
      "image/png": "[encoded data removed]",
      "text/plain": [
       "<Figure size 432x288 with 1 Axes>"
      ]
     },
     "metadata": {
      "filenames": {
       "image/png": "/stmp/code/books/FIZ371/_build/jupyter_execute/FIZ371_LN10_EST_Distributions_1_22_1.png"
      },
      "needs_background": "light"
     },
     "output_type": "display_data"
    }
   ],
   "source": [
    "import numpy as np\n",
    "import matplotlib.pyplot as plt\n",
    "\n",
    "# Fixing the seed so that the results are repeatable\n",
    "np.random.seed(371)\n",
    "\n",
    "# Let's draw 10000 numbers\n",
    "N = 10000\n",
    "\n",
    "loaded_dice_set = np.array([1,3,3,4,5,5,5,6])\n",
    "\n",
    "# Creating an empty array to store the drawn numbers\n",
    "drawn_numbers = np.array([])\n",
    "\n",
    "for i in range (0,N):\n",
    "    # Randomly pick a number in [0,7] ( =[0,8) ) \n",
    "    r = np.random.randint(0,8)\n",
    "    rth_element = loaded_dice_set[r]\n",
    "    \n",
    "    # Add this to our drawn_numbers set\n",
    "    drawn_numbers = np.append(drawn_numbers,rth_element)\n",
    "    \n",
    "# Let's calculate the frequencies of occurences:\n",
    "freqs = np.zeros(7)\n",
    "for i in range(1,7):\n",
    "    freqs[i] = np.sum(drawn_numbers == i)\n",
    "    print (\"Number of occurences of %d: %d\"%(i,freqs[i]))\n",
    "\n",
    "# From here on, calculating the occurence probabilities are straightforward:\n",
    "probs = freqs / N\n",
    "probs = probs[1:7] # Taking out the dummy 0th entry\n",
    "print(probs)\n",
    "\n",
    "# We will use the original probability dist for comparison\n",
    "probs_real = np.array([0, 1/8, 0, 2/8, 1/8, 3/8, 1/8])\n",
    "\n",
    "plt.bar(range(1,7),probs)\n",
    "plt.bar(range(1,7),probs_real[1:7],color=\"none\",edgecolor=\"red\")\n",
    "plt.show()"
   ]
  },
  {
   "cell_type": "markdown",
   "id": "dd6982ca",
   "metadata": {},
   "source": [
    "Much, much better!... 8)"
   ]
  },
  {
   "cell_type": "markdown",
   "id": "42b6708b",
   "metadata": {},
   "source": [
    "**Using the PDF directly**  \n",
    "Most of the time, we don't have a small number of options (in the limit, we will be talking about continous outcomes), or even rational probabilities meaning that, we are not able to construct a sample box representing the distribution precisely. In those times, we literally employ the probabilities:\n",
    "1. First, pick a random possible outcome\n",
    "2. Then, roll a fair dice to see if it would come\n",
    "\n",
    "Codewise, this translates to:"
   ]
  },
  {
   "cell_type": "code",
   "execution_count": 12,
   "id": "37f6b647",
   "metadata": {},
   "outputs": [
    {
     "name": "stdout",
     "output_type": "stream",
     "text": [
      "Number of occurences of 1: 1300\n",
      "Number of occurences of 2: 0\n",
      "Number of occurences of 3: 2528\n",
      "Number of occurences of 4: 1252\n",
      "Number of occurences of 5: 3735\n",
      "Number of occurences of 6: 1186\n",
      "\n",
      "Calculated probabilities: \n",
      " [0.13   0.     0.2528 0.1252 0.3735 0.1186]\n"
     ]
    },
    {
     "data": {
      "image/png": "[encoded data removed]",
      "text/plain": [
       "<Figure size 432x288 with 1 Axes>"
      ]
     },
     "metadata": {
      "filenames": {
       "image/png": "/stmp/code/books/FIZ371/_build/jupyter_execute/FIZ371_LN10_EST_Distributions_1_25_1.png"
      },
      "needs_background": "light"
     },
     "output_type": "display_data"
    }
   ],
   "source": [
    "import numpy as np\n",
    "import matplotlib.pyplot as plt\n",
    "\n",
    "# Fixing the seed so that the results are repeatable\n",
    "np.random.seed(371)\n",
    "\n",
    "# The first 0 is to cover the dummy 0th value\n",
    "probs = np.array([0, 1/8, 0, 2/8, 1/8, 3/8, 1/8])\n",
    "\n",
    "N = 10000\n",
    "\n",
    "drawn_numbers = np.array([])\n",
    "\n",
    "while drawn_numbers.size<=N:\n",
    "    # First pick a random integer from [1,6]\n",
    "    r = np.random.randint(1,7)\n",
    "    \n",
    "    # It's happening probability is probs[r],\n",
    "    # so, roll a dice, if the outcome is less than the\n",
    "    # probability, accept it, else, reject it\n",
    "    if(np.random.rand()<probs[r]):\n",
    "        drawn_numbers = np.append(drawn_numbers,r)\n",
    "\n",
    "# Calculate the frequencies of occurence & probabilities from the set:\n",
    "freqs = np.zeros(7)\n",
    "for i in range(1,7):\n",
    "    freqs[i] = np.sum(drawn_numbers == i)\n",
    "    print (\"Number of occurences of %d: %d\"%(i,freqs[i]))\n",
    "    \n",
    "probs2 = freqs / N\n",
    "probs2 = probs2[1:7] # Taking out the dummy 0th entry\n",
    "print(\"\\nCalculated probabilities: \\n\",probs2)\n",
    "plt.bar(range(1,7),probs2)\n",
    "plt.bar(range(1,7),probs[1:7],color=\"none\",edgecolor=\"red\")\n",
    "plt.title(\"PDF of a loaded 6-sided dice after %d rolls\"%(N))\n",
    "plt.show()"
   ]
  },
  {
   "cell_type": "markdown",
   "id": "3cacae87",
   "metadata": {},
   "source": [
    "## Bernoulli/Binomial Distribution\n",
    "We will start simple: consider a draw where there is only two possible outcomes like the flipping of a coin (heads|tails), signal from a digital source (0|1), the turn taken (left|right), etc.\n",
    "\n",
    "Let a flipped coin's probability to come heads (*x=1*) be $0\\le p\\le1$ instead of the usual $\\frac{1}{2}$ (i.e., not necessarily fair).\n",
    "\n",
    "so the probabilities are:\n",
    "\n",
    "$$\\begin{align*}P(x=1) &= p\\\\\n",
    "P(x=0) &= 1-p\\end{align*}$$\n",
    "\n",
    "we can combine these two equations into one such as:\n",
    "\n",
    "$$P(x) = p^x \\left(1-p\\right)^{1-x}$$"
   ]
  },
  {
   "cell_type": "markdown",
   "id": "119202b2",
   "metadata": {},
   "source": [
    "1\\. Mean Value: \n",
    "\n",
    "$$\\mu=\\left<x\\right> = 1. p+ 0. (1-p) = p$$\n",
    "\n",
    "2\\. Variance: \n",
    "\n",
    "$$\\left<x^2\\right> =1^2. p+ 0^2. (1-p) = p\\\\\n",
    "\\rightarrow \\sigma^2 = \\left<x^2\\right> - \\left<x\\right>^2 = p - p^2 = p (1-p)$$"
   ]
  },
  {
   "cell_type": "markdown",
   "id": "d17cd5bb",
   "metadata": {},
   "source": [
    "If the flipping / choosing is repeated *n* times:\n",
    "\n",
    "$$\\begin{align*}P_{X_1,X_2,...,X_n}(x_1,x_2,...,x_n) &= P_{X_1}(x_1). P_{X_2}(x_2)...P_{X_n}(x_n)\\\\\n",
    "&=\\left[p^{x_1}\\left(1-p\\right)^{1-x_1}\\right].\n",
    "\\left[p^{x_2}\\left(1-p\\right)^{1-x_2}\\right]...\n",
    "\\left[p^{x_n}\\left(1-p\\right)^{1-x_n}\\right]\\\\\n",
    "&=p^{x_1+x_2+...+x_n}\\left(1-p\\right)^{n-x_1-x_2-...-x_n}\\\\\n",
    "&=p^{y}\\left(1-p\\right)^{n-y}\n",
    "\\end{align*}$$\n",
    "\n",
    "\n",
    "where _y_ is the number of 1s among $x_1,x_2,...,x_n$.\n",
    "\n",
    "The probability of the chosen outcome occurring a chosen number of times (_k_):\n",
    "\n",
    "$$p\\left(x=k\\right) = \\mathbb{C}_{n,k}\\, p^k\\, \\left(1-p\\right)^{n-k}$$\n",
    "\n",
    "Here, $\\mathbb{C}_{n,k}$ (pronounced as \"n choose k\", also represented by $n \\choose k$ is defined as:\n",
    "\n",
    "$$\\mathbb{C}_{n,k} = \\frac{\\mathbb{P}_{n,k}}{k!}$$\n",
    "\n",
    "and gives the possible outcomes where order is not important. $\\mathbb{P_{n,k}}$ is the permutation number and is used directly when the order is important $\\left(\\mathbb{P} = \\frac{n!}{(n-k)!}\\right)$.  \n",
    "\n",
    "Thus, **Binomial Distribution** is defined as the <u>probability of an outcome between two possible options _k_ times in a drawing of *n* times</u>:\n",
    "\n",
    "$$\\begin{align*}P(n,k) &= \\mathbb{C}_{n,k}\\, p^k\\, \\left(1-p\\right)^{n-k}\\\\\n",
    "&=\\frac{n!}{k!\\left(n-k\\right)!}\\,p^k\\, \\left(1-p\\right)^{n-k}\\end{align*}$$"
   ]
  },
  {
   "cell_type": "markdown",
   "id": "0e621907",
   "metadata": {},
   "source": [
    "### Combinatrics\n",
    "Let's calculate a couple of $\\mathbb{C}_{n,k}$ for various _n & k_ values:"
   ]
  },
  {
   "cell_type": "code",
   "execution_count": 13,
   "id": "7a20d74a",
   "metadata": {},
   "outputs": [
    {
     "name": "stdout",
     "output_type": "stream",
     "text": [
      "C(0,0): 1 \n",
      "C(1,0): 1 C(1,1): 1 \n",
      "C(2,0): 1 C(2,1): 2 C(2,2): 1 \n",
      "C(3,0): 1 C(3,1): 3 C(3,2): 3 C(3,3): 1 \n",
      "C(4,0): 1 C(4,1): 4 C(4,2): 6 C(4,3): 4 C(4,4): 1 \n"
     ]
    }
   ],
   "source": [
    "from scipy.special import comb\n",
    "import numpy as np\n",
    "\n",
    "# comb() is the \"n choose k\" function\n",
    "\n",
    "for n in range(0,5):\n",
    "    for k in range(0,n+1):\n",
    "        print(\"C(%d,%d): %d\"%(n,k,comb(n,k)),end=' ')\n",
    "    print(\"\")"
   ]
  },
  {
   "cell_type": "markdown",
   "id": "9e5a43da",
   "metadata": {},
   "source": [
    "A pattern is emerging! Let's output only the coefficients and distribute them evenly:"
   ]
  },
  {
   "cell_type": "code",
   "execution_count": 14,
   "id": "eaf8fecc",
   "metadata": {},
   "outputs": [
    {
     "name": "stdout",
     "output_type": "stream",
     "text": [
      "                             1                              \n",
      "                            1 1                             \n",
      "                           1 2 1                            \n",
      "                          1 3 3 1                           \n",
      "                         1 4 6 4 1                          \n"
     ]
    }
   ],
   "source": [
    "from scipy.special import comb\n",
    "import numpy as np\n",
    "\n",
    "for n in range(0,5):\n",
    "    kstring = \"\"\n",
    "    for k in range(0,n+1):\n",
    "        kstring += \"%d\"%(comb(n,k))+\" \"\n",
    "    print(kstring.center(60))"
   ]
  },
  {
   "cell_type": "markdown",
   "id": "daf557f0",
   "metadata": {},
   "source": [
    "We have re-derived the [Pascal's Triangle](https://en.wikipedia.org/wiki/Pascal%27s_triangle)!\n",
    "\n",
    "(Pay attention that the first row is $n = 0$ and the first column is $k=0$!)"
   ]
  },
  {
   "cell_type": "markdown",
   "id": "663f4dd5",
   "metadata": {},
   "source": [
    "Pascal's triangle has many applications. For example, in our combinatrix, it gives the possible combinations from n-elements into k-element sets, with the order not being important, e.g.:  \n",
    "`n = 3 : {a,b,c}\n",
    "k = 2 : {a,b}, {b,c}, {a,c}\n",
    "==> C(3,2) = 3!/[2!(3-2)!] = 3`\n",
    "\n",
    "On the contrary, if the order is important (e.g., $\\{a,b\\}\\ne{b,a}$), then we need to use the permutation operator, e.g.:\n",
    "`n = 3 : {a,b,c}\n",
    "k = 2 : {a,b}, {b,a}, {b,c}, {c,b}, {a,c}, {c,a}\n",
    "==> P(3,2) = 3!/(3-2)! = 6`"
   ]
  },
  {
   "cell_type": "markdown",
   "id": "b8d1dcff",
   "metadata": {},
   "source": [
    "### Galton Machine\n",
    "A Galton machine is made by arranging nails in diagonals on a vertical board:\n",
    "![GaltonBoard.png](images/GaltonBoard.png)  \n",
    "Image from [Wikipedia](https://en.wikipedia.org/wiki/Bean_machine#/media/File:GaltonBoard.png)\n",
    "\n",
    "Balls are dropped from the top, thus at each pin they hit, there is an equal chance that they will scatter towards left or right. In the next pin they once again have a ½ chance to go towards left or right and this accumulates. So the probabilities for the first levels can be plotted as:\n",
    "\n",
    "![GaltonProbabilities.png](images/GaltonProbabilities.png)\n",
    "\n",
    "For example, to get the left-most pin, the ball must go towards left 4 times (left->left->left->left), making the total probability of getting there $\\frac{1}{16}$. Or, to get to the middle pin in the center of the 2nd level, it can follow one of the two-ways: either making a left->right, or making a right->left, thus making its cumulative probability to be there the sum of these possibilities, i.e., $\\frac{1}{4}+ \\frac{1}{4} = \\frac{2}{4}= \\frac{1}{2}$.\n",
    "\n",
    "Now, let's consult Pascal's triangle once again, but this time, let's normalize each row, such that every row's sum is equal to 1:"
   ]
  },
  {
   "cell_type": "code",
   "execution_count": 15,
   "id": "00b33625",
   "metadata": {},
   "outputs": [
    {
     "name": "stdout",
     "output_type": "stream",
     "text": [
      "                            1                               \n",
      "                         1/2  1/2                           \n",
      "                      1/4  1/2  1/4                         \n",
      "                    1/8  3/8  3/8  1/8                      \n",
      "                1/16  1/4  3/8  1/4  1/16                   \n"
     ]
    }
   ],
   "source": [
    "from scipy.special import comb\n",
    "from fractions import Fraction\n",
    "import numpy as np\n",
    "\n",
    "for n in range(0,5):\n",
    "    kstring = \"\"\n",
    "    sum_of_the_n_th_row = 0;\n",
    "    for k in range(0,n+1):\n",
    "        sum_of_the_n_th_row += (comb(n,k))\n",
    "    for k in range(0,n+1):\n",
    "        kstring += \"%s\"%str(Fraction(comb(n,k)/sum_of_the_n_th_row))+\"  \"\n",
    "    print(kstring.center(60))"
   ]
  },
  {
   "cell_type": "markdown",
   "id": "f3348e1d",
   "metadata": {},
   "source": [
    "... which are exactly our calculated probabilities above!"
   ]
  },
  {
   "cell_type": "markdown",
   "id": "22110dc6",
   "metadata": {},
   "source": [
    "Let's implement a Galton machine simulator -- we're not going to use any of the probabilities calculated above. We will simply send each ball, one by one, and randomly pick left/right at each nail.\n",
    "\n",
    "So, here is the algorithm of the things we're going to implement:\n",
    "0. Define number of levels (n) and number of balls (N).\n",
    "1. Set the initial coordinate(box) of each ball to 0 (leftmost box).\n",
    "2. At every level, randomly pick left or right:  \n",
    "      * If it is left, keep the coordinate.  \n",
    "      * If it is right, increase the coordinate by 1.\n",
    "3. Record the final coordinate(box) of the ball by increasing that box' count by 1.\n",
    "4. Go to 1 until all balls are processed."
   ]
  },
  {
   "cell_type": "code",
   "execution_count": 16,
   "id": "52baeece",
   "metadata": {},
   "outputs": [
    {
     "name": "stdout",
     "output_type": "stream",
     "text": [
      "Simulation results:\n",
      "[0.061  0.2525 0.3807 0.2423 0.0635]\n",
      "\n",
      "Pascal's Triangle:\n",
      "[0.0625 0.25   0.375  0.25   0.0625]\n"
     ]
    },
    {
     "data": {
      "image/png": "[encoded data removed]",
      "text/plain": [
       "<Figure size 432x288 with 1 Axes>"
      ]
     },
     "metadata": {
      "filenames": {
       "image/png": "/stmp/code/books/FIZ371/_build/jupyter_execute/FIZ371_LN10_EST_Distributions_1_39_1.png"
      },
      "needs_background": "light"
     },
     "output_type": "display_data"
    }
   ],
   "source": [
    "import numpy as np\n",
    "import matplotlib.pyplot as plt\n",
    "\n",
    "# Fixing the seed so that the results are repeatable\n",
    "np.random.seed(371)\n",
    "\n",
    "# Number of levels\n",
    "n = 4 # this means that we're going to have (n+1) boxes\n",
    "\n",
    "# Number of balls\n",
    "N = 10000\n",
    "\n",
    "# Initialize the boxes (numbered from 0 to n)\n",
    "arr_boxes = np.zeros(n+1)\n",
    "\n",
    "# Loop over the balls\n",
    "for i in range(0,N):\n",
    "    position = 0\n",
    "    for level in range(0,n):\n",
    "        direction = np.random.randint(2)\n",
    "        # print(direction,end=\" \")\n",
    "        position += direction\n",
    "\n",
    "    # if it goes left everytime, then the position\n",
    "    # would be: 0 which is the leftmost box: 0\n",
    "        \n",
    "    # if it goes right everytime, then the position\n",
    "    # would be: +n which is the rightmost box: #n\n",
    "    # print(str(position))\n",
    "    arr_boxes[position] += 1\n",
    "print(\"Simulation results:\")\n",
    "print(arr_boxes/N)\n",
    "\n",
    "print(\"\")\n",
    "\n",
    "# Let's compare it with the direct Pascal's triangle results:\n",
    "pascal_triangle = np.zeros(n+1)\n",
    "for kk in range(n+1):\n",
    "    pascal_triangle[kk] = comb(n,kk)\n",
    "#print(pascal_triangle)\n",
    "pascal_triangle = pascal_triangle / np.sum(pascal_triangle)\n",
    "print(\"Pascal's Triangle:\")\n",
    "print(pascal_triangle)\n",
    "\n",
    "# While we're at it, let's also plot the probabilities by\n",
    "# dividing the number of balls in each box to the tall # of balls:\n",
    "plt.bar(range(n+1),arr_boxes/N)\n",
    "\n",
    "# and project upon it the values from Pascal's triangle:\n",
    "plt.bar(range(n+1),pascal_triangle,color=\"none\",edgecolor=\"red\")\n",
    "\n",
    "plt.show()"
   ]
  },
  {
   "cell_type": "markdown",
   "id": "f68e1c82",
   "metadata": {},
   "source": [
    "In our next lecture, we'll increase the number of balls and also will take the number of levels -almost- to infinity and then we'll be dealing with continous distributions!"
   ]
  }
 ],
 "metadata": {
  "jupytext": {
   "formats": "ipynb,md:myst",
   "text_representation": {
    "extension": ".md",
    "format_name": "myst",
    "format_version": 0.13,
    "jupytext_version": "1.11.5"
   }
  },
  "kernelspec": {
   "display_name": "Python 3 (ipykernel)",
   "language": "python",
   "name": "python3"
  },
  "language_info": {
   "codemirror_mode": {
    "name": "ipython",
    "version": 3
   },
   "file_extension": ".py",
   "mimetype": "text/x-python",
   "name": "python",
   "nbconvert_exporter": "python",
   "pygments_lexer": "ipython3",
   "version": "3.8.5"
  },
  "source_map": [
   13,
   36,
   41,
   52,
   62,
   66,
   72,
   82,
   88,
   105,
   116,
   139,
   145,
   155,
   159,
   183,
   192,
   194,
   198,
   224,
   232,
   244,
   248,
   288,
   292,
   301,
   338,
   354,
   365,
   395,
   400,
   410,
   414,
   423,
   429,
   441,
   456,
   469,
   473,
   486,
   539
  ]
 },
 "nbformat": 4,
 "nbformat_minor": 5
}