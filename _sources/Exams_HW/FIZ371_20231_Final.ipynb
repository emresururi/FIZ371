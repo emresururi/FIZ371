{
 "cells": [
  {
   "cell_type": "markdown",
   "id": "ac590edc",
   "metadata": {},
   "source": [
    "# Final Exam\n",
    "**FIZ371 - Scientific & Technical Calculations | 10/01/2024**\n",
    "\n",
    "Emre S. Tasci <emre.tasci@hacettepe.edu.tr>\n",
    "Eng. Physics Dept.  \n",
    "Hacettepe University  \n",
    "Ankara, Turkey\n",
    "\n",
    "You can solve the problems analytically or stochastically, it's up to you. You can present your solution having been calculated on a paper, or as a jupyter notebook, or as a mixture of both.\n",
    "\n",
    "* Please prepare one jupyter notebook per question.\n",
    "* You can use any predefined function from numpy, scipy, math, pandas, random, collections and matplotlib modules -- for any other external module/library you should first ask for permission.\n",
    "* Before submitting, download your notebooks as html as well as ipynb format and zip them all.\n",
    "* Name your zip file as <YourName\\>\\_FIZ371_Final.zip (e.g., EmreTasci_FIZ371_Resit.zip)"
   ]
  },
  {
   "cell_type": "markdown",
   "id": "1db5538a",
   "metadata": {},
   "source": [
    "**Pick any 2 questions, if you have time go for a 3rd one for half the points (25) as bonus. Good luck! 8)**"
   ]
  },
  {
   "cell_type": "markdown",
   "id": "c0587af1",
   "metadata": {},
   "source": [
    "## 1. Probability\n",
    "\n",
    "A bag contains $w$ white balls and $b$ black balls. Two balls are drawn, one after the other, <u>without replacement</u>. \n",
    "\n",
    "**Prove that** the probability that the first ball is white is equal to the probability that the second is white."
   ]
  },
  {
   "cell_type": "markdown",
   "id": "f1b1f2e7",
   "metadata": {},
   "source": [
    "## 2. Identifying the Distribution\n",
    "\n",
    "Suppose that you have been given a set of $N$ data points and you have been told that these data are obtained from either a Gaussian distribution or a Lorentz distribution (their normalized forms are included below). How do you determine the probability that the data belongs to the Gaussian or the Lorentzian distribution? Express your answer in detail, using mathematical approach.\n",
    "\n",
    "* **Gaussian Distribution**\n",
    "  \n",
    "  $$G(x;\\mu,\\sigma) = \\frac{1}{\\sigma\\sqrt{2\\pi}}e^{-\\frac{1}{2}\\left(\\frac{x-\\mu}{\\sigma}\\right)^2}$$\n",
    "  \n",
    "* **Lorentzian Distributiton**  \n",
    "  \n",
    "  $$L(x;x_0,\\gamma) = \\frac{1}{\\pi}\\left[\\frac{\\gamma}{\\left(x-x_0\\right)^2+\\gamma^2}\\right]$$"
   ]
  },
  {
   "cell_type": "code",
   "execution_count": 1,
   "id": "c7223482",
   "metadata": {},
   "outputs": [],
   "source": [
    "import numpy as np\n",
    "import matplotlib.pyplot as plt"
   ]
  },
  {
   "cell_type": "code",
   "execution_count": 2,
   "id": "c3364ec8",
   "metadata": {},
   "outputs": [],
   "source": [
    "def G(x,mu,sigma):\n",
    "    return np.exp(-0.5*((x-mu)/sigma)**2)/(sigma*np.sqrt(2*np.pi))\n",
    "\n",
    "def L(x,x0,gamma):\n",
    "    return (gamma/np.pi)/((x-x0)**2+gamma**2)"
   ]
  },
  {
   "cell_type": "code",
   "execution_count": 3,
   "id": "4a055acf",
   "metadata": {},
   "outputs": [
    {
     "data": {
      "image/png": "[encoded data removed]",
      "text/plain": [
       "<Figure size 432x288 with 1 Axes>"
      ]
     },
     "metadata": {
      "filenames": {
       "image/png": "/stmp/code/books/FIZ371/_build/jupyter_execute/Exams_HW/FIZ371_20231_Final_6_0.png"
      },
      "needs_background": "light"
     },
     "output_type": "display_data"
    }
   ],
   "source": [
    "x = np.linspace(-5,15,100)\n",
    "plt.plot(x,G(x,5,2),\"b-\")\n",
    "plt.plot(x,L(x,5,2),\"r-\")\n",
    "plt.legend([\"Gaussian\",\"Lorentzian\"])\n",
    "plt.title(\"Gaussian (Normal) & Lorentzian (Cauchy) Distributions\")\n",
    "plt.show()"
   ]
  },
  {
   "cell_type": "markdown",
   "id": "e92a8929",
   "metadata": {},
   "source": [
    "## 3. Game Theory\n",
    "\n",
    "Three candies are given to one of the two friends. The one to whom the candidates are given, will distribute them and the other will decide if it is acceptable or not. If he/she declares the deal as not acceptable, then none of them will get any candy.\n",
    "\n",
    "Draw the reaction-correspondence graph, indicate Nash equilibrium points if there are any.\n",
    "\n",
    "Calculate the probabilities that the decider will accept the deal (if any of the probabilities is 0 or 1 then re-construct the pay-off table, and redo the calculations!)."
   ]
  },
  {
   "cell_type": "markdown",
   "id": "42712b12",
   "metadata": {},
   "source": [
    "## 4. 2D Cellular Automata\n",
    "\n",
    "Start from the center of a $15\\times15$ grid. Come up with a set of rules to build an expanding _circle_ out of that center. The inside of the circle can be left filled (i.e., it can be a _disk_ instead of a circle)."
   ]
  },
  {
   "cell_type": "markdown",
   "id": "92ecf2a1",
   "metadata": {},
   "source": [
    "## 5. Hexagonal Antiferromagnetic Ising Model\n",
    "\n",
    "**_(Counts as a double question)_**\n",
    "\n",
    "Modify the existing code or rewrite a new one to accompany a hexagonal grid where each site is affected by its 3 nearest neighbours and each \"bond\" contributes either:\n",
    "\n",
    "* $-|J|$ to the energy when the sites are of opposite spins, or,\n",
    "* $|J|$ to the energy when the sites are of parallel spins"
   ]
  },
  {
   "cell_type": "code",
   "execution_count": null,
   "id": "e0893849",
   "metadata": {},
   "outputs": [],
   "source": []
  }
 ],
 "metadata": {
  "jupytext": {
   "formats": "ipynb,md:myst",
   "text_representation": {
    "extension": ".md",
    "format_name": "myst",
    "format_version": 0.13,
    "jupytext_version": "1.11.5"
   }
  },
  "kernelspec": {
   "display_name": "Python 3 (ipykernel)",
   "language": "python",
   "name": "python3"
  },
  "language_info": {
   "codemirror_mode": {
    "name": "ipython",
    "version": 3
   },
   "file_extension": ".py",
   "mimetype": "text/x-python",
   "name": "python",
   "nbconvert_exporter": "python",
   "pygments_lexer": "ipython3",
   "version": "3.8.5"
  },
  "source_map": [
   13,
   30,
   34,
   42,
   56,
   61,
   69,
   76,
   86,
   92,
   103
  ]
 },
 "nbformat": 4,
 "nbformat_minor": 5
}