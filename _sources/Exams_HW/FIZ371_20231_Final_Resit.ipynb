{
 "cells": [
  {
   "cell_type": "markdown",
   "id": "e3c998d0",
   "metadata": {},
   "source": [
    "# Final Exam's Resit\n",
    "**FIZ371 - Scientific & Technical Calculations | 29/01/2024**\n",
    "\n",
    "Emre S. Tasci <emre.tasci@hacettepe.edu.tr>\n",
    "Eng. Physics Dept.  \n",
    "Hacettepe University  \n",
    "Ankara, Turkey\n",
    "\n",
    "You can solve the problems analytically or stochastically, it's up to you. You can present your solution having been calculated on a paper, or as a jupyter notebook, or as a mixture of both.\n",
    "\n",
    "* Please prepare one jupyter notebook per question.\n",
    "* You can use any predefined function from numpy, scipy, math, pandas, random, collections and matplotlib modules -- for any other external module/library you should first ask for permission.\n",
    "* Before submitting, download your notebooks as html as well as ipynb format and zip them all.\n",
    "* Name your zip file as <YourName\\>\\_FIZ371_Final_Resit.zip (e.g., EmreTasci_FIZ371_Final_Resit.zip)"
   ]
  },
  {
   "cell_type": "markdown",
   "id": "4b7d3fe0",
   "metadata": {},
   "source": [
    "**Pick any 2 questions, if you have time go for a 3rd one for half the points (25) as bonus. Good luck! 8)**"
   ]
  },
  {
   "cell_type": "markdown",
   "id": "46aadb6e",
   "metadata": {},
   "source": [
    "## 1. Probability\n",
    "\n",
    "An unbiased coin is flipped until one head is thrown. What is the expected number of tails and the expected number of heads?"
   ]
  },
  {
   "cell_type": "markdown",
   "id": "8fdb3dec",
   "metadata": {},
   "source": [
    "## 2. Neural Networks\n",
    "\n",
    "Define the activity rule of a neuron that performs the following table:\n",
    "\n",
    "|$x_1$|$x_2$|$y$|\n",
    "|---|---|---|\n",
    "|0|0|1|\n",
    "|0|1|0|\n",
    "|1|0|1|\n",
    "|1|1|0|\n",
    "\n",
    "If the above table isn't rendered properly, here it is in text format:\n",
    "\n",
    "<pre>\n",
    "x1|x2| y\n",
    " 0| 0| 1\n",
    " 0| 1| 0\n",
    " 1| 0| 1\n",
    " 1| 1| 0\n",
    "</pre>\n",
    "\n",
    "_You can use more than one neuron if you have trouble solving the question with a single one!_\n",
    "\n",
    "_Don't forget to use the bias signal if you are stuck!_"
   ]
  },
  {
   "cell_type": "markdown",
   "id": "91189fdf",
   "metadata": {},
   "source": [
    "## 3. Matching Problem\n",
    "\n",
    "5 students are applying for 3 advisors for their project. An advisor can accept at most 2 students. The preference tables for the students and the advisors are given below, with lowercase letters indicating the students while the uppercase letters indicating the advisors.\n",
    "\n",
    "![advisors](../images/20231_FinalResit_Advisors.png)\n",
    "\n",
    "![students](../images/20231_FinalResit_Students.png)\n",
    "\n",
    "\n",
    "In these tables, the same number indicates equal preferences (e.g., Advisor C equally prefers students c and d as their 2nd choice); while a \"-\" indicates that the advisor won't accept the corresponding student under any condition (i.e., Advisor C has a terrible experience with student e and therefore won't work with them).\n",
    "\n",
    "\n",
    "a) Find a stable match  \n",
    "b) By analyzing, prove that the matching you have acquired is a stable one  \n",
    "c) Is the matching you have proposed unique?"
   ]
  },
  {
   "cell_type": "markdown",
   "id": "6a7b9551",
   "metadata": {},
   "source": [
    "## 4. Parity Concept\n",
    "\n",
    "In our university, recently, the id assignment is done as follows:\n",
    "\n",
    "**Example: 2210334002**\n",
    "\n",
    "* The first digit indicates the millenium (e.g., '2' for 2000s)\n",
    "* The 2nd and 3rd digits indicate the entrance year of the student (e.g., '21' for 2021)\n",
    "* The 4th digit is a seperator, always 0\n",
    "* The 5th, 6th and 7th digits indicate the department code (e.g., '334' for our department)\n",
    "* The last three digits indicate the success order of the student (e.g., '002' belongs to the student who entered our department as the top 2nd student)\n",
    "\n",
    "Come up with a parity concept that will:\n",
    "\n",
    "1. Reduce the number of data transmitted of the id# of the student\n",
    "2. It will be able to spot -and hopefully fix- the transmitted data over a noisy channel\n",
    "\n",
    "**Bonus**\n",
    "Let's say that the transmission channel has a noise ratio of $\\beta = 0.02$: calculate the probability of receiving an undetectable error upon transmission."
   ]
  },
  {
   "cell_type": "markdown",
   "id": "e41c98d8",
   "metadata": {},
   "source": [
    "## 5. Putting the skills to work\n",
    "\n",
    "Describe a physical situation/case/problem (that haven't already been covered during this course's lectures) that doesn't have an analytical solution but could be solved using stochastic methods. Suggest the method and also try to implement & apply it to the problem you have proposed."
   ]
  },
  {
   "cell_type": "code",
   "execution_count": null,
   "id": "a692bef9",
   "metadata": {},
   "outputs": [],
   "source": []
  }
 ],
 "metadata": {
  "jupytext": {
   "formats": "ipynb,md:myst",
   "text_representation": {
    "extension": ".md",
    "format_name": "myst",
    "format_version": 0.13,
    "jupytext_version": "1.11.5"
   }
  },
  "kernelspec": {
   "display_name": "Python 3 (ipykernel)",
   "language": "python",
   "name": "python3"
  },
  "language_info": {
   "codemirror_mode": {
    "name": "ipython",
    "version": 3
   },
   "file_extension": ".py",
   "mimetype": "text/x-python",
   "name": "python",
   "nbconvert_exporter": "python",
   "pygments_lexer": "ipython3",
   "version": "3.8.5"
  },
  "source_map": [
   13,
   30,
   34,
   40,
   67,
   85,
   107,
   113
  ]
 },
 "nbformat": 4,
 "nbformat_minor": 5
}