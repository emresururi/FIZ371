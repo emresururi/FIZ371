{
 "cells": [
  {
   "cell_type": "markdown",
   "id": "7a167d79",
   "metadata": {},
   "source": [
    "## Information Theory Application\n",
    "**FIZ371 - Scientific & Technical Computations | 01/05/2020**\n",
    "\n",
    "**Information Theory Application**\n",
    "* Message Transmission Over A Noisy Channel\n",
    "    * Original Message (Smiley Image)\n",
    "    * Adding noise\n",
    "    * Repetition Algorithm\n",
    "        * Encoding the message before transmission over the noisy channel and decoding it on the otherside\n",
    "            * With 3-repetition:\n",
    "            * With 5-repetition:\n",
    "    * Hamming Code (7,4)\n",
    "        * Encoding the message before transmission over the noisy channel and decoding it on the otherside\n",
    "            \n",
    "Dr. Emre S. Tasci <emre.tasci@hacettepe.edu.tr>"
   ]
  },
  {
   "cell_type": "markdown",
   "id": "bad343b3",
   "metadata": {},
   "source": [
    "# Message Transmission Over A Noisy Channel"
   ]
  },
  {
   "cell_type": "markdown",
   "id": "abac4236",
   "metadata": {},
   "source": [
    "## Original Message (Smiley Image)"
   ]
  },
  {
   "cell_type": "code",
   "execution_count": 1,
   "id": "996110c3",
   "metadata": {},
   "outputs": [
    {
     "name": "stdout",
     "output_type": "stream",
     "text": [
      "[[0. 0. 0. 0. 0. 0. 0. 0. 0. 0.]\n",
      " [0. 0. 1. 1. 0. 0. 0. 1. 1. 0.]\n",
      " [0. 0. 1. 1. 0. 0. 0. 1. 1. 0.]\n",
      " [0. 0. 0. 0. 0. 0. 0. 0. 0. 0.]\n",
      " [0. 0. 0. 0. 0. 0. 0. 0. 0. 0.]\n",
      " [0. 1. 0. 0. 0. 0. 0. 0. 0. 1.]\n",
      " [0. 0. 1. 0. 0. 0. 0. 0. 1. 0.]\n",
      " [0. 0. 0. 1. 1. 1. 1. 1. 0. 0.]\n",
      " [0. 0. 0. 0. 1. 1. 1. 0. 0. 0.]\n",
      " [0. 0. 0. 0. 0. 0. 0. 0. 0. 0.]]\n"
     ]
    },
    {
     "data": {
      "image/png": "[encoded data removed]",
      "text/plain": [
       "<Figure size 288x288 with 1 Axes>"
      ]
     },
     "metadata": {
      "filenames": {
       "image/png": "/stmp/code/books/FIZ371/_build/jupyter_execute/FIZ371_LN36_EST_Information_Theory_MessageTransmissionOverNoise_3_1.png"
      },
      "needs_background": "light"
     },
     "output_type": "display_data"
    }
   ],
   "source": [
    "import numpy as np\n",
    "import matplotlib.pyplot as plt\n",
    "\n",
    "np.random.seed(371)\n",
    "\n",
    "smiley = np.zeros([10,10])\n",
    "\n",
    "smiley[1,[2,3,7,8]] = 1\n",
    "smiley[2,[2,3,7,8]] = 1\n",
    "smiley[5,[1,9]] = 1\n",
    "smiley[6,[2,8]] = 1\n",
    "smiley[7,3:8] = 1\n",
    "smiley[8,4:7] = 1\n",
    "print(smiley)\n",
    "\n",
    "def show_mat(mat):\n",
    "    plt.matshow(mat);\n",
    "    plt.xticks(np.arange(-0.5,mat.shape[1]),np.arange(0,mat.shape[1]+1))\n",
    "    plt.yticks(np.arange(-0.5,mat.shape[0]),np.arange(0,mat.shape[0]+1))\n",
    "    plt.grid(True)\n",
    "    plt.show()\n",
    "\n",
    "show_mat(smiley)"
   ]
  },
  {
   "cell_type": "code",
   "execution_count": 2,
   "id": "cb986477",
   "metadata": {},
   "outputs": [
    {
     "name": "stdout",
     "output_type": "stream",
     "text": [
      "[[0.67075752 0.57269567 0.29398988 0.81239913 0.35415221 0.99105949\n",
      "  0.88496959 0.46573517 0.0764246  0.8091394 ]\n",
      " [0.69593246 0.44876677 0.53807358 0.73339083 0.82003486 0.88569963\n",
      "  0.91761344 0.63732089 0.20199076 0.59188455]\n",
      " [0.05436861 0.2559915  0.7163759  0.13360297 0.58648529 0.55840365\n",
      "  0.33722727 0.42298327 0.12892243 0.19292516]\n",
      " [0.96169087 0.89508277 0.19653927 0.50537714 0.04472516 0.57391799\n",
      "  0.34880585 0.75404504 0.123654   0.54809687]\n",
      " [0.39099071 0.88942276 0.02249352 0.22536184 0.84507417 0.32605968\n",
      "  0.38400221 0.21591123 0.60647952 0.95785814]\n",
      " [0.57987987 0.9925049  0.28028669 0.3101683  0.04994884 0.95405887\n",
      "  0.30315847 0.92951376 0.06005859 0.51998037]\n",
      " [0.7906905  0.54485387 0.25215364 0.79740887 0.60098187 0.92367802\n",
      "  0.07903193 0.52125442 0.38381823 0.81985423]\n",
      " [0.32307813 0.59489293 0.75157259 0.0200778  0.02551564 0.55275974\n",
      "  0.26424553 0.62760059 0.88005822 0.97640319]\n",
      " [0.35837069 0.44730676 0.17721113 0.58766026 0.91042897 0.44743822\n",
      "  0.17720952 0.13873409 0.80870951 0.12107576]\n",
      " [0.88300007 0.27978674 0.99001526 0.92851086 0.97474366 0.99145558\n",
      "  0.11483757 0.96526171 0.2944525  0.80592827]]\n"
     ]
    }
   ],
   "source": [
    "aa = np.random.rand(10,10)\n",
    "print(aa)"
   ]
  },
  {
   "cell_type": "code",
   "execution_count": 3,
   "id": "ccc1f36b",
   "metadata": {},
   "outputs": [
    {
     "data": {
      "text/plain": [
       "22"
      ]
     },
     "execution_count": 3,
     "metadata": {},
     "output_type": "execute_result"
    }
   ],
   "source": [
    "np.sum(aa<0.25)"
   ]
  },
  {
   "cell_type": "code",
   "execution_count": 4,
   "id": "0eefc5c2",
   "metadata": {},
   "outputs": [
    {
     "data": {
      "text/plain": [
       "array([[0., 0., 0., 0., 0., 0., 0., 0., 1., 0.],\n",
       "       [0., 0., 0., 0., 0., 0., 0., 0., 1., 0.],\n",
       "       [1., 0., 0., 1., 0., 0., 0., 0., 1., 1.],\n",
       "       [0., 0., 1., 0., 1., 0., 0., 0., 1., 0.],\n",
       "       [0., 0., 1., 1., 0., 0., 0., 1., 0., 0.],\n",
       "       [0., 0., 0., 0., 1., 0., 0., 0., 1., 0.],\n",
       "       [0., 0., 0., 0., 0., 0., 1., 0., 0., 0.],\n",
       "       [0., 0., 0., 1., 1., 0., 0., 0., 0., 0.],\n",
       "       [0., 0., 1., 0., 0., 0., 1., 1., 0., 1.],\n",
       "       [0., 0., 0., 0., 0., 0., 1., 0., 0., 0.]])"
      ]
     },
     "execution_count": 4,
     "metadata": {},
     "output_type": "execute_result"
    }
   ],
   "source": [
    "aa[aa<0.25] = 1\n",
    "aa[aa<1] = 0\n",
    "aa"
   ]
  },
  {
   "cell_type": "markdown",
   "id": "6af0d17c",
   "metadata": {},
   "source": [
    "## Adding noise"
   ]
  },
  {
   "cell_type": "code",
   "execution_count": 5,
   "id": "987c2b8b",
   "metadata": {},
   "outputs": [
    {
     "name": "stdout",
     "output_type": "stream",
     "text": [
      "[[0 0 0 0 0 0 0 0 0 0]\n",
      " [0 0 1 1 0 0 0 1 1 0]\n",
      " [1 0 1 1 1 0 1 0 0 0]\n",
      " [0 0 0 0 0 0 0 1 0 0]\n",
      " [1 0 0 0 0 0 0 0 0 0]\n",
      " [0 1 0 0 0 0 0 1 0 1]\n",
      " [0 0 1 0 0 0 0 0 1 0]\n",
      " [0 0 0 0 1 1 1 1 0 0]\n",
      " [0 0 1 0 1 1 1 0 0 0]\n",
      " [0 0 0 0 0 0 0 0 0 0]]\n",
      "# Flipped cells: 10\n",
      "Ratio of the flipped cells to total: 0.100\n"
     ]
    },
    {
     "data": {
      "image/png": "[encoded data removed]",
      "text/plain": [
       "<Figure size 288x288 with 1 Axes>"
      ]
     },
     "metadata": {
      "filenames": {
       "image/png": "/stmp/code/books/FIZ371/_build/jupyter_execute/FIZ371_LN36_EST_Information_Theory_MessageTransmissionOverNoise_8_1.png"
      },
      "needs_background": "light"
     },
     "output_type": "display_data"
    }
   ],
   "source": [
    "def rand_filter(mat,beta):\n",
    "    # Flip each of the given mat's cells with\n",
    "    # a probability of beta\n",
    "    size = mat.shape\n",
    "    rnd = (np.random.rand(size[0],size[1])<beta).astype(int)\n",
    "    res = np.logical_xor(mat,rnd).astype(int)\n",
    "    #print(rnd)\n",
    "    print(res)\n",
    "    #show_mat(res)\n",
    "    print(\"# Flipped cells: %2d\"%(np.sum(rnd)))\n",
    "    print(\"Ratio of the flipped cells to total: %.3f\"%(np.sum(rnd)/mat.size))\n",
    "    return res\n",
    "\n",
    "    \n",
    "smiley_with_noise = rand_filter(smiley,0.1)\n",
    "show_mat(smiley_with_noise)"
   ]
  },
  {
   "cell_type": "markdown",
   "id": "fe14c701",
   "metadata": {},
   "source": [
    "## Repetition Algorithm"
   ]
  },
  {
   "cell_type": "code",
   "execution_count": 6,
   "id": "5d602e8c",
   "metadata": {},
   "outputs": [
    {
     "name": "stdout",
     "output_type": "stream",
     "text": [
      "(10, 10)\n",
      "(10, 50)\n"
     ]
    },
    {
     "data": {
      "image/png": "[encoded data removed]",
      "text/plain": [
       "<Figure size 1152x230.4 with 1 Axes>"
      ]
     },
     "metadata": {
      "filenames": {
       "image/png": "/stmp/code/books/FIZ371/_build/jupyter_execute/FIZ371_LN36_EST_Information_Theory_MessageTransmissionOverNoise_10_1.png"
      },
      "needs_background": "light"
     },
     "output_type": "display_data"
    }
   ],
   "source": [
    "def rep_enc(mat,n):\n",
    "    # Repeat the given mat's each cell n times\n",
    "    size = mat.shape\n",
    "    print(size)\n",
    "    mat_repeated = np.empty([size[0],n*size[1]])\n",
    "    print (mat_repeated.shape)\n",
    "    for i in range(size[0]):\n",
    "        for j in range(size[1]):\n",
    "            #print(i,j,\":\",np.arange(n*j,n*j+n),mat[i,j])\n",
    "            mat_repeated[i,np.arange(n*j,n*j+n)] = mat[i,j]\n",
    "    return mat_repeated\n",
    "\n",
    "smiley_encoded = rep_enc(smiley,5)\n",
    "#print(a)\n",
    "\n",
    "show_mat(smiley_encoded)"
   ]
  },
  {
   "cell_type": "code",
   "execution_count": 7,
   "id": "56076e24",
   "metadata": {},
   "outputs": [
    {
     "name": "stdout",
     "output_type": "stream",
     "text": [
      "(10, 10)\n",
      "(10, 50)\n"
     ]
    },
    {
     "data": {
      "image/png": "[encoded data removed]",
      "text/plain": [
       "<Figure size 288x288 with 1 Axes>"
      ]
     },
     "metadata": {
      "filenames": {
       "image/png": "/stmp/code/books/FIZ371/_build/jupyter_execute/FIZ371_LN36_EST_Information_Theory_MessageTransmissionOverNoise_11_1.png"
      },
      "needs_background": "light"
     },
     "output_type": "display_data"
    }
   ],
   "source": [
    "def rep_dec(mat,n):\n",
    "    # Decodes the given mat, in accordance with\n",
    "    # the given repetition number n\n",
    "    size = mat.shape\n",
    "    res = np.empty([size[0],int(size[1]/n)])\n",
    "    res_size = res.shape\n",
    "    for i in range(size[0]):\n",
    "        for j in range(res_size[1]):\n",
    "            #print(\"%d %d\"%(i,j))\n",
    "            res[i,j] = (np.sum(mat[i,np.arange(n*j,n*j+n)])>(n/2)).astype(int)\n",
    "    return res\n",
    "            \n",
    "show_mat(rep_dec(rep_enc(smiley,5),5))"
   ]
  },
  {
   "cell_type": "markdown",
   "id": "f48d82e3",
   "metadata": {},
   "source": [
    "## Encoding the message before transmission over the noisy channel and decoding it on the otherside"
   ]
  },
  {
   "cell_type": "markdown",
   "id": "bbd87b89",
   "metadata": {},
   "source": [
    "### With 3-repetition:"
   ]
  },
  {
   "cell_type": "code",
   "execution_count": 8,
   "id": "ff6bd509",
   "metadata": {},
   "outputs": [
    {
     "name": "stdout",
     "output_type": "stream",
     "text": [
      "(10, 10)\n",
      "(10, 30)\n",
      "[[0 0 0 0 0 0 0 0 0 0 0 0 0 0 0 0 0 0 0 0 0 0 0 0 0 0 0 1 0 1]\n",
      " [0 0 0 0 0 0 1 1 1 1 1 1 0 0 0 0 0 0 0 0 0 1 1 0 1 1 1 0 0 1]\n",
      " [0 0 0 0 1 0 1 1 1 1 1 1 0 0 0 0 0 0 0 0 0 1 1 0 1 1 1 0 0 0]\n",
      " [0 0 0 0 0 0 0 0 0 0 0 0 0 0 0 0 0 0 0 0 0 0 0 0 0 0 0 0 0 0]\n",
      " [0 0 0 0 1 0 0 0 1 1 0 0 0 0 0 0 1 0 0 0 1 0 0 0 0 0 0 0 0 1]\n",
      " [0 0 0 1 1 1 0 0 0 0 0 0 0 0 0 0 0 0 0 0 1 0 0 0 1 0 0 1 1 1]\n",
      " [0 0 0 1 0 0 1 1 1 0 0 0 0 0 0 0 0 0 0 0 0 0 0 0 1 1 1 0 0 0]\n",
      " [1 0 1 0 0 0 0 0 0 1 1 1 1 1 1 1 1 1 1 1 1 1 1 1 0 0 0 0 0 0]\n",
      " [0 0 0 0 0 0 1 0 0 0 0 0 1 1 1 0 1 1 1 1 1 1 0 0 0 0 0 0 0 0]\n",
      " [1 0 0 0 0 1 0 0 0 0 0 1 0 0 0 0 0 0 0 1 0 1 0 0 0 0 0 0 0 0]]\n",
      "# Flipped cells: 25\n",
      "Ratio of the flipped cells to total: 0.083\n"
     ]
    },
    {
     "data": {
      "image/png": "[encoded data removed]",
      "text/plain": [
       "<Figure size 864x288 with 1 Axes>"
      ]
     },
     "metadata": {
      "filenames": {
       "image/png": "/stmp/code/books/FIZ371/_build/jupyter_execute/FIZ371_LN36_EST_Information_Theory_MessageTransmissionOverNoise_14_1.png"
      },
      "needs_background": "light"
     },
     "output_type": "display_data"
    },
    {
     "name": "stdout",
     "output_type": "stream",
     "text": [
      "(10, 10)\n"
     ]
    },
    {
     "data": {
      "image/png": "[encoded data removed]",
      "text/plain": [
       "<Figure size 288x288 with 1 Axes>"
      ]
     },
     "metadata": {
      "filenames": {
       "image/png": "/stmp/code/books/FIZ371/_build/jupyter_execute/FIZ371_LN36_EST_Information_Theory_MessageTransmissionOverNoise_14_3.png"
      },
      "needs_background": "light"
     },
     "output_type": "display_data"
    },
    {
     "name": "stdout",
     "output_type": "stream",
     "text": [
      "# Flipped cells:  2\n",
      "Ratio of the flipped cells to total: 0.020\n"
     ]
    }
   ],
   "source": [
    "smiley_encoded = rep_enc(smiley,3)\n",
    "smiley_enc_transmitted = rand_filter(smiley_encoded,0.1)\n",
    "show_mat(smiley_enc_transmitted)\n",
    "smiley_decoded = rep_dec(smiley_enc_transmitted,3)\n",
    "print(smiley_decoded.shape)\n",
    "show_mat(smiley_decoded)\n",
    "\n",
    "# Calculate the number of flipped cells\n",
    "print(\"# Flipped cells: %2d\"%np.sum(np.logical_xor(smiley,smiley_decoded)))\n",
    "print(\"Ratio of the flipped cells to total: %.3f\"%(np.sum(np.logical_xor(smiley,smiley_decoded))/smiley.size))"
   ]
  },
  {
   "cell_type": "markdown",
   "id": "fde7a812",
   "metadata": {},
   "source": [
    "### With 5-repetition:"
   ]
  },
  {
   "cell_type": "code",
   "execution_count": 9,
   "id": "aa71683c",
   "metadata": {},
   "outputs": [
    {
     "name": "stdout",
     "output_type": "stream",
     "text": [
      "(10, 10)\n",
      "(10, 50)\n",
      "[[0 0 0 0 0 0 0 0 0 0 0 0 0 1 1 1 0 0 0 0 0 0 0 0 1 0 1 0 0 0 0 0 0 0 0 0\n",
      "  1 0 0 0 0 1 0 0 0 0 0 0 0 0]\n",
      " [0 0 0 0 0 0 0 0 0 1 1 0 1 1 1 1 0 1 1 1 0 0 0 0 1 0 1 1 0 0 0 0 0 0 0 1\n",
      "  1 1 1 0 1 1 1 1 1 0 0 0 1 0]\n",
      " [0 0 0 0 0 0 0 0 0 0 1 0 1 0 1 1 1 0 1 1 0 0 0 1 0 0 1 0 0 0 0 0 0 0 0 1\n",
      "  1 1 1 1 1 1 1 1 1 0 0 0 1 0]\n",
      " [0 0 0 0 0 1 0 0 0 0 0 0 0 0 0 0 0 0 0 1 0 0 0 1 0 0 0 0 0 0 0 1 0 0 0 0\n",
      "  0 0 0 0 1 0 0 0 0 0 0 0 0 0]\n",
      " [0 0 0 0 0 0 0 0 1 0 0 0 0 0 1 1 0 0 0 0 0 0 0 0 0 0 0 0 0 0 0 0 0 0 0 0\n",
      "  0 0 0 0 1 0 0 0 0 0 0 0 0 1]\n",
      " [0 0 0 0 1 1 1 1 1 1 0 0 0 0 0 0 0 0 0 0 0 0 0 0 0 0 0 1 1 0 1 0 0 0 1 0\n",
      "  1 0 0 0 0 0 1 0 0 1 1 1 1 1]\n",
      " [0 1 0 0 0 0 0 0 0 0 0 1 1 1 1 0 0 0 0 0 0 0 0 0 0 0 0 0 0 0 0 0 0 0 0 1\n",
      "  0 0 0 0 1 1 1 1 1 0 0 1 0 0]\n",
      " [0 0 0 0 0 0 0 0 0 0 0 0 0 0 0 1 1 1 1 1 1 1 1 1 0 1 1 1 1 1 1 1 1 1 1 1\n",
      "  0 1 1 1 0 0 0 0 0 0 0 0 0 0]\n",
      " [0 0 0 0 0 1 0 0 0 0 0 0 0 0 0 0 0 1 0 0 1 1 1 1 1 0 1 1 1 1 1 1 1 0 1 0\n",
      "  0 0 0 0 0 0 0 0 0 0 0 0 0 0]\n",
      " [0 1 0 0 0 0 0 0 0 0 0 0 0 0 0 0 0 0 0 0 0 0 0 0 1 1 0 0 0 0 0 0 0 0 0 1\n",
      "  0 0 0 0 0 0 0 0 0 0 0 1 0 0]]\n",
      "# Flipped cells: 53\n",
      "Ratio of the flipped cells to total: 0.106\n"
     ]
    },
    {
     "data": {
      "image/png": "[encoded data removed]",
      "text/plain": [
       "<Figure size 1152x230.4 with 1 Axes>"
      ]
     },
     "metadata": {
      "filenames": {
       "image/png": "/stmp/code/books/FIZ371/_build/jupyter_execute/FIZ371_LN36_EST_Information_Theory_MessageTransmissionOverNoise_16_1.png"
      },
      "needs_background": "light"
     },
     "output_type": "display_data"
    },
    {
     "name": "stdout",
     "output_type": "stream",
     "text": [
      "(10, 10)\n"
     ]
    },
    {
     "data": {
      "image/png": "[encoded data removed]",
      "text/plain": [
       "<Figure size 288x288 with 1 Axes>"
      ]
     },
     "metadata": {
      "filenames": {
       "image/png": "/stmp/code/books/FIZ371/_build/jupyter_execute/FIZ371_LN36_EST_Information_Theory_MessageTransmissionOverNoise_16_3.png"
      },
      "needs_background": "light"
     },
     "output_type": "display_data"
    },
    {
     "name": "stdout",
     "output_type": "stream",
     "text": [
      "# Flipped cells:  0\n",
      "Ratio of the flipped cells to total: 0.000\n"
     ]
    }
   ],
   "source": [
    "smiley_encoded = rep_enc(smiley,5)\n",
    "smiley_enc_transmitted = rand_filter(smiley_encoded,0.1)\n",
    "show_mat(smiley_enc_transmitted)\n",
    "smiley_decoded = rep_dec(smiley_enc_transmitted,5)\n",
    "print(smiley_decoded.shape)\n",
    "show_mat(smiley_decoded)\n",
    "\n",
    "# Calculate the number of flipped cells\n",
    "print(\"# Flipped cells: %2d\"%np.sum(np.logical_xor(smiley,smiley_decoded)))\n",
    "print(\"Ratio of the flipped cells to total: %.3f\"%(np.sum(np.logical_xor(smiley,smiley_decoded))/smiley.size))"
   ]
  },
  {
   "cell_type": "markdown",
   "id": "e6d343f6",
   "metadata": {},
   "source": [
    "## Hamming Code (7,4)"
   ]
  },
  {
   "cell_type": "markdown",
   "id": "2accafb2",
   "metadata": {},
   "source": [
    "To efficiently employ the (7,4) Hamming Code, we are increasing our smiley's dimensions to 10x12 to comply with the 4 bit packages of data (4x3=12)."
   ]
  },
  {
   "cell_type": "code",
   "execution_count": 10,
   "id": "bcc7e265",
   "metadata": {},
   "outputs": [
    {
     "data": {
      "image/png": "[encoded data removed]",
      "text/plain": [
       "<Figure size 345.6x288 with 1 Axes>"
      ]
     },
     "metadata": {
      "filenames": {
       "image/png": "/stmp/code/books/FIZ371/_build/jupyter_execute/FIZ371_LN36_EST_Information_Theory_MessageTransmissionOverNoise_19_0.png"
      },
      "needs_background": "light"
     },
     "output_type": "display_data"
    }
   ],
   "source": [
    "smiley_12 = np.zeros([10,12])\n",
    "smiley_12[:,1:11] = smiley\n",
    "show_mat(smiley_12)"
   ]
  },
  {
   "cell_type": "code",
   "execution_count": 11,
   "id": "7791f790",
   "metadata": {},
   "outputs": [
    {
     "name": "stdout",
     "output_type": "stream",
     "text": [
      "[0. 0. 0. 0.]0 0 0|[0. 0. 0. 0.]0 0 0|[0. 0. 0. 0.]0 0 0|\n",
      "[0. 0. 0. 1.]0 1 1|[1. 0. 0. 0.]1 0 1|[1. 1. 0. 0.]0 1 1|\n",
      "[0. 0. 0. 1.]0 1 1|[1. 0. 0. 0.]1 0 1|[1. 1. 0. 0.]0 1 1|\n",
      "[0. 0. 0. 0.]0 0 0|[0. 0. 0. 0.]0 0 0|[0. 0. 0. 0.]0 0 0|\n",
      "[0. 0. 0. 0.]0 0 0|[0. 0. 0. 0.]0 0 0|[0. 0. 0. 0.]0 0 0|\n",
      "[0. 0. 1. 0.]1 1 1|[0. 0. 0. 0.]0 0 0|[0. 0. 1. 0.]1 1 1|\n",
      "[0. 0. 0. 1.]0 1 1|[0. 0. 0. 0.]0 0 0|[0. 1. 0. 0.]1 1 0|\n",
      "[0. 0. 0. 0.]0 0 0|[1. 1. 1. 1.]1 1 1|[1. 0. 0. 0.]1 0 1|\n",
      "[0. 0. 0. 0.]0 0 0|[0. 1. 1. 1.]0 1 0|[0. 0. 0. 0.]0 0 0|\n",
      "[0. 0. 0. 0.]0 0 0|[0. 0. 0. 0.]0 0 0|[0. 0. 0. 0.]0 0 0|\n",
      "[[0. 0. 0. 0. 0. 0. 0. 0. 0. 0. 0. 0. 0. 0. 0. 0. 0. 0. 0. 0. 0.]\n",
      " [0. 0. 0. 1. 0. 1. 1. 1. 0. 0. 0. 1. 0. 1. 1. 1. 0. 0. 0. 1. 1.]\n",
      " [0. 0. 0. 1. 0. 1. 1. 1. 0. 0. 0. 1. 0. 1. 1. 1. 0. 0. 0. 1. 1.]\n",
      " [0. 0. 0. 0. 0. 0. 0. 0. 0. 0. 0. 0. 0. 0. 0. 0. 0. 0. 0. 0. 0.]\n",
      " [0. 0. 0. 0. 0. 0. 0. 0. 0. 0. 0. 0. 0. 0. 0. 0. 0. 0. 0. 0. 0.]\n",
      " [0. 0. 1. 0. 1. 1. 1. 0. 0. 0. 0. 0. 0. 0. 0. 0. 1. 0. 1. 1. 1.]\n",
      " [0. 0. 0. 1. 0. 1. 1. 0. 0. 0. 0. 0. 0. 0. 0. 1. 0. 0. 1. 1. 0.]\n",
      " [0. 0. 0. 0. 0. 0. 0. 1. 1. 1. 1. 1. 1. 1. 1. 0. 0. 0. 1. 0. 1.]\n",
      " [0. 0. 0. 0. 0. 0. 0. 0. 1. 1. 1. 0. 1. 0. 0. 0. 0. 0. 0. 0. 0.]\n",
      " [0. 0. 0. 0. 0. 0. 0. 0. 0. 0. 0. 0. 0. 0. 0. 0. 0. 0. 0. 0. 0.]]\n"
     ]
    }
   ],
   "source": [
    "def H74_enc(mat):\n",
    "    size = mat.shape\n",
    "    if(size[1]%4):\n",
    "        print(\"The number of columns must be a multiple of 4!\")\n",
    "    res = np.empty([size[0],int(size[1]/4*7)])\n",
    "    a = 0\n",
    "    for i in range(size[0]):\n",
    "        for j in range(int(size[1]/4)):\n",
    "            a += 1\n",
    "            current_4 = mat[i,range(4*j,4*j+4)]\n",
    "            print(current_4,end=\"\")\n",
    "            t5 = int(np.sum(current_4[0:3])%2)\n",
    "            t6 = int(np.sum(current_4[1:4])%2)\n",
    "            t7 = int(np.sum(current_4[[0,2,3]])%2)\n",
    "            print(t5,t6,t7,end=\"|\")\n",
    "            res[i,range(7*j,7*j+7)] = np.concatenate((current_4,[t5],[t6],[t7]))\n",
    "        print (\"\")\n",
    "    return res\n",
    "encd_H74 = H74_enc(smiley_12)\n",
    "print(encd_H74)"
   ]
  },
  {
   "cell_type": "code",
   "execution_count": 12,
   "id": "418f6192",
   "metadata": {},
   "outputs": [],
   "source": [
    "syndromes = np.empty([2,2,2],dtype=int)\n",
    "syndromes[0,0,0] = -1\n",
    "syndromes[0,0,1] = 6\n",
    "syndromes[0,1,0] = 5\n",
    "syndromes[0,1,1] = 3\n",
    "syndromes[1,0,0] = 4\n",
    "syndromes[1,0,1] = 0\n",
    "syndromes[1,1,0] = 1\n",
    "syndromes[1,1,1] = 2\n",
    "\n",
    "def H74_dec(mat):\n",
    "    size = mat.shape\n",
    "    print(size)\n",
    "    if(size[1]%7):\n",
    "        print(\"The number of columns must be a multiple of 7!\")\n",
    "    res = np.empty([size[0],int(size[1]/7*4)])\n",
    "    for i in range(size[0]):\n",
    "        for j in range(int(size[1]/7)):\n",
    "            current_7 = mat[i,range(7*j,7*j+7)]\n",
    "            z1 = int(np.sum(current_7[[4,0,1,2]])%2)\n",
    "            z2 = int(np.sum(current_7[[5,1,2,3]])%2)\n",
    "            z3 = int(np.sum(current_7[[6,0,2,3]])%2)\n",
    "            syndrome = syndromes[z1,z2,z3]\n",
    "            print(i,j,current_7,[z1,z2,z3],\" ==> flip:\",\"{:-2d}.bit\".format(syndrome),end=\" | \")\n",
    "            #if(syndrome>-1 and syndrome<5):\n",
    "            if(syndrome>-1):\n",
    "                current_7[syndrome] = np.logical_xor(current_7[syndrome],1)\n",
    "                print(current_7,end=\"\")\n",
    "            res[i,range(4*j,4*j+4)] = current_7[0:4]\n",
    "            print(\"\")\n",
    "    return(res)\n",
    "    \n",
    "# H74_dec(encd_H74)"
   ]
  },
  {
   "cell_type": "markdown",
   "id": "b33b3732",
   "metadata": {},
   "source": [
    "### Encoding the message before transmission over the noisy channel and decoding it on the otherside"
   ]
  },
  {
   "cell_type": "code",
   "execution_count": 13,
   "id": "db3a69ee",
   "metadata": {},
   "outputs": [
    {
     "name": "stdout",
     "output_type": "stream",
     "text": [
      "[0. 0. 0. 0.]0 0 0|[0. 0. 0. 0.]0 0 0|[0. 0. 0. 0.]0 0 0|\n",
      "[0. 0. 0. 1.]0 1 1|[1. 0. 0. 0.]1 0 1|[1. 1. 0. 0.]0 1 1|\n",
      "[0. 0. 0. 1.]0 1 1|[1. 0. 0. 0.]1 0 1|[1. 1. 0. 0.]0 1 1|\n",
      "[0. 0. 0. 0.]0 0 0|[0. 0. 0. 0.]0 0 0|[0. 0. 0. 0.]0 0 0|\n",
      "[0. 0. 0. 0.]0 0 0|[0. 0. 0. 0.]0 0 0|[0. 0. 0. 0.]0 0 0|\n",
      "[0. 0. 1. 0.]1 1 1|[0. 0. 0. 0.]0 0 0|[0. 0. 1. 0.]1 1 1|\n",
      "[0. 0. 0. 1.]0 1 1|[0. 0. 0. 0.]0 0 0|[0. 1. 0. 0.]1 1 0|\n",
      "[0. 0. 0. 0.]0 0 0|[1. 1. 1. 1.]1 1 1|[1. 0. 0. 0.]1 0 1|\n",
      "[0. 0. 0. 0.]0 0 0|[0. 1. 1. 1.]0 1 0|[0. 0. 0. 0.]0 0 0|\n",
      "[0. 0. 0. 0.]0 0 0|[0. 0. 0. 0.]0 0 0|[0. 0. 0. 0.]0 0 0|\n",
      "[[0 0 0 0 0 0 0 0 0 0 0 0 0 0 0 0 0 1 0 0 1]\n",
      " [0 0 0 1 0 1 1 1 0 0 0 1 0 1 1 1 0 1 0 1 1]\n",
      " [0 0 0 0 1 0 1 1 0 0 0 1 0 1 1 1 0 0 0 1 1]\n",
      " [0 0 0 0 1 0 0 0 0 0 0 0 0 1 0 0 0 0 0 0 0]\n",
      " [0 0 0 0 0 0 0 0 0 0 0 0 0 0 0 0 0 0 0 0 0]\n",
      " [0 0 1 0 1 1 1 1 0 0 1 0 0 0 0 0 1 1 1 1 1]\n",
      " [0 0 0 1 0 0 0 0 1 0 0 0 0 0 1 1 0 1 1 1 0]\n",
      " [0 0 0 0 0 0 0 1 1 0 1 1 1 1 1 0 0 0 1 0 1]\n",
      " [0 1 0 0 1 0 0 0 1 1 1 0 1 0 0 1 0 0 0 0 0]\n",
      " [0 0 0 0 0 0 0 0 0 0 0 1 0 0 0 0 1 0 0 0 0]]\n",
      "# Flipped cells: 22\n",
      "Ratio of the flipped cells to total: 0.105\n",
      "(10, 21)\n",
      "0 0 [0 0 0 0 0 0 0] [0, 0, 0]  ==> flip: -1.bit | \n",
      "0 1 [0 0 0 0 0 0 0] [0, 0, 0]  ==> flip: -1.bit | \n",
      "0 2 [0 0 0 1 0 0 1] [0, 1, 0]  ==> flip:  5.bit | [0 0 0 1 0 1 1]\n",
      "1 0 [0 0 0 1 0 1 1] [0, 0, 0]  ==> flip: -1.bit | \n",
      "1 1 [1 0 0 0 1 0 1] [0, 0, 0]  ==> flip: -1.bit | \n",
      "1 2 [1 1 0 1 0 1 1] [0, 1, 1]  ==> flip:  3.bit | [1 1 0 0 0 1 1]\n",
      "2 0 [0 0 0 0 1 0 1] [1, 0, 1]  ==> flip:  0.bit | [1 0 0 0 1 0 1]\n",
      "2 1 [1 0 0 0 1 0 1] [0, 0, 0]  ==> flip: -1.bit | \n",
      "2 2 [1 1 0 0 0 1 1] [0, 0, 0]  ==> flip: -1.bit | \n",
      "3 0 [0 0 0 0 1 0 0] [1, 0, 0]  ==> flip:  4.bit | [0 0 0 0 0 0 0]\n",
      "3 1 [0 0 0 0 0 0 1] [0, 0, 1]  ==> flip:  6.bit | [0 0 0 0 0 0 0]\n",
      "3 2 [0 0 0 0 0 0 0] [0, 0, 0]  ==> flip: -1.bit | \n",
      "4 0 [0 0 0 0 0 0 0] [0, 0, 0]  ==> flip: -1.bit | \n",
      "4 1 [0 0 0 0 0 0 0] [0, 0, 0]  ==> flip: -1.bit | \n",
      "4 2 [0 0 0 0 0 0 0] [0, 0, 0]  ==> flip: -1.bit | \n",
      "5 0 [0 0 1 0 1 1 1] [0, 0, 0]  ==> flip: -1.bit | \n",
      "5 1 [1 0 0 1 0 0 0] [1, 1, 0]  ==> flip:  1.bit | [1 1 0 1 0 0 0]\n",
      "5 2 [0 0 1 1 1 1 1] [0, 1, 1]  ==> flip:  3.bit | [0 0 1 0 1 1 1]\n",
      "6 0 [0 0 0 1 0 0 0] [0, 1, 1]  ==> flip:  3.bit | [0 0 0 0 0 0 0]\n",
      "6 1 [0 1 0 0 0 0 0] [1, 1, 0]  ==> flip:  1.bit | [0 0 0 0 0 0 0]\n",
      "6 2 [1 1 0 1 1 1 0] [1, 1, 0]  ==> flip:  1.bit | [1 0 0 1 1 1 0]\n",
      "7 0 [0 0 0 0 0 0 0] [0, 0, 0]  ==> flip: -1.bit | \n",
      "7 1 [1 1 0 1 1 1 1] [1, 1, 1]  ==> flip:  2.bit | [1 1 1 1 1 1 1]\n",
      "7 2 [1 0 0 0 1 0 1] [0, 0, 0]  ==> flip: -1.bit | \n",
      "8 0 [0 1 0 0 1 0 0] [0, 1, 0]  ==> flip:  5.bit | [0 1 0 0 1 1 0]\n",
      "8 1 [0 1 1 1 0 1 0] [0, 0, 0]  ==> flip: -1.bit | \n",
      "8 2 [0 1 0 0 0 0 0] [1, 1, 0]  ==> flip:  1.bit | [0 0 0 0 0 0 0]\n",
      "9 0 [0 0 0 0 0 0 0] [0, 0, 0]  ==> flip: -1.bit | \n",
      "9 1 [0 0 0 0 1 0 0] [1, 0, 0]  ==> flip:  4.bit | [0 0 0 0 0 0 0]\n",
      "9 2 [0 0 1 0 0 0 0] [1, 1, 1]  ==> flip:  2.bit | [0 0 0 0 0 0 0]\n"
     ]
    },
    {
     "data": {
      "image/png": "[encoded data removed]",
      "text/plain": [
       "<Figure size 345.6x288 with 1 Axes>"
      ]
     },
     "metadata": {
      "filenames": {
       "image/png": "/stmp/code/books/FIZ371/_build/jupyter_execute/FIZ371_LN36_EST_Information_Theory_MessageTransmissionOverNoise_23_1.png"
      },
      "needs_background": "light"
     },
     "output_type": "display_data"
    },
    {
     "name": "stdout",
     "output_type": "stream",
     "text": [
      "# Flipped cells: 11\n",
      "Ratio of the flipped cells to total: 0.092\n"
     ]
    }
   ],
   "source": [
    "encd_H74 = H74_enc(smiley_12)\n",
    "encd_H74_noise = rand_filter(encd_H74,0.1)\n",
    "decd_H74 = H74_dec(encd_H74_noise)\n",
    "show_mat(decd_H74)\n",
    "# Calculate the number of flipped cells\n",
    "print(\"# Flipped cells: %2d\"%np.sum(np.logical_xor(smiley_12,decd_H74)))\n",
    "print(\"Ratio of the flipped cells to total: %.3f\"%(np.sum(np.logical_xor(smiley_12,decd_H74))/smiley_12.size))"
   ]
  },
  {
   "cell_type": "markdown",
   "id": "68d455c8",
   "metadata": {},
   "source": [
    "**_Homework: Develop Hamming Code (8,4), calculate its probability error, discuss why HC(7,4) is preferable to HC(8,4) -- compare it with the double repetition algorithm R<sub>2</sub>._**"
   ]
  }
 ],
 "metadata": {
  "jupytext": {
   "formats": "ipynb,md:myst",
   "text_representation": {
    "extension": ".md",
    "format_name": "myst",
    "format_version": 0.13,
    "jupytext_version": "1.11.5"
   }
  },
  "kernelspec": {
   "display_name": "Python 3 (ipykernel)",
   "language": "python",
   "name": "python3"
  },
  "language_info": {
   "codemirror_mode": {
    "name": "ipython",
    "version": 3
   },
   "file_extension": ".py",
   "mimetype": "text/x-python",
   "name": "python",
   "nbconvert_exporter": "python",
   "pygments_lexer": "ipython3",
   "version": "3.8.5"
  },
  "source_map": [
   13,
   31,
   35,
   39,
   65,
   70,
   74,
   78,
   82,
   99,
   103,
   122,
   136,
   140,
   144,
   155,
   159,
   170,
   174,
   178,
   184,
   207,
   241,
   245,
   253
  ]
 },
 "nbformat": 4,
 "nbformat_minor": 5
}