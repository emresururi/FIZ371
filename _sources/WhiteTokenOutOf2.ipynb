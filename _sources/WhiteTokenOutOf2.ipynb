{
 "cells": [
  {
   "cell_type": "markdown",
   "id": "2e4b9628",
   "metadata": {},
   "source": [
    "# Example: White Token Out Of A Bag\n",
    "(MacKay Exercise 3.12)\n",
    "\n",
    "A bag contains one token, known to be either white or black. A white token is put in, the bag is shaken, and a token is drawn out, which proves to be white. What is now the chance of drawing another white token?\n",
    "\n",
    "\n",
    "## Analytical Solution\n",
    "\n",
    "Given that we have picked a white token, the probability that it had already contained another white, thus after adding the white it became WW:\n",
    "\n",
    "$$P(WW|W) = \\frac{P(W|WW).P(WW)}{P(W)} = \\frac{1\\times1/2}{P(W)}=\\frac{1/2}{P(W)}$$\n",
    "\n",
    "and the probability that it had a black token beforehand, so after adding the white it became WB is:\n",
    "\n",
    "$$P(WB|W) = \\frac{P(W|WB).P(WB)}{P(W)} = \\frac{1/2\\times1/2}{P(W)}=\\frac{1/4}{P(W)}$$\n",
    "\n",
    "We can evaluate the $P(W)$ in the denominator via two ways: \n",
    "\n",
    "* By normalization:  \n",
    "Since there is no other possibility, $P(WW|W) + P(WS|W)$ should be equal to 1. Hence:\n",
    "\n",
    "$$\\frac{1/2}{P(W)} + \\frac{1/4}{P(W)} = \\frac{3/4}{P(W)} = 1\\Rightarrow P(W)=\\frac{3}{4}$$\n",
    "\n",
    "* By inference:  \n",
    "As $P(A) = \\sum_i{P(A|B_i)P(B_i)}$  \n",
    "So, expanding and summing over all the possible cases (WW and WB) yield:\n",
    "\n",
    "$$P(W) = P(W|WW).P(WW) + P(W|WB).P(WB) = (1\\times1/2) + (1/2\\times1/2)=\\frac{3}{4}$$\n",
    "\n",
    "Substituting $P(W)$ in the above equations:\n",
    "\n",
    "$$\\boxed{P(WW|W)=\\frac{1/2}{P(W)}=\\frac{2}{3}}$$\n",
    "\n",
    "$$P(WB|W)=\\frac{1/4}{P(W)}=\\frac{1}{3}$$"
   ]
  },
  {
   "cell_type": "markdown",
   "id": "50d26ecb",
   "metadata": {},
   "source": [
    "## Monte Carlo Solution"
   ]
  },
  {
   "cell_type": "code",
   "execution_count": 1,
   "id": "442a1d7b",
   "metadata": {},
   "outputs": [],
   "source": [
    "import numpy as np"
   ]
  },
  {
   "cell_type": "code",
   "execution_count": 2,
   "id": "46061372",
   "metadata": {},
   "outputs": [],
   "source": [
    "N = 10000000"
   ]
  },
  {
   "cell_type": "code",
   "execution_count": 3,
   "id": "0a4f6662",
   "metadata": {},
   "outputs": [],
   "source": [
    "A = np.random.randint(0,2,(N,3))\n",
    "# 0 : Black\n",
    "# 1 : White"
   ]
  },
  {
   "cell_type": "code",
   "execution_count": 4,
   "id": "70e25cbb",
   "metadata": {},
   "outputs": [],
   "source": [
    "A[:,1] = 1\n",
    "A[:,2] = 999"
   ]
  },
  {
   "cell_type": "code",
   "execution_count": 5,
   "id": "051f9a05",
   "metadata": {},
   "outputs": [],
   "source": [
    "A[A[:,0] == A[:,1],2] = 1 # If both are white, outcome will be white\n",
    "B = A.copy()\n",
    "\n",
    "# If one is black, one is white, the outcome can be either\n",
    "B[B[:,2]==999,2] = np.random.randint(0,2,np.sum(B[:,2]==999))"
   ]
  },
  {
   "cell_type": "code",
   "execution_count": 6,
   "id": "63c4a8e0",
   "metadata": {},
   "outputs": [],
   "source": [
    "# Filter out the outcomes with white:\n",
    "W = B[B[:,2] == 1]"
   ]
  },
  {
   "cell_type": "code",
   "execution_count": 7,
   "id": "d53dca71",
   "metadata": {},
   "outputs": [
    {
     "name": "stdout",
     "output_type": "stream",
     "text": [
      "White: 5000604/7500747 (0.666681)\t|\tBlack: 2500143/7500747 (0.333319)\n"
     ]
    }
   ],
   "source": [
    "num_TOT = W.shape[0]\n",
    "num_W = np.sum(W[:,0] == 1)\n",
    "num_B = num_TOT - num_W\n",
    "print(\"White: {:d}/{:d} ({:5f})\\t|\\tBlack: {:d}/{:d} ({:5f})\".format(num_W,num_TOT,\n",
    "                                                                     num_W/num_TOT,\n",
    "                                                                     num_B,num_TOT,\n",
    "                                                                     num_B/num_TOT))"
   ]
  },
  {
   "cell_type": "code",
   "execution_count": null,
   "id": "f56dbede",
   "metadata": {},
   "outputs": [],
   "source": []
  }
 ],
 "metadata": {
  "jupytext": {
   "formats": "ipynb,md:myst",
   "text_representation": {
    "extension": ".md",
    "format_name": "myst",
    "format_version": 0.13,
    "jupytext_version": "1.11.5"
   }
  },
  "kernelspec": {
   "display_name": "Python 3 (ipykernel)",
   "language": "python",
   "name": "python3"
  },
  "language_info": {
   "codemirror_mode": {
    "name": "ipython",
    "version": 3
   },
   "file_extension": ".py",
   "mimetype": "text/x-python",
   "name": "python",
   "nbconvert_exporter": "python",
   "pygments_lexer": "ipython3",
   "version": "3.8.5"
  },
  "source_map": [
   13,
   50,
   54,
   58,
   62,
   68,
   73,
   81,
   86,
   96
  ]
 },
 "nbformat": 4,
 "nbformat_minor": 5
}