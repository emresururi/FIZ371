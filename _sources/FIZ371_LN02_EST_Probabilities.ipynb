{
 "cells": [
  {
   "cell_type": "markdown",
   "id": "01061765",
   "metadata": {},
   "source": [
    "# Probabilities\n",
    "**FIZ371 - Scientific & Technical Calculations | 03/03/2021**\n",
    "\n",
    "Emre S. Tasci <emre.tasci@hacettepe.edu.tr>"
   ]
  },
  {
   "cell_type": "code",
   "execution_count": 1,
   "id": "4578b118",
   "metadata": {},
   "outputs": [],
   "source": [
    "import itertools\n",
    "from scipy import special\n",
    "import numpy as np\n",
    "import random"
   ]
  },
  {
   "cell_type": "markdown",
   "id": "6493d5f1",
   "metadata": {},
   "source": [
    "## Permutations, Combinations, Products and Variations\n",
    "Before we get into the probabilities, it's a good idea to think about variations of a given set of elements. \n",
    "\n",
    "Let's assume that we have a set consisting of three elements: 'a', 'b' and 'c':"
   ]
  },
  {
   "cell_type": "code",
   "execution_count": 2,
   "id": "d0ef72aa",
   "metadata": {},
   "outputs": [],
   "source": [
    "abc = ['a','b','c']"
   ]
  },
  {
   "cell_type": "markdown",
   "id": "bac12273",
   "metadata": {},
   "source": [
    "## Permutation\n",
    "\n",
    "If we were to produce groups of 2 elements using this set, we would have these pairs:\n",
    "\n",
    "`(a,b) | (b,c) | (a,c) | (b,a) | (c,b) | (c,a)`\n",
    "\n",
    "This is the **permutation** of the elements of our set into groups of 2.\n",
    "\n",
    "Here, we assumed that the order matters, e.g., (a,b) is not the same as (b,a). As an example we can think of an electron (_blue ball_), hole (_green ball_) and an anti-electron (_red ball_) occupying two available states (_boxes_). As the particles are different, it matters if one occupies the 1st state and the other the 2nd one, or vice versa. Hence, in these kind of situations, we construct the permutations where <u>order is important</u>.\n",
    "\n",
    "We can use the itertools module's perm() function to generate the permutations (observe that we are transforming the result from the iterable to a list). If we are interested in just the number of possible groups, then scipy.special package's perm() function comes to aid:"
   ]
  },
  {
   "cell_type": "code",
   "execution_count": 3,
   "id": "1f9e7aba",
   "metadata": {},
   "outputs": [
    {
     "name": "stdout",
     "output_type": "stream",
     "text": [
      "('a', 'b')\n",
      "('a', 'c')\n",
      "('b', 'a')\n",
      "('b', 'c')\n",
      "('c', 'a')\n",
      "('c', 'b')\n",
      "\n",
      "Number of groups:  6\n"
     ]
    }
   ],
   "source": [
    "k = list(itertools.permutations(abc,2))\n",
    "print(*k,sep=\"\\n\")\n",
    "print(\"\\nNumber of groups: \",len(k))"
   ]
  },
  {
   "cell_type": "code",
   "execution_count": 4,
   "id": "c3d7afa0",
   "metadata": {},
   "outputs": [
    {
     "name": "stdout",
     "output_type": "stream",
     "text": [
      "Number of pairs that can be constructed from 3 elements:  6.0\n"
     ]
    }
   ],
   "source": [
    "print(\"Number of pairs that can be constructed from 3 elements: \"\\\n",
    "      ,special.perm(3,2))"
   ]
  },
  {
   "cell_type": "markdown",
   "id": "f645cf04",
   "metadata": {},
   "source": [
    "The fact that (a,b) is not being equal to (b,a) can be visualized as follows:\n",
    "\n",
    "![images/image-3.png](images/image-3.png)"
   ]
  },
  {
   "cell_type": "markdown",
   "id": "e37f0352",
   "metadata": {},
   "source": [
    "And here are the triplet permutations of a set with 3 elements:"
   ]
  },
  {
   "cell_type": "code",
   "execution_count": 5,
   "id": "cbf62a11",
   "metadata": {},
   "outputs": [
    {
     "name": "stdout",
     "output_type": "stream",
     "text": [
      "('a', 'b', 'c')\n",
      "('a', 'c', 'b')\n",
      "('b', 'a', 'c')\n",
      "('b', 'c', 'a')\n",
      "('c', 'a', 'b')\n",
      "('c', 'b', 'a')\n",
      "\n",
      "Number of groups:  6\n",
      "Number of triplets that can be constructed from 3 elements:  6.0\n"
     ]
    }
   ],
   "source": [
    "k = list(itertools.permutations(['a','b','c']))\n",
    "print(*k,sep=\"\\n\")\n",
    "print(\"\\nNumber of groups: \",len(k))\n",
    "print(\"Number of triplets that can be constructed from 3 elements: \"\\\n",
    "      ,special.perm(3,3))"
   ]
  },
  {
   "cell_type": "markdown",
   "id": "78a6c088",
   "metadata": {},
   "source": [
    "The number of $k$-populated sets permutations that can be made from a set of $n$ elements is given by the formula:\n",
    "\n",
    "$$P_{n,k} = \\frac{n!}{(n-k)!}$$"
   ]
  },
  {
   "cell_type": "code",
   "execution_count": 6,
   "id": "6aeb6dc7",
   "metadata": {},
   "outputs": [
    {
     "name": "stdout",
     "output_type": "stream",
     "text": [
      "P(3,2) = 6\n"
     ]
    }
   ],
   "source": [
    "n = 3\n",
    "k = 2\n",
    "P_3_2 = special.factorial(n)/special.factorial(n-k)\n",
    "print(\"P(3,2) = {:d}\".format(int(P_3_2)))"
   ]
  },
  {
   "cell_type": "markdown",
   "id": "13ae5f12",
   "metadata": {},
   "source": [
    "## Combinations ('n choose k')\n",
    "If the order is not important, for example if we are dealing with a situation involving bosons (like photons or all the balls being colored blue) the possible variations are constructed using combinations as (a,b) would be considered equivalent to (b,a), hence <u>the order is not important</u>. \n",
    "\n",
    "Following the permutation analogy above, we can visualize combination in two ways:\n",
    "\n",
    "* placing two balls of same color onto the pedestal,\n",
    "* dropping two differently colored balls into a bowl, so it doesn't matter which was put first."
   ]
  },
  {
   "cell_type": "markdown",
   "id": "1ec74ac2",
   "metadata": {},
   "source": [
    "Continuing with our `abc` set, its pair and triplet combinations are as follows:"
   ]
  },
  {
   "cell_type": "code",
   "execution_count": 7,
   "id": "67e1a234",
   "metadata": {},
   "outputs": [
    {
     "name": "stdout",
     "output_type": "stream",
     "text": [
      "('a', 'b')\n",
      "('a', 'c')\n",
      "('b', 'c')\n",
      "\n",
      "Number of groups:  3\n",
      "Number of pairs that can be constructed from 3 elements:  3.0\n"
     ]
    }
   ],
   "source": [
    "k = list(itertools.combinations(abc,r=2))\n",
    "print(*k,sep=\"\\n\")\n",
    "print(\"\\nNumber of groups: \",len(k))\n",
    "print(\"Number of pairs that can be constructed from 3 elements: \"\\\n",
    "      ,special.comb(3,2))"
   ]
  },
  {
   "cell_type": "markdown",
   "id": "09df56f6",
   "metadata": {},
   "source": [
    "as can be verified, after including (a,b), (b,a) was considered equivalent, hence not listed."
   ]
  },
  {
   "cell_type": "code",
   "execution_count": 8,
   "id": "e1fdb2a9",
   "metadata": {},
   "outputs": [
    {
     "name": "stdout",
     "output_type": "stream",
     "text": [
      "('a', 'b', 'c')\n",
      "\n",
      "Number of groups:  1\n",
      "Number of pairs that can be constructed from 3 elements:  1.0\n"
     ]
    }
   ],
   "source": [
    "k = list(itertools.combinations(abc,r=3))\n",
    "print(*k,sep=\"\\n\")\n",
    "print(\"\\nNumber of groups: \",len(k))\n",
    "print(\"Number of pairs that can be constructed from 3 elements: \"\\\n",
    "      ,special.comb(3,3))"
   ]
  },
  {
   "cell_type": "markdown",
   "id": "053f953f",
   "metadata": {},
   "source": [
    "The number of $k$-populated sets permutations that can be made from a set of $n$ elements is calculated by the formula:\n",
    "\n",
    "$$C_{n,k} = \\frac{P_{n,k}}{k!} = \\frac{n!}{(n-k)!\\,k!}$$"
   ]
  },
  {
   "cell_type": "code",
   "execution_count": 9,
   "id": "7f64937c",
   "metadata": {},
   "outputs": [
    {
     "name": "stdout",
     "output_type": "stream",
     "text": [
      "C(3,2) = 3\n"
     ]
    }
   ],
   "source": [
    "n = 3\n",
    "k = 2\n",
    "C_3_2 = special.factorial(n)/(special.factorial(n-k)\n",
    "                              *special.factorial(k))\n",
    "print(\"C(3,2) = {:d}\".format(int(C_3_2)))"
   ]
  },
  {
   "cell_type": "markdown",
   "id": "b7e45068",
   "metadata": {},
   "source": [
    "### Combinations with replacement (/repetition)\n",
    "Combinations can also be visualized as pulling the items from a pouch/bag and placing them in a bowl so the order won't matter. There is a special case of picking the items: once we pull an item, we make a record of it and then put it back into the pouch for the next draw. This type of processes is conveniently termed as _combinations with replacement_.\n",
    "\n",
    "So, if we have 'a','b','c' in our bag, (a,a) pair is as likely as (a,b) or (b,b) or any other possible combination:"
   ]
  },
  {
   "cell_type": "code",
   "execution_count": 10,
   "id": "d246dfa9",
   "metadata": {},
   "outputs": [
    {
     "name": "stdout",
     "output_type": "stream",
     "text": [
      "('a', 'a')\n",
      "('a', 'b')\n",
      "('a', 'c')\n",
      "('b', 'b')\n",
      "('b', 'c')\n",
      "('c', 'c')\n",
      "\n",
      "Number of groups:  6\n",
      "Number of pairs that can be constructed from 3 elements:  6.0\n"
     ]
    }
   ],
   "source": [
    "k = list(itertools.combinations_with_replacement(abc,r=2))\n",
    "print(*k,sep=\"\\n\")\n",
    "print(\"\\nNumber of groups: \",len(k))\n",
    "print(\"Number of pairs that can be constructed from 3 elements: \"\\\n",
    "      ,special.comb(3,2,repetition=True))"
   ]
  },
  {
   "cell_type": "markdown",
   "id": "a78ef96f",
   "metadata": {},
   "source": [
    "The number of combinations with replacement is calculated using the following formula:\n",
    "\n",
    "$$C_{n,k}^{REP} = \\frac{(n+k-1)!}{(n-1)!\\,k!}$$"
   ]
  },
  {
   "cell_type": "code",
   "execution_count": 11,
   "id": "36c6085b",
   "metadata": {},
   "outputs": [
    {
     "data": {
      "text/plain": [
       "6.0"
      ]
     },
     "execution_count": 11,
     "metadata": {},
     "output_type": "execute_result"
    }
   ],
   "source": [
    "n=3\n",
    "k=2\n",
    "special.factorial(n+k-1)/(special.factorial(k)\n",
    "                          *special.factorial(n-1))"
   ]
  },
  {
   "cell_type": "markdown",
   "id": "a2ccf0c2",
   "metadata": {},
   "source": [
    "## Pascal's Triangle\n",
    "Now consider Pascal's triangle which is pretty much straightforward to construct, where you start from two rows of 1's and then proceed to the next row by summing the two numbers above:"
   ]
  },
  {
   "cell_type": "code",
   "execution_count": 12,
   "id": "efc57198",
   "metadata": {},
   "outputs": [
    {
     "name": "stdout",
     "output_type": "stream",
     "text": [
      "                   0:                                1                            \n",
      "                   1:                              1    1                         \n",
      "                   2:                           1    2    1                       \n",
      "                   3:                         1    3    3    1                    \n",
      "                   4:                      1    4    6    4    1                  \n",
      "                   5:                    1    5   10   10    5    1               \n",
      "                   6:                 1    6   15   20   15    6    1             \n",
      "                   7:               1    7   21   35   35   21    7    1          \n",
      "                   8:            1    8   28   56   70   56   28    8    1        \n",
      "                   9:          1    9   36   84  126  126   84   36    9    1     \n"
     ]
    }
   ],
   "source": [
    "for n in range(10):\n",
    "    print(\"{:20d}: \".format(n),end=\"\")\n",
    "    line = \"\"\n",
    "    for k in range(n+1):\n",
    "        c = special.binom(n,k)\n",
    "        #c = special.comb(n,k)\n",
    "        line = line+\"{:5d}\".format(int(c))\n",
    "    print(\"{:^60s}\".format(line))"
   ]
  },
  {
   "cell_type": "markdown",
   "id": "177c7132",
   "metadata": {},
   "source": [
    "_We can use either special.binom(n,k) or special.comb(n,k) to produce the coefficients (even though there is a slight difference between them, thus one is not an alias for the other, for our purposes this doesn't matter)._"
   ]
  },
  {
   "cell_type": "markdown",
   "id": "9309b32c",
   "metadata": {},
   "source": [
    "As can also be seen from the code, the binom coefficient is the same as the combinations. For example, when we are wondering about the different configurations that yields 2 heads out of 3 coin tosses, we calculate $C_{3,2}$ and find that it's equal to 3 (\"H,H,T\",\"H,T,H\",\"T,H,H\") which is also there as the \"2nd\" term in the \"3rd\" row _(be careful that, like in Python, the iteration in the Pascal's Triangle also starts from 0: C(3,0) = 1; C(3,1) = 3; C(3,2) = 3; C(3,3) = 1 -- 'C(3,0)' means for example the number of configurations where we have 0 tails out of 3 tossings which is obviously one ('H','H','H'))._"
   ]
  },
  {
   "cell_type": "markdown",
   "id": "ae0d00d2",
   "metadata": {},
   "source": [
    "### Example: Probability of getting 5 or more tails out of 8 coin tosses\n",
    "We'll solve this question gradually. First, let's calculate the probability that a very specific sequence of 'T','T','T','T','T','H','H','H' (i.e., five tails are tossed consecutively, followed by 3 heads).\n",
    "\n",
    "The probability of getting the tails side on our 1st toss is of course: 1/2.\n",
    "On the second toss, it is once again: 1/2.\n",
    "For the third, the fourth and the fifth, the same as: 1/2.\n",
    "\n",
    "Now we need a heads side on the sixth. The probability that it will come on the sixth tossing is: 1/2 as well. And it is also the same for the seventh and the eighth. Therefore for this specific sequence to arrive, we have a probability of:\n",
    "\n",
    "$$P(\"TTTTTHHH\") = \\underbrace{\\frac{1}{2}\\times\\frac{1}{2}\\times\\dots\\frac{1}{2}\\times}_{\\text{8 of them}} = \\frac{1}{2^8} =\\frac{1}{256}= 0.00390625$$\n",
    "\n",
    "Actually, this probability is the same for any kind of sequence we'd like to get, whether it is an all tails (\"TTTTTTTT\") or a checkerlike pattern (\"THTHTHTH\"). \n",
    "\n",
    "How many configurations are there with 5 Tails and 3 Heads? We know that it is related to the combinations:"
   ]
  },
  {
   "cell_type": "code",
   "execution_count": 13,
   "id": "47f163d2",
   "metadata": {},
   "outputs": [
    {
     "data": {
      "text/plain": [
       "56.0"
      ]
     },
     "execution_count": 13,
     "metadata": {},
     "output_type": "execute_result"
    }
   ],
   "source": [
    "special.comb(8,5)"
   ]
  },
  {
   "cell_type": "markdown",
   "id": "21efab50",
   "metadata": {},
   "source": [
    "And what about the sequences themselves? I couldn't find a direct way to do it so here is a not so efficient (I guess) way for obtaining them:\n",
    "\n",
    "* Generate a list of 8 that have five \"T\"s and three \"H\"s\n",
    "* Construct all the possible permutations (as order is important and we have the same elements, there will be a huge amount of duplicates (40320 of them))\n",
    "* Assign these lists as numpy array and use np.unique() to eliminate the duplicates. This way we get the different (i.e., where order is not important) configurations (56 of them)."
   ]
  },
  {
   "cell_type": "code",
   "execution_count": 14,
   "id": "d4d27f72",
   "metadata": {},
   "outputs": [],
   "source": [
    "k=list(itertools.permutations([\"T\",\"T\",\"T\",\"T\",\"T\",\"H\",\"H\",\"H\"]))"
   ]
  },
  {
   "cell_type": "code",
   "execution_count": 15,
   "id": "adaf3b62",
   "metadata": {},
   "outputs": [
    {
     "name": "stdout",
     "output_type": "stream",
     "text": [
      "40320\n"
     ]
    }
   ],
   "source": [
    "print(len(k))"
   ]
  },
  {
   "cell_type": "markdown",
   "id": "04640109",
   "metadata": {},
   "source": [
    "We see that the number of sequences constructed this way is actually equal to the number of permutations (which is not one bit surprising):"
   ]
  },
  {
   "cell_type": "code",
   "execution_count": 16,
   "id": "a477d49c",
   "metadata": {},
   "outputs": [
    {
     "name": "stdout",
     "output_type": "stream",
     "text": [
      "40320.0\n"
     ]
    }
   ],
   "source": [
    "print(special.perm(8,8))"
   ]
  },
  {
   "cell_type": "markdown",
   "id": "179ddc24",
   "metadata": {},
   "source": [
    "Due to the order being important and the elements being the same, the list will be dominated by duplicate sequences:"
   ]
  },
  {
   "cell_type": "code",
   "execution_count": 17,
   "id": "42172960",
   "metadata": {},
   "outputs": [
    {
     "name": "stdout",
     "output_type": "stream",
     "text": [
      "('T', 'T', 'T', 'T', 'T', 'H', 'H', 'H')\n",
      "('T', 'T', 'T', 'T', 'T', 'H', 'H', 'H')\n",
      "('T', 'T', 'T', 'T', 'T', 'H', 'H', 'H')\n",
      "('T', 'T', 'T', 'T', 'T', 'H', 'H', 'H')\n",
      "('T', 'T', 'T', 'T', 'T', 'H', 'H', 'H')\n",
      "('T', 'T', 'T', 'T', 'T', 'H', 'H', 'H')\n"
     ]
    }
   ],
   "source": [
    "# Here is the first 6 of the constructed sequences:\n",
    "print(*k[0:6],sep=\"\\n\")"
   ]
  },
  {
   "cell_type": "markdown",
   "id": "5979ff4a",
   "metadata": {},
   "source": [
    "so we filter out the duplicates via np.unique()"
   ]
  },
  {
   "cell_type": "code",
   "execution_count": 18,
   "id": "f4c076e1",
   "metadata": {},
   "outputs": [
    {
     "name": "stdout",
     "output_type": "stream",
     "text": [
      "56\n"
     ]
    }
   ],
   "source": [
    "b = np.array(k)\n",
    "b = np.unique(b,axis=0)\n",
    "print(len(b))"
   ]
  },
  {
   "cell_type": "markdown",
   "id": "9c7dbc3d",
   "metadata": {},
   "source": [
    "We can go the additional mile by displaying all these 56 different sequences"
   ]
  },
  {
   "cell_type": "code",
   "execution_count": 19,
   "id": "c54193f6",
   "metadata": {},
   "outputs": [
    {
     "name": "stdout",
     "output_type": "stream",
     "text": [
      " 1. HHHTTTTT |  2. HHTHTTTT |  3. HHTTHTTT |  4. HHTTTHTT |  5. HHTTTTHT\n",
      " 6. HHTTTTTH |  7. HTHHTTTT |  8. HTHTHTTT |  9. HTHTTHTT | 10. HTHTTTHT\n",
      "11. HTHTTTTH | 12. HTTHHTTT | 13. HTTHTHTT | 14. HTTHTTHT | 15. HTTHTTTH\n",
      "16. HTTTHHTT | 17. HTTTHTHT | 18. HTTTHTTH | 19. HTTTTHHT | 20. HTTTTHTH\n",
      "21. HTTTTTHH | 22. THHHTTTT | 23. THHTHTTT | 24. THHTTHTT | 25. THHTTTHT\n",
      "26. THHTTTTH | 27. THTHHTTT | 28. THTHTHTT | 29. THTHTTHT | 30. THTHTTTH\n",
      "31. THTTHHTT | 32. THTTHTHT | 33. THTTHTTH | 34. THTTTHHT | 35. THTTTHTH\n",
      "36. THTTTTHH | 37. TTHHHTTT | 38. TTHHTHTT | 39. TTHHTTHT | 40. TTHHTTTH\n",
      "41. TTHTHHTT | 42. TTHTHTHT | 43. TTHTHTTH | 44. TTHTTHHT | 45. TTHTTHTH\n",
      "46. TTHTTTHH | 47. TTTHHHTT | 48. TTTHHTHT | 49. TTTHHTTH | 50. TTTHTHHT\n",
      "51. TTTHTHTH | 52. TTTHTTHH | 53. TTTTHHHT | 54. TTTTHHTH | 55. TTTTHTHH\n",
      "56. TTTTTHHH | "
     ]
    }
   ],
   "source": [
    "for i,seq in enumerate(b, start = 1):\n",
    "    print(\"{:>2d}.\".format(i),\\\n",
    "          (\"\".join(map(str,seq))),\\\n",
    "         end=\" | \" if (i%5) else \"\\n\")"
   ]
  },
  {
   "cell_type": "markdown",
   "id": "97507dd8",
   "metadata": {},
   "source": [
    "Now that we have seen how to obtain the number of the sequences (as well as the sequences themselves), let's calculate the number of the sequences of length 8 with 5,6,7,8 tails in them:"
   ]
  },
  {
   "cell_type": "code",
   "execution_count": 20,
   "id": "d41ee613",
   "metadata": {},
   "outputs": [
    {
     "name": "stdout",
     "output_type": "stream",
     "text": [
      "There are 56 different sequences with 5 Tails in them.\n",
      "There are 28 different sequences with 6 Tails in them.\n",
      "There are  8 different sequences with 7 Tails in them.\n",
      "There are  1 different sequences with 8 Tails in them.\n",
      "\n",
      "That makes a total of 93 sequences with 5 or more tails in them.\n"
     ]
    }
   ],
   "source": [
    "n = 8\n",
    "total = 0\n",
    "for k in range(5,9):\n",
    "    print(\"There are {:2d} different sequences with {:d} Tails in them.\"\\\n",
    "          .format(int(special.comb(n,k)),k))\n",
    "    total += int(special.comb(n,k))\n",
    "\n",
    "print(\"\\nThat makes a total of {:d} sequences with 5 or more tails in them.\"\\\n",
    "      .format(total))"
   ]
  },
  {
   "cell_type": "markdown",
   "id": "a2212d93",
   "metadata": {},
   "source": [
    "(check that 56, 28, 8 and 1 are the coefficients in Pascal's Triangle for $n=8$, $k={5,\\dots,8}$)\n",
    "\n",
    "So we have 93 acceptable cases and each of them has a probability of $\\frac{1}{256}$, so that makes the overall probability of getting a sequence with 5 or more tails out of 8 coin tosses:\n",
    "\n",
    "$$93\\times\\frac{1}{256} = \\frac{93}{256} = 0.36328125$$"
   ]
  },
  {
   "cell_type": "markdown",
   "id": "766ea04d",
   "metadata": {},
   "source": [
    "As a last remark: 256 is nothing but the **total number of possible outcomes** out of 8 coin tossings as each toss has 2 possible outcomes thus: \n",
    "\n",
    "$$\\underbrace{2\\times 2\\times\\dots\\times 2}_{\\text{8 tosses}}= 2^8 = 256$$\n",
    "\n",
    "This way of producing variations are discussed in the next section, \"Products\"."
   ]
  },
  {
   "cell_type": "markdown",
   "id": "f572d03f",
   "metadata": {},
   "source": [
    "# Products\n",
    "There is another yet different way of producing variations, but this one preserves each one in its lane and we get combinations that we can not achieve with the previous permutations and combinations (each one to its own way). So suppose that we have three slots and each slot has a different set of possibilities, like {a,b,c} for the first slot; {1,2} for the second and {!,#,?,\\*} for the third slots. There are obviously $3\\times2\\times4=24$ possibile outcomes and we use products to get them.\n",
    "\n",
    "Products work pretty much like distribution of multiplication over summation:"
   ]
  },
  {
   "cell_type": "code",
   "execution_count": 21,
   "id": "aefff5b3",
   "metadata": {},
   "outputs": [
    {
     "name": "stdout",
     "output_type": "stream",
     "text": [
      " 1. a1! |  2. a1# |  3. a1? |  4. a1* |  5. a2!\n",
      " 6. a2# |  7. a2? |  8. a2* |  9. b1! | 10. b1#\n",
      "11. b1? | 12. b1* | 13. b2! | 14. b2# | 15. b2?\n",
      "16. b2* | 17. c1! | 18. c1# | 19. c1? | 20. c1*\n",
      "21. c2! | 22. c2# | 23. c2? | 24. c2* | "
     ]
    }
   ],
   "source": [
    "set1 = ('a','b','c')\n",
    "set2 = (1,2)\n",
    "set3 = ('!','#','?','*')\n",
    "\n",
    "for i,word in enumerate(itertools.product(set1,set2,set3),start=1):\n",
    "    print(\"{:>2d}. {:}\".format(i,\"\".join(map(str,word)))\\\n",
    "          ,end=\" | \" if (i%5) else \"\\n\")"
   ]
  },
  {
   "cell_type": "markdown",
   "id": "6db450e2",
   "metadata": {},
   "source": [
    "As an another application, we can use products to count in binary! 8) Since each slot will be composed of either 0 or 1, we can use the same set in all with the 'repeat' parameter:"
   ]
  },
  {
   "cell_type": "code",
   "execution_count": 22,
   "id": "c892d357",
   "metadata": {},
   "outputs": [
    {
     "name": "stdout",
     "output_type": "stream",
     "text": [
      " 0. 0000\n",
      " 1. 0001\n",
      " 2. 0010\n",
      " 3. 0011\n",
      " 4. 0100\n",
      " 5. 0101\n",
      " 6. 0110\n",
      " 7. 0111\n",
      " 8. 1000\n",
      " 9. 1001\n",
      "10. 1010\n",
      "11. 1011\n",
      "12. 1100\n",
      "13. 1101\n",
      "14. 1110\n",
      "15. 1111\n"
     ]
    }
   ],
   "source": [
    "set01 = (0,1)\n",
    "\n",
    "for i,word in enumerate(itertools.product(set01,repeat = 4)):\n",
    "    print(\"{:>2d}. {:}\".format(i,\"\".join(map(str,word))))"
   ]
  },
  {
   "cell_type": "markdown",
   "id": "9777c97d",
   "metadata": {},
   "source": [
    "# Example: Probability of getting 5 or more tails out of 8 coin tosses (Monte Carlo)"
   ]
  },
  {
   "cell_type": "markdown",
   "id": "87df7547",
   "metadata": {},
   "source": [
    "Let's calculate the probability of getting 5+ tails out of 8 tosses using Monte Carlo method. \n",
    "\n",
    "First, define a function that returns the number of tails from a randomly tossed sequence of 8 tosses:"
   ]
  },
  {
   "cell_type": "code",
   "execution_count": 23,
   "id": "117c30d5",
   "metadata": {},
   "outputs": [],
   "source": [
    "def num_tails_in_n_toss(n=8):\n",
    "    set_HT = [\"head\",\"tail\"]\n",
    "    toss8 = random.choices(set_HT,k=n)\n",
    "    #print(toss8)\n",
    "    #print(\"Number of tails: {:}\".format(toss8.count('tail')))\n",
    "    return toss8.count('tail')"
   ]
  },
  {
   "cell_type": "code",
   "execution_count": 24,
   "id": "cbd1bc86",
   "metadata": {},
   "outputs": [
    {
     "data": {
      "text/plain": [
       "4"
      ]
     },
     "execution_count": 24,
     "metadata": {},
     "output_type": "execute_result"
    }
   ],
   "source": [
    "num_tails_in_n_toss()"
   ]
  },
  {
   "cell_type": "markdown",
   "id": "443161a6",
   "metadata": {},
   "source": [
    "Now iterate over this function N times and keep the score of tossings with 5+ tails:"
   ]
  },
  {
   "cell_type": "code",
   "execution_count": 25,
   "id": "59c3ec9d",
   "metadata": {},
   "outputs": [
    {
     "name": "stdout",
     "output_type": "stream",
     "text": [
      "36422 of 100000 tosses have 5+ tails.\n",
      "Total probability (MC): 0.364\n",
      "Analtyical solution: 0.363\n"
     ]
    }
   ],
   "source": [
    "N = 100000\n",
    "count_5_or_more = 0\n",
    "for i in range(N):\n",
    "    if(num_tails_in_n_toss() > 4):\n",
    "        count_5_or_more += 1\n",
    "\n",
    "print(\"{:d} of {:d} tosses have 5+ tails.\".format(count_5_or_more,N))\n",
    "print(\"Total probability (MC): {:.3f}\".format(count_5_or_more/N))\n",
    "print(\"Analtyical solution: {:.3f}\".format(93/256))"
   ]
  },
  {
   "cell_type": "markdown",
   "id": "dc9a878d",
   "metadata": {},
   "source": [
    "**References:**\n",
    "* [Miguel A. Lerma - Mathematical Foundations of Computer Science Lecture Notes](https://sites.math.northwestern.edu/~mlerma/courses/cs310-05s/)([\"More Combinatorics\"](https://sites.math.northwestern.edu/~mlerma/courses/cs310-05s/notes/dm-gcomb))\n",
    "* [Ken A. Dill & Sarina Bromberg - Molecular Driving Forces](https://www.amazon.com/Molecular-Driving-Forces-Statistical-Thermodynamics/dp/0815344309) (Chp 1: \"Principles of Probability\")"
   ]
  },
  {
   "cell_type": "code",
   "execution_count": null,
   "id": "b1f9d91b",
   "metadata": {},
   "outputs": [],
   "source": []
  }
 ],
 "metadata": {
  "jupytext": {
   "formats": "ipynb,md:myst",
   "text_representation": {
    "extension": ".md",
    "format_name": "myst",
    "format_version": 0.13,
    "jupytext_version": "1.11.5"
   }
  },
  "kernelspec": {
   "display_name": "Python 3 (ipykernel)",
   "language": "python",
   "name": "python3"
  },
  "language_info": {
   "codemirror_mode": {
    "name": "ipython",
    "version": 3
   },
   "file_extension": ".py",
   "mimetype": "text/x-python",
   "name": "python",
   "nbconvert_exporter": "python",
   "pygments_lexer": "ipython3",
   "version": "3.8.5"
  },
  "source_map": [
   13,
   20,
   25,
   32,
   34,
   48,
   54,
   57,
   63,
   67,
   73,
   79,
   84,
   94,
   98,
   104,
   108,
   114,
   120,
   126,
   133,
   139,
   145,
   150,
   155,
   164,
   168,
   172,
   189,
   191,
   199,
   203,
   205,
   209,
   211,
   215,
   218,
   222,
   226,
   230,
   235,
   239,
   249,
   257,
   265,
   272,
   280,
   284,
   289,
   293,
   299,
   308,
   310,
   314,
   324,
   330
  ]
 },
 "nbformat": 4,
 "nbformat_minor": 5
}