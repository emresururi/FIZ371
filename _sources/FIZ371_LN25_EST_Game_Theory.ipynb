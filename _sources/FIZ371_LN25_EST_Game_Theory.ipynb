{
 "cells": [
  {
   "cell_type": "markdown",
   "id": "3f6d8b03",
   "metadata": {},
   "source": [
    "## Game Theory\n",
    "**FIZ371 - Scientific & Technical Computations | 11/04/2020**\n",
    "\n",
    "**Game Theory**\n",
    "* Introduction\n",
    "   * Battle of Sexes\n",
    "     * Pay-off table\n",
    "     * Calculating the probabilities\n",
    "       * Probability of coordination\n",
    "       * Probability of miscoordination\n",
    "       * Expected pay-off for each individual\n",
    "   * Prisoner's Dilemma\n",
    "   * Friend or Foe\n",
    "   * Stag Hunt\n",
    "   * Choosing Sides (Driving)\n",
    "   * Party vs. Home\n",
    "   * Matching Pennies\n",
    "* Nash Equilibrium\n",
    "    * Prisoner's Dilemma\n",
    "    * Stag Hunt\n",
    "    * Matching Pennies\n",
    "* References\n",
    "  \n",
    "Dr. Emre S. Tasci <emre.tasci@hacettepe.edu.tr>"
   ]
  },
  {
   "cell_type": "markdown",
   "id": "377ad065",
   "metadata": {},
   "source": [
    "# Introduction\n",
    "\n",
    "Game theory deals with possible outcomes and determining strategies while taking into account the opponents' reactions. By game, we imply any conflict where there is a competition. The game can be cooperative/non-cooperative; constant sum, zero sum or non-zero sum; symmetryic or asymmetric. It has many forms and extends from a chess game to a diplomatic decision that can lead to a world war. In the end, game theory is used to analyze a given conundrum/situation and to come up with the decision that will yield the maximum gain.\n",
    "\n",
    "John Nash was a very influential mathematician who developed an analytical approach to this vast field under the name \"game theory\" for which he received the Nobel prize for Economics in 1994.\n",
    "\n",
    "We will start directly with basic cases and analyze them on the way."
   ]
  },
  {
   "cell_type": "markdown",
   "id": "b07717f0",
   "metadata": {},
   "source": [
    "## Battle of Sexes\n",
    "Manny and Wanda have agreed to attend to an event (opera -or- football) alas both of them have forgotten on which option they had agreed and have no means of communication.\n",
    "\n",
    "To which event should they chose to go?"
   ]
  },
  {
   "cell_type": "markdown",
   "id": "f68ce156",
   "metadata": {},
   "source": [
    "### Pay-off table\n",
    "We start by constructing a pay-off table that covers all of the possible situations. In this case, the possibilities are:\n",
    "\n",
    "* Wanda and Manny both going to the opera\n",
    "* Wanda going to the opera while Manny goes to the football\n",
    "* Wanda going to the football while Manny goes to the opera\n",
    "* Wanda and Mannyn both going to the football match\n",
    "\n",
    "Wanda and Manny are two good friends, they really love spending time together. Wanda isn't a big fan of football, she prefers opera. Manny enjoys watching football matches alas not so enthusiastic about opera. But, as they enjoy being with each other, they certainly prefer attending to their least favorite activity together than watching their favorite activity by themselves (e.g., even though, when alone, Wanda prefers watching an opera than watching a football match, she'll definitely prefer watching a football match with Manny than watching an opera alone by herself). \n",
    "\n",
    "So, in the light of this information, the pay-off table can be something like:\n",
    "\n",
    "| &nbsp;|$M_O$|$M_F$|\n",
    "|---|---|---|\n",
    "|$W_O$|3,2|1,1|\n",
    "|$W_F$|0,0|2,3|\n",
    "\n",
    "The ordering is: (pay-off to Wanda, pay-off to Manny)\n",
    "\n",
    "For example (3,2) for $W_O$ and $M_O$ means that, if Wanda goes to opera ($W_O$) and Manny also goes to opera ($M_O$), Wanda will have 3 units of 'joy', while Manny will have 2 units of 'joy'. However, if Wanda goes to the opera while Manny goes to the football match, each of them will only get 1 unit of 'joy'."
   ]
  },
  {
   "cell_type": "markdown",
   "id": "db15edc7",
   "metadata": {},
   "source": [
    "### Calculating the probabilities\n",
    "The probability that each of them will be at a specific event is naturally ruled by the expected pay-off (they are trying to maximize the joy they will receive). We will be using $M_F$, $M_O$, $W_F$ and $W_O$ to represent the probability that Manny will go to the football match($M_F$), opera($M_O$); Wanda going to the football($W_F$) or opera($W_O$), respectively. Then, taking into account of the pay-offs, we can formulate:\n",
    "\n",
    "$$M_F=\\frac{1\\,.W_O + 3\\,.W_F}{1\\,.W_O + 3\\,.W_F+2\\,.W_O+0\\,.W_F}$$\n",
    "\n",
    "Let's break-down the factors: the 1 before $W_O$ in the numerator is the pay-off for Manny should he goes to the football game when Wanda has gone to the opera and 3 before the $W_F$ is the joy he gets when he goes to the football game and finds out that Wanda is also there!\n",
    "\n",
    "The denominator is the total pay-off sum of all the possibilities for Manny (_mathematically speaking_, it's actually the normalizing constant so we can treat $M_F$ as a probability).\n",
    "\n",
    "$$M_F=\\frac{W_O + 3W_F}{3W_O + 3W_F}=\\frac{W_O + 3W_F}{3\\underbrace{\\left(W_O + W_F\\right)}_{W_O + W_F=1}}=\\frac{1}{3}(W_O + 3W_F) $$\n",
    "\n",
    "Here, we used the fact that $W_O + W_F=1$ as $W_O$ is the probability that Wanda will go to the opera and $W_F$ is the probability that she'll go to the football match and as there are no other options, so the sum of these two probabilities must be equal to 1."
   ]
  },
  {
   "cell_type": "markdown",
   "id": "84a00532",
   "metadata": {},
   "source": [
    "Proceeding similarly onto the other probabilities:\n",
    "\n",
    "$$\n",
    "\\begin{align*}\n",
    "M_O &= \\frac{2W_O+0W_F}{2W_O+0W_F+1W_O+3W_F} = \\frac{2W_O}{3(W_O+W_F)}=\\frac{2W_O}{3}\\\\\n",
    "W_F &= \\frac{0M_O+2M_F}{0M_O+2M_F+3M_O+1M_F} = \\frac{2M_F}{3}\\\\\n",
    "W_O &= \\frac{3M_O+M_F}{3M_O+M_F+0M_O+2M_F} = \\frac{3M_0+M_F}{3}=\\frac{1}{3}(3M_O+M_F)\n",
    "\\end{align*}$$"
   ]
  },
  {
   "cell_type": "markdown",
   "id": "5d427424",
   "metadata": {},
   "source": [
    "We have 4 equations for 4 unknowns -- to summarize:\n",
    "\n",
    "$$\n",
    "\\begin{align*}\n",
    "M_F &= \\frac{1}{3}(W_O + 3W_F)\\\\\n",
    "M_O &=\\frac{2W_O}{3}\\\\\n",
    "W_F &=\\frac{2M_F}{3}\\\\\n",
    "W_O &= \\frac{1}{3}(3M_O+M_F)\n",
    "\\end{align*}$$\n",
    "\n",
    "so, in theory, we must be able to solve this linear set of equations:\n",
    "\n",
    "$$\\left(\\begin{matrix}\n",
    "1&0&-1&-1/3\\\\\n",
    "0&-1&0&2/3\\\\\n",
    "2/3&0&-1&0\\\\\n",
    "1/3&1&0&-1\\\\\n",
    "\\end{matrix}\\right)\n",
    "\\left(\\begin{matrix}\n",
    "M_F\\\\M_O\\\\W_F\\\\W_O\n",
    "\\end{matrix}\\right)\n",
    "=\\left(\\begin{matrix}\n",
    "0\\\\0\\\\0\\\\0\n",
    "\\end{matrix}\\right)\n",
    "$$"
   ]
  },
  {
   "cell_type": "code",
   "execution_count": 1,
   "id": "0905f464",
   "metadata": {},
   "outputs": [
    {
     "name": "stdout",
     "output_type": "stream",
     "text": [
      "[0.] [-0.] [-0.] [-0.]\n"
     ]
    }
   ],
   "source": [
    "import numpy as np\n",
    "from fractions import Fraction\n",
    "A = np.array([[1,0,-1,-1/3],[0,-1,0,2/3],[2/3,0,-1,0],[1/3,1,0,-1]])\n",
    "b = np.array([[0],[0],[0],[0]])\n",
    "[MF,MO,WF,WO] = np.linalg.solve(A,b)\n",
    "print(MF,MO,WF,WO)"
   ]
  },
  {
   "cell_type": "markdown",
   "id": "270e646d",
   "metadata": {},
   "source": [
    "We got a very boring (\"trivial\") result: set all the probabilities to 0 and then, 0 = 0 (_duh!.._)\n",
    "\n",
    "This is because we actually don't have 4 independent equations for 4 unknowns, only 3! We can see this fact as, for example, we can derive the 4th row by multiplying the 1st row by 1; 2nd row by -1; 3rd row by -1 and adding them up:"
   ]
  },
  {
   "cell_type": "code",
   "execution_count": 2,
   "id": "e576aaec",
   "metadata": {},
   "outputs": [
    {
     "name": "stdout",
     "output_type": "stream",
     "text": [
      "1/3 1 0 -1  --> we have rederived the 4th row using the first 3!\n"
     ]
    }
   ],
   "source": [
    "sum = A[0,:] + (-1)*A[1,:]+(-1)*A[2,:]\n",
    "for i in range(0,4):\n",
    "   print(\"%s \"%str(Fraction(sum[i]).limit_denominator(10)),end=\"\")\n",
    "print(\" --> we have rederived the 4th row using the first 3!\")"
   ]
  },
  {
   "cell_type": "markdown",
   "id": "4b15b6fe",
   "metadata": {},
   "source": [
    "So this is an _underdetermined linear set of equations_. \n",
    "\n",
    "By the way, we could also deduce that this was an underdetermined set by checking its rank (i.e., the number of independent rows of a matrix):"
   ]
  },
  {
   "cell_type": "code",
   "execution_count": 3,
   "id": "eecbf82a",
   "metadata": {},
   "outputs": [
    {
     "name": "stdout",
     "output_type": "stream",
     "text": [
      "The rank of our A matrix is: 3\n"
     ]
    }
   ],
   "source": [
    "print(\"The rank of our A matrix is: %d\"%np.linalg.matrix_rank(A))"
   ]
  },
  {
   "cell_type": "markdown",
   "id": "750e241f",
   "metadata": {},
   "source": [
    "To summarize: At the moment we have 4 unknowns but only 3 independent equations, thus we need a 4th equation. Where can it be found?...\n",
    "\n",
    "_(think... think...)_\n",
    "\n",
    "\n",
    ".  \n",
    ".  \n",
    ".  \n",
    "\n",
    "_Any ideas?_...\n",
    "\n",
    ".  \n",
    ".  \n",
    "."
   ]
  },
  {
   "cell_type": "markdown",
   "id": "d1f0d7a1",
   "metadata": {},
   "source": [
    "How about the fact that, since $W_F$ and $W_M$ were the probabilities of Wanda going to the football match or the opera and these were the only possibilities and hence:\n",
    "\n",
    "$$W_F + W_O = 1$$\n",
    "\n",
    "If we \"translate\" this into our set of equations as the 5th line:\n",
    "\n",
    "$$\\left(\\begin{matrix}\n",
    "1&0&-1&-1/3\\\\\n",
    "0&-1&0&2/3\\\\\n",
    "2/3&0&-1&0\\\\\n",
    "1/3&1&0&-1\\\\\n",
    "0&0&1&1\n",
    "\\end{matrix}\\right)\n",
    "\\left(\\begin{matrix}\n",
    "M_F\\\\M_O\\\\W_F\\\\W_O\n",
    "\\end{matrix}\\right)\n",
    "=\\left(\\begin{matrix}\n",
    "0\\\\0\\\\0\\\\0\\\\1\n",
    "\\end{matrix}\\right)\n",
    "$$\n",
    "\n",
    "(5x4).(4x1) = (5x1) --  the dimensions hold, so we can carry on the multiplication but for the linear solve, we need a square matrix, so we take out one of the first four rows (let's drop the 4th):\n",
    "\n",
    "$$\\left(\\begin{matrix}\n",
    "1&0&-1&-1/3\\\\\n",
    "0&-1&0&2/3\\\\\n",
    "2/3&0&-1&0\\\\\n",
    "0&0&1&1\n",
    "\\end{matrix}\\right)\n",
    "\\left(\\begin{matrix}\n",
    "M_F\\\\M_O\\\\W_F\\\\W_O\n",
    "\\end{matrix}\\right)\n",
    "=\\left(\\begin{matrix}\n",
    "0\\\\0\\\\0\\\\1\n",
    "\\end{matrix}\\right)\n",
    "$$"
   ]
  },
  {
   "cell_type": "code",
   "execution_count": 4,
   "id": "55e28395",
   "metadata": {},
   "outputs": [
    {
     "name": "stdout",
     "output_type": "stream",
     "text": [
      "MF: 0.60 | MO: 0.40 | WF: 0.40 | WO: 0.60\n",
      "MF:  3/5 | MO:  2/5 | WF:  2/5 | WO:  3/5\n"
     ]
    }
   ],
   "source": [
    "import numpy as np\n",
    "from fractions import Fraction\n",
    "A = np.array([[1,0,-1,-1/3],[0,-1,0,2/3],[2/3,0,-1,0],[0,0,1,1]])\n",
    "b = np.array([[0],[0],[0],[1]])\n",
    "[MF,MO,WF,WO] = np.linalg.solve(A,b)\n",
    "print(\"MF: %.2f | MO: %.2f | WF: %.2f | WO: %.2f\"%(MF,MO,WF,WO))\n",
    "print(\"MF: %4s | MO: %4s | WF: %4s | WO: %4s\"\\\n",
    "    %(Fraction(MF[0]).limit_denominator(10),\\\n",
    "      Fraction(MO[0]).limit_denominator(10),\\\n",
    "      Fraction(WF[0]).limit_denominator(10),\\\n",
    "      Fraction(WO[0]).limit_denominator(10)))"
   ]
  },
  {
   "cell_type": "markdown",
   "id": "8122b079",
   "metadata": {},
   "source": [
    "P.S.: For details on solving linear equations you can check [related \"FIZ219 - Programming I\" lecture notes](https://emresururi.github.io/FIZ219/FIZ219_EST_UygulamaNotlari_10_Gauss_Eleme_Yontemi_ile_nxn_Dogrusal_Denklem_Cozumu.html) (in Turkish & GNU Octave)"
   ]
  },
  {
   "cell_type": "markdown",
   "id": "19ceebc3",
   "metadata": {},
   "source": [
    "Now that we have calculated the probabilities based on pay-offs, let's calculate the probability of coordination, i.e., the chance that both Wanda and Manny will attend to the same event:\n",
    "\n",
    "**Probability of coordination ($P_c$)**  \n",
    "$P_c = M_F\\,W_F+M_O\\,W_O = \\frac{3}{5}\\frac{2}{5}+\\frac{2}{5}\\frac{3}{5} = \\frac{12}{25}$\n",
    "\n",
    "and the probability of miscoordination where they miss each other:\n",
    "\n",
    "**Probability of miscoordination ($P_m$)**  \n",
    "$P_m = M_F\\,W_O+M_O\\,W_F = \\frac{3}{5}\\frac{3}{5}+\\frac{2}{5}\\frac{2}{5} = \\frac{13}{25}$\n",
    "\n",
    "so, they have a slightly more probability to miss each other than meet in the event. Also, we actually didn't had to calculate $P_m$ directly as it is just $1-P_c$, there being only two possibilities...\n",
    "\n",
    "#### Expected pay-off for each individual\n",
    "This is the measure of the average gain in the limit (like, when this experiment/situation is repeated a great many times):\n",
    "\n",
    "* For Manny:\n",
    "\n",
    "$$E_m = M_F W_F E_m(m_f \\wedge w_f) + M_F W_O E_m(m_f \\wedge w_o)\\\\\n",
    "\\quad\\quad+M_O W_O E_m(m_o \\wedge w_o)+M_O W_F E_m(m_o \\wedge w_f)$$\n",
    "\n",
    "Here as before, $M_F$ for example is the probability that Manny will go to the footbal event, etc. while $E_m(m_f \\wedge w_o)$ is the pay-off value for Manny ($E_m$) when he is in the football event ($m_f$) and ($\\wedge$) Wanda is at the opera ($w_o$): looking from the table we find this pay-off to be 1. \n",
    "\n",
    "So we substitute each of the values in the above equation for the expected pay-off:\n",
    "\n",
    "$$\n",
    "\\begin{align*}\n",
    "E_m &= M_F W_F E_m(m_f \\wedge w_f) + M_F W_O E_m(m_f \\wedge w_o)\\\\\n",
    "&\\quad+M_O W_O E_m(m_o \\wedge w_o)+M_O W_F E_m(m_o \\wedge w_f)\\\\\n",
    "&= \\frac{3}{5}\\,\\cdot\\frac{2}{5}\\,\\cdot3 +\\frac{3}{5}\\,\\cdot\\frac{3}{5}\\,\\cdot1 +\\frac{2}{5}\\,\\cdot\\frac{3}{5}\\,\\cdot2 +\\frac{2}{5}\\,\\cdot\\frac{2}{5}\\,\\cdot0 \\\\\n",
    "&= \\frac{39}{25} = 1.56\n",
    "\\end{align*}$$\n",
    "\n",
    "* For Wanda:  \n",
    "We proceed in a similar way: the probabilities for each combination will be the same but this time we use Wanda's pay-off values for each of them.\n",
    "\n",
    "$$\n",
    "\\begin{align*}\n",
    "E_w &= M_F W_F E_w(m_f \\wedge w_f) + M_F W_O E_w(m_f \\wedge w_o)\\\\\n",
    "&\\quad+M_O W_O E_w(m_o \\wedge w_o)+M_O W_F E_w(m_o \\wedge w_f)\\\\\n",
    "&= \\frac{3}{5}\\,\\cdot\\frac{2}{5}\\,\\cdot2 +\\frac{3}{5}\\,\\cdot\\frac{3}{5}\\,\\cdot1 +\\frac{2}{5}\\,\\cdot\\frac{3}{5}\\,\\cdot3 +\\frac{2}{5}\\,\\cdot\\frac{2}{5}\\,\\cdot0 \\\\\n",
    "&= \\frac{39}{25} = 1.56\n",
    "\\end{align*}$$"
   ]
  },
  {
   "cell_type": "markdown",
   "id": "6fc66f4a",
   "metadata": {},
   "source": [
    "## Prisoner's Dilemma\n",
    "Consider the situation that Alice & Bob has been arrested for a robbery. They have been taken into separate interrogation rooms and can't communicate or see each other.\n",
    "\n",
    "Then the prosecutor comes (she doesn't have much evidence so, she's hoping to turn them against themselves and gain criminating statements against each other) and asks about the involvement of the parties. Here are the possible outcomes:\n",
    "\n",
    "* if Alice & Bob both betray each other : they each get 2 years in prison\n",
    "* if Alice betrays Bob and Bob remains silent : Alice goes out and Bob gets 3 years (_vice versa_)\n",
    "* if both stay silent : they both get 1 year in prison\n",
    "\n",
    "Within the light of these possible outcomes, the \"penalty table\" can be constructed as follows:\n",
    "\n",
    "|&nbsp; |$B_{silent}$|$B_{defects}$|\n",
    "|-----|-----|----|\n",
    "|$A_{silent}$|1,1|3,0\n",
    "|$A_{defects}$|0,3|2,2\n",
    "|&nbsp;|**_penalty table_**|\n",
    "\n",
    "Since in game theory we want to maximize the gains, it's much more convenient to transform this _penalty table_ into a _reward (pay-off) table_:\n",
    "\n",
    "\n",
    "|&nbsp; |$B_{s}$|$B_{d}$|\n",
    "|-----|-----|----|\n",
    "|$A_{s}$|2,2|0,3\n",
    "|$A_{d}$|3,0|1,1\n",
    "|&nbsp;|**_reward (pay-off) table_**|&nbsp;\n",
    "\n",
    "_and then, there's the \"Repeated Prisoner's Dilemma\" (with memory), where the situation is repeated again and again... What would you suggest as the best strategy in that case?_"
   ]
  },
  {
   "cell_type": "markdown",
   "id": "7ef617ab",
   "metadata": {},
   "source": [
    "## Friend or Foe\n",
    "2 people do a homework together. One can choose to participate/help/co-operate/work or do nothing and feed off the other's work.\n",
    "\n",
    "|&nbsp; |$B_{work}$|$B_{do\\,nothing}$|\n",
    "|-----|-----|----|\n",
    "|$A_{work}$|1,1|0,2\n",
    "|$A_{do\\,nothing}$|2,0|0,0"
   ]
  },
  {
   "cell_type": "markdown",
   "id": "2b00115f",
   "metadata": {},
   "source": [
    "## Stag Hunt\n",
    "Two hunters go hunting. On their own, they can hunt a rabbit/hare (1 unit of meat pay-off) or working together, they can hunt a stag/deer (2 units of meat pay-off per each).\n",
    "\n",
    "|&nbsp; |$B_{stag}$|$B_{hare}$|\n",
    "|-----|-----|----|\n",
    "|$A_{stag}$|2,2|0,1\n",
    "|$A_{hare}$|1,0|1,1"
   ]
  },
  {
   "cell_type": "markdown",
   "id": "2a4969d2",
   "metadata": {},
   "source": [
    "## Choosing Sides (Driving)\n",
    "Two drivers come head to head and they both swing. If they both swing to the same side (e.g., each one to their left) they are saved / they don't crash.\n",
    "\n",
    "|&nbsp; |$B_{left}$|$B_{right}$|\n",
    "|-----|-----|----|\n",
    "|$A_{left}$|10,10|0,0\n",
    "|$A_{right}$|0,0|10,10"
   ]
  },
  {
   "cell_type": "markdown",
   "id": "a477bf78",
   "metadata": {},
   "source": [
    "## Party vs. Home\n",
    "Introvert home boy Bob is infatuated with the extrovert party girl Alice.\n",
    "\n",
    "|&nbsp; |$B_{party}$|$B_{home}$|\n",
    "|-----|-----|----|\n",
    "|$A_{party}$|10,10|6,0\n",
    "|$A_{home}$|0,0|5,5\n",
    "\n",
    "![introvert_boy_girl.png](images/introvert_boy_girl.png)\n",
    "(these are just two introverts, not related to the case above! 8)"
   ]
  },
  {
   "cell_type": "markdown",
   "id": "62e46796",
   "metadata": {},
   "source": [
    "## Matching Pennies\n",
    "Two people chooses a side of their coin, and then show to each other.\n",
    "\n",
    "* If they match -> A takes/wins\n",
    "* If they differ -> B takes/wins\n",
    "\n",
    "|&nbsp; |$B_{Heads}$|$B_{Tails}$|\n",
    "|-----|-----|----|\n",
    "|$A_{Heads}$|+1,-1|-1,+1\n",
    "|$A_{Tails}$|-1,+1|+1,-1"
   ]
  },
  {
   "cell_type": "markdown",
   "id": "7d6cfcf1",
   "metadata": {},
   "source": [
    "# Nash Equilibrium\n",
    "When each player knows about the choice of the others and yet won't change their choice (i.e., they are happy with their current choice) then it is said that the game is in a Nash equilibrium, which is the most optimal solution sought. For small and simple systems, there is a simple and systematical way to find the Nash equilibrium points (there can be more than one, as we'll see). Also, Nash has proved (in his Nobel awarded work... of [2 pages](https://www.pnas.org/content/36/1/48)!) that in a complicated and within many yet finite strategies, there is always at least one Nash equilibrium (assuming a special condition that allows mixed strategies). Also, after many iterated tries (playing the same game over and over), the system is expected to reach an equilibrium however, in a [recent research, it has been shown to be not de-facto, with exceptions](https://www.quantamagazine.org/in-game-theory-no-clear-path-to-equilibrium-20170718/).\n",
    "\n",
    "So, for simple systems such as the ones we have considered, where a 2 dimensional pay-off table is sufficient, we consider each player's stance from the other's possible choice. \n",
    "\n",
    "In a 2 player setup, start from one of the cells:\n",
    "* Take the column player's point of view. For each of the cells in that row, compare the immediate neighbours (to the left and right) and point it towards the one with the better yield (higher pay-off). If the current cell is higher yielding, then direct the arrows towards that.\n",
    "* Once you finish the comparison of the rows, then take on the role of the row player and repeat the procedure, this time considering the neighbours above and below.\n",
    "\n",
    "## Prisoner's Dilemma\n",
    "\n",
    "As an example, consider the payoff table for the Prisoner's Dilemma:\n",
    "\n",
    "|&nbsp; |$B_{s}$|$B_{d}$|\n",
    "|-----|-----|----|\n",
    "|$A_{s}$|2,2|0,3\n",
    "|$A_{d}$|3,0|1,1\n",
    "\n",
    "Here, Alice is the column player (because it can make its choice between $A_s$ (above) and $A_d$ (below)) and Bob is the row player (as it chooses between $B_s$ (left) and $B_d$ (right))\n",
    "\n",
    "First we take on Alice's role and let's start from the top left cell (2,2). Alice can choose to stay here (remain silent) or go to the cell below (defect). In this situation (where Bob is remaining silent) if she stays, she gains \"2\" but if she defects, her gain is \"3\" so she will choose to defect (in basic Game Theory, moral or irrational choices are excluded and maximum yield is the ultimate object). So, our chart will be marked as:\n",
    "\n",
    "|&nbsp; |$B_{s}$|$B_{d}$|\n",
    "|-----|-----|----|\n",
    "|$A_{s}$|2$\\color{blue}{\\downarrow}$,2|0,3\n",
    "|$A_{d}$|3,0|1,1\n",
    "\n",
    "Then we move on to Bob's other possible outcome scenario (him defecting). In this case, once again defecting is the better option for Alice (\"0\" $\\rightarrow$ \"1\"), so we mark the 2nd column downwards as well, pointing to the row where Alice defects:\n",
    "\n",
    "|&nbsp; |$B_{s}$|$B_{d}$|\n",
    "|-----|-----|----|\n",
    "|$A_{s}$|2$\\color{blue}{\\downarrow}$,2|0$\\color{blue}{\\downarrow}$,3\n",
    "|$A_{d}$|3,0|1,1\n",
    "\n",
    "Having covered all possibilities for Alice, we now take the role of Bob: his decisions allows movement along the rows. So if he's presented with a situation where Alice is silent, he maximizes his gain by defecting (\"2\" $\\rightarrow$ \"3\") and if Alice is defecting, his choice will also be defecting (\"0\" $\\rightarrow$ \"1\"), so, the pay-off table will be marked as:\n",
    "\n",
    "|&nbsp; |$B_{s}$|$B_{d}$|\n",
    "|-----|-----|----|\n",
    "|$A_{s}$|2$\\color{blue}{\\downarrow}$,2$\\color{red}{\\rightarrow}$|0$\\color{blue}{\\downarrow}$,3\n",
    "|$A_{d}$|3,0$\\color{red}{\\rightarrow}$|1,1\n",
    "\n",
    "More clearly:\n",
    "\n",
    "|&nbsp; |$B_{s}$|&nbsp;|$B_{d}$|\n",
    "|-----|-----|----|---|\n",
    "|$A_{s}$|2,2|$\\color{red}{\\rightarrow}$|0,3\n",
    "|&nbsp;|$\\color{blue}{\\downarrow}$|&nbsp;|$\\color{blue}{\\downarrow}$\n",
    "|$A_{d}$|3,0|$\\color{red}{\\rightarrow}$|1,1\n",
    "\n",
    "Even better:\n",
    "![Nash_Equilibrium.svg](images/Nash_Equilibrium.svg)\n",
    "\n",
    "From the graph above, we can see that, no matter where we start, we are forced to move along the arrows and we end up at the bottom-right cell where Alice and Bob both defect. This is the Nash equilibrium point. \n",
    "\n",
    "From its definition, Nash equilibrium is the state where, given that the other player's choice is revealed, the player won't change their own choice. \n",
    "\n",
    "Consider the case that Alice is thinking of remaining silent but then she learns that Bob has defected: in that case, she'll also defect. The same goes for Bob -- for any of Alice's possible choices, himself defecting is the most rewarding, so he will always defect. Both of them defecting is the **only** case where upon learning other's intentions, they will not change their decision."
   ]
  },
  {
   "cell_type": "markdown",
   "id": "4c8473a9",
   "metadata": {},
   "source": [
    "## Stag Hunt\n",
    "Let's find Nash equilibrium point (or points, or if there's any) for the Stag Hunt whose payoff table was as follows:\n",
    "\n",
    "|&nbsp; |$B_{stag}$|$B_{hare}$|\n",
    "|-----|-----|----|\n",
    "|$A_{stag}$|2,2|0,1\n",
    "|$A_{hare}$|1,0|1,1\n",
    "\n",
    "A determines the movement along (within) the columns whereas B determines the movement along the rows, so we place our arrows accordingly:\n",
    "\n",
    "|&nbsp; |$B_{stag}$|&nbsp;|$B_{hare}$|\n",
    "|-----|-----|----|---|\n",
    "|$A_{stag}$|2,2|$\\color{red}{\\leftarrow}$|0,1\n",
    "|&nbsp;|$\\color{blue}{\\uparrow}$|&nbsp;|$\\color{blue}{\\downarrow}$\n",
    "|$A_{hare}$|1,0|$\\color{red}{\\rightarrow}$|1,1\n",
    "\n",
    "![Nash_Equilibrium_Stag.svg](images/Nash_Equilibrium_Stag.svg)\n",
    "\n",
    "The situation is like this: if A learns that B is going for a stag hunt, she will also opt to go to the stag hunt. If she hears that B is off to hare hunt, she will also choose to go the hare hunting. The same goes for B: If he chooses to go for stag hunting but then learns that A is going for hare hunting, he will change his opinion and will go to hare hunting as well. If he had chosen hare hunting but now learns that A is going for stag hunting, he will also go.\n",
    "\n",
    "We see that, following the arrows, once we reach the top-left or bottom-right cells, we stay there. This means that in this game, we actually have 2 Nash equilibrium points."
   ]
  },
  {
   "cell_type": "markdown",
   "id": "a7e0a646",
   "metadata": {},
   "source": [
    "## Matching Pennies\n",
    "\n",
    "|&nbsp; |$B_{Heads}$|&nbsp;|$B_{Tails}$|\n",
    "|-----|-----|----|----|\n",
    "|$A_{Heads}$|+1,-1|$\\color{red}{\\rightarrow}$|-1,+1\n",
    "|&nbsp;|$\\color{blue}{\\uparrow}$|&nbsp;|$\\color{blue}{\\downarrow}$\n",
    "|$A_{Tails}$|-1,+1|$\\color{red}{\\leftarrow}$|+1,-1\n",
    "\n",
    "![Nash_Equilibrium_Pennies.svg](images/Nash_Equilibrium_Pennies.svg)\n",
    "\n",
    "For this game, as can be seen from the figure, there is no Nash equilibrium point - in no possible outcome can the competing parties leave the game satisfied."
   ]
  },
  {
   "cell_type": "markdown",
   "id": "ae571a14",
   "metadata": {},
   "source": [
    "# References\n",
    "* John Nash, \"Equilibrium points in n-person games\" _PNAS_ 36(1) 48-49 1950\n",
    "https://doi.org/10.1073/pnas.36.1.48\n",
    "* Erica Klarreich, \"In Game Theory, No Clear Path to Equilibrium\" *Quanta Magazine* 18 July 2017  \n",
    "https://www.quantamagazine.org/in-game-theory-no-clear-path-to-equilibrium-20170718/\n",
    "* Yakov Babichenko, Aviad Rubinstein, \"Communication complexity of approximate Nash equilibria\" *arXiv* 2016  \n",
    "https://arxiv.org/abs/1608.06580\n",
    "* Prof. Asu Ozdaglar's \"Game Theory with Engineering Applications\" *MIT Course on OpenCourseWare*  \n",
    "https://ocw.mit.edu/courses/electrical-engineering-and-computer-science/6-254-game-theory-with-engineering-applications-spring-2010/"
   ]
  }
 ],
 "metadata": {
  "jupytext": {
   "formats": "ipynb,md:myst",
   "text_representation": {
    "extension": ".md",
    "format_name": "myst",
    "format_version": 0.13,
    "jupytext_version": "1.11.5"
   }
  },
  "kernelspec": {
   "display_name": "Python 3 (ipykernel)",
   "language": "python",
   "name": "python3"
  },
  "language_info": {
   "codemirror_mode": {
    "name": "ipython",
    "version": 3
   },
   "file_extension": ".py",
   "mimetype": "text/x-python",
   "name": "python",
   "nbconvert_exporter": "python",
   "pygments_lexer": "ipython3",
   "version": "3.8.5"
  },
  "source_map": [
   13,
   40,
   50,
   57,
   80,
   95,
   106,
   134,
   141,
   147,
   152,
   158,
   160,
   177,
   216,
   228,
   232,
   277,
   307,
   317,
   327,
   337,
   350,
   363,
   423,
   447,
   461
  ]
 },
 "nbformat": 4,
 "nbformat_minor": 5
}