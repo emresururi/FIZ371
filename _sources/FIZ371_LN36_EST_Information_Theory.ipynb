{
 "cells": [
  {
   "cell_type": "markdown",
   "id": "d30c2e71",
   "metadata": {},
   "source": [
    "## Information Theory\n",
    "**FIZ371 - Scientific & Technical Computations | 27/04/2020**\n",
    "\n",
    "**Information Theory**\n",
    "* Introduction\n",
    "* The Problem\n",
    "* Reducing the error & Improving the reliability\n",
    "* The probability of error\n",
    "* Shannon - Weaver Communication Model\n",
    "* Parity Concept\n",
    "    * Application: Credit Card Number Validation (Luhn's Algorithm)\n",
    "    * Application: IBAN Validation\n",
    "    * Application TC ID # Validation\n",
    "    * Hamming Code (7,4)\n",
    "        * Examples\n",
    "* Comparison of error-correction algorithms\n",
    "* Shannon's Noisy-Channel Coding Theorem / Shannon's Limit (1948)\n",
    "* References\n",
    "  \n",
    "Dr. Emre S. Tasci <emre.tasci@hacettepe.edu.tr>"
   ]
  },
  {
   "cell_type": "markdown",
   "id": "d4fc53a9",
   "metadata": {},
   "source": [
    "# Introduction\n",
    "\n",
    "Information theory is concerned with the delivery of a message from one point to the other. It has been established by Claude Shannon (1916-2001) in 1948, while working on telecommunication systems at the Bell Laboratories."
   ]
  },
  {
   "cell_type": "markdown",
   "id": "f37ac71e",
   "metadata": {},
   "source": [
    "# The Problem\n",
    "A digitized message (consisting of 1s and 0s, i.e. \"bits\") is transferred with a transfer ratio of 1 binary digit per second, and there is a probability of error that can \"flip\" the bit (i.e., transmitting a 1 as a 0 and vice-versa).\n",
    "\n",
    "![IO.svg](images/IO.svg)"
   ]
  },
  {
   "cell_type": "markdown",
   "id": "1058a81b",
   "metadata": {},
   "source": [
    "# Reducing the error & Improving the reliability\n",
    "\n",
    "Send the source digit through the channel repeatedly.\n",
    "\n",
    "**Ex: Repeating 3 times**\n",
    "![IO_Repeated.png](images/IO_Repeated.png)\n",
    "\n",
    "But it's still prone to errors. If, for the case of: \n",
    "* '0 $\\rightarrow$ 000', more than one 0 are flipped $\\rightarrow$ 1\n",
    "* '1 $\\rightarrow$ 111', more than one 1 are flipped $\\rightarrow$ 0"
   ]
  },
  {
   "cell_type": "markdown",
   "id": "ce33f3ae",
   "metadata": {},
   "source": [
    "# The probability of error\n",
    "Given that the probability of a flip occuring for 1 digit being $\\beta=\\frac{1}{4}$, the probability that at least 2 of a sequence of 3 digits will be received incorrectly:\n",
    "\n",
    "$\\left( {n \\choose k} = \\frac{n!}{(n-k)!k!}\\right)\\,,\\quad\\quad {3 \\choose 2}\\left(\\frac{1}{4}\\right)^2\\left(\\frac{3}{4}\\right)+{3 \\choose 3}\\left(\\frac{1}{4}\\right)^3=\\frac{10}{64}=0.15625$"
   ]
  },
  {
   "cell_type": "code",
   "execution_count": 1,
   "id": "58c32985",
   "metadata": {},
   "outputs": [
    {
     "name": "stdout",
     "output_type": "stream",
     "text": [
      "0.15625\n"
     ]
    }
   ],
   "source": [
    "from scipy.special import comb\n",
    "print(comb(3,2)*(1/4)**2*(3/4)+(comb(3,3)*(1/4)**3))"
   ]
  },
  {
   "cell_type": "markdown",
   "id": "3618d991",
   "metadata": {},
   "source": [
    "General case for (2n+1) repetition and $\\beta$ probability of error:\n",
    "\n",
    "$$P\\left(\\begin{matrix}\\text{n+1 or more}\\\\\\text{digits in error}\\\\\\text{ in a 2n+1 sequence}\\end{matrix}\\right)=\\sum_{k=n+1}^{2n+1}{{2n+1}\\choose k}\\beta^k(1-\\beta)^{2n+1-k}$$"
   ]
  },
  {
   "cell_type": "code",
   "execution_count": 2,
   "id": "26592144",
   "metadata": {},
   "outputs": [
    {
     "name": "stdout",
     "output_type": "stream",
     "text": [
      "2n+1  beta=0.1 beta=0.25\n",
      "   1       0.1      0.25\n",
      "   3     0.028   0.15625\n",
      "   5   0.00856  0.103516\n",
      "   7  0.002728  0.070557\n",
      "   9  0.000891  0.048927\n",
      "  11  0.000296  0.034328\n",
      "  13  0.000099   0.02429\n",
      "  15  0.000034    0.0173\n"
     ]
    },
    {
     "data": {
      "image/png": "[encoded data removed]",
      "text/plain": [
       "<Figure size 432x288 with 1 Axes>"
      ]
     },
     "metadata": {
      "filenames": {
       "image/png": "/stmp/code/books/FIZ371/_build/jupyter_execute/FIZ371_LN36_EST_Information_Theory_7_1.png"
      },
      "needs_background": "light"
     },
     "output_type": "display_data"
    }
   ],
   "source": [
    "import pandas as pd\n",
    "import numpy as np\n",
    "import matplotlib.pyplot as plt\n",
    "\n",
    "beta1 = 0.1\n",
    "beta2 = 0.25\n",
    "df = pd.DataFrame(columns=(\"2n+1\",\"beta=0.1\",\"beta=0.25\"),index=np.arange(1,16,2))\n",
    "for n in range(8):\n",
    "    #print(2*n+1)\n",
    "    p1 = 0\n",
    "    p2 = 0\n",
    "    for k in range(n+1,2*n+2):\n",
    "        p1 += comb(2*n+1,k)*beta1**k*(1-beta1)**(2*n+1-k)\n",
    "        p2 += comb(2*n+1,k)*beta2**k*(1-beta2)**(2*n+1-k)\n",
    "    df.loc[2*n+1,\"2n+1\"] = 2*n+1\n",
    "    df.loc[2*n+1,\"beta=0.1\"] = p1\n",
    "    df.loc[2*n+1,\"beta=0.25\"] = p2\n",
    "print(df.to_string(index=False))\n",
    "\n",
    "plt.plot(df.loc[:,\"2n+1\"].values,df.iloc[:,1].values,\"-*\")\n",
    "plt.plot(df.loc[:,\"2n+1\"].values,df.iloc[:,2].values,\"-o\")\n",
    "plt.xlabel(\"(2n+1)\")\n",
    "plt.ylabel(\"P(err)\")\n",
    "plt.legend([\"beta=0.1\",\"beta=0.25\"])\n",
    "plt.xticks(range(1,16,2))\n",
    "plt.show()"
   ]
  },
  {
   "cell_type": "markdown",
   "id": "b373fd5d",
   "metadata": {},
   "source": [
    "Effective transmission rate of the source is: \n",
    "\n",
    "$$\\frac{1}{2n+1}$$ \n",
    "\n",
    "(actual intended message length / transmitted message length)"
   ]
  },
  {
   "cell_type": "markdown",
   "id": "e04cdbfb",
   "metadata": {},
   "source": [
    "**Example:** A normal, noisy hard disk has an error probability of 0.1. In order to have a reliability in $10^{-15}$, what must the # of repetitions be?"
   ]
  },
  {
   "cell_type": "code",
   "execution_count": 3,
   "id": "1744eb02",
   "metadata": {},
   "outputs": [
    {
     "name": "stdout",
     "output_type": "stream",
     "text": [
      "         # | P(e)                                    \n",
      "       1.0 | 0.1                                     \n",
      "       2.0 | 0.050929581789406514                    \n",
      "       3.0 | 0.028000000000000008                    \n",
      "       4.0 | 0.015366182391318081                    \n",
      "       5.0 | 0.008560000000000002                    \n",
      "       6.0 | 0.004813890527660308                    \n",
      "       7.0 | 0.002728000000000001                    \n",
      "      10.0 | 0.000512414723086138                    \n",
      "      20.0 | 2.304792882349986e-06                   \n",
      "      50.0 | 3.335204046451669e-13                   \n",
      "      59.0 | 3.1056495720556027e-15                  \n",
      "      61.0 | 1.1003005338682953e-15                  \n",
      "      62.0 | 6.550468634760461e-16                   \n",
      "      63.0 | 3.9001884227808104e-16                  \n",
      "      64.0 | 2.322466150634593e-16                   \n"
     ]
    }
   ],
   "source": [
    "import numpy as np\n",
    "from scipy.special import comb\n",
    "\n",
    "p_err = np.empty([0,2])\n",
    "beta1 = 0.1\n",
    "\n",
    "repetitions = np.array([1,2,3,4,5,6,7,10,20,50,59,61,62,63,64])\n",
    "repetitions = (repetitions - 1)/2\n",
    "\n",
    "\n",
    "def perr(n,beta):\n",
    "    p1 = 0\n",
    "    for k in np.arange(n+1,2*n+2):\n",
    "        p1 += comb(2*n+1,k)*beta**k*(1-beta)**(2*n+1-k)\n",
    "    return [2*n+1,p1]\n",
    "\n",
    "print('{:>10} | {:<40}'.format(\"#\",\"P(e)\"))\n",
    "for n in repetitions:\n",
    "    p = perr(n,0.1)\n",
    "    print('{:>10} | {:<40}'.format(p[0],p[1]))"
   ]
  },
  {
   "cell_type": "markdown",
   "id": "6f3f29f2",
   "metadata": {},
   "source": [
    "62 hard disks!!! Way too many!\n",
    "\n",
    "(We need to be smarter than this..)"
   ]
  },
  {
   "cell_type": "markdown",
   "id": "ef8bdf7f",
   "metadata": {},
   "source": [
    "# Shannon - Weaver Communication Model\n",
    "![ShannonChannel.svg](images/ShannonChannel.svg)\n",
    "\n",
    "This is the model Shannon (& Weaver) used to identify the essential stages for message relaying. Note how the noise is introduced only in the transfer channel."
   ]
  },
  {
   "cell_type": "markdown",
   "id": "5e45e2e9",
   "metadata": {},
   "source": [
    "# Parity Concept\n",
    "Before we start on the Hamming Code, which improves the repeatition method, let's try to understand the parity concept: Parity checks are implemented when it is necessary to quickly validate long sequences where typing is highly prone to errors (e.g., credit card numbers, IBAN numbers, national ID numbers, etc.). One or more digits are also included in the resulting number that is dependent of the other digits, so that a quick validation reference is already available within the data to be validated."
   ]
  },
  {
   "cell_type": "markdown",
   "id": "9475d1c3",
   "metadata": {},
   "source": [
    "## Application: Credit Card Number Validation ([Luhn's Algorithm](https://en.wikipedia.org/wiki/Luhn_algorithm))"
   ]
  },
  {
   "cell_type": "markdown",
   "id": "8ace143f",
   "metadata": {},
   "source": [
    "0. Let the credit card number be: 4556 7375 8689 9855\n",
    "1. Last digit is the check digit: 455673758689985<b><u>5</u></b>\n",
    "2. Drop the last digit: 455673758689985\n",
    "3. Reverse the numbers: 589986857376554\n",
    "4. Multiply the digits in odd (1., 3., 5., ...) by 2: 10|8|18|9|16|6|16|5|14|3|14|6|10|5|8\n",
    "5. Subtract 9 from any result higher that 9: 1 8 9 9 7 6 7 5 5 3 5 6 1 5 8\n",
    "6. Add all the numbers together: 1+8+9+9+7+6+7+5+5+3+5+6+1+5+8 = 85\n",
    "7. Multiply the sum by 9, take modulo 10 (divide by 10, get the remainder): 5 $\\rightarrow$ this should be equal to the check digit"
   ]
  },
  {
   "cell_type": "code",
   "execution_count": 4,
   "id": "b3210fcc",
   "metadata": {},
   "outputs": [
    {
     "name": "stdout",
     "output_type": "stream",
     "text": [
      "num (1): 4556737586899855\n",
      "num (2): 455673758689985\n",
      "num (3): 589986857376554\n",
      "num (4): 10| 8|18| 9|16| 6|16| 5|14| 3|14| 6|10| 5| 8\n",
      "num (5):  1| 8| 9| 9| 7| 6| 7| 5| 5| 3| 5| 6| 1| 5| 8\n",
      "num (6):  85\n",
      "num (7):  5 <-- Check digit\n"
     ]
    }
   ],
   "source": [
    "import numpy as np\n",
    "\n",
    "num = \"4556737586899855\"\n",
    "\n",
    "print(\"num (1):\",num)\n",
    "num_2 = list(num[:-1])\n",
    "print(\"num (2):\",\"\".join(map(str,num_2)))\n",
    "num_3 = num_2[::-1]\n",
    "print(\"num (3): \"+\"\".join(num_3))\n",
    "num_4 = list(map(int,num_3))\n",
    "for i in np.arange(0,len(num),2):\n",
    "    num_4[i] = num_4[i] * 2\n",
    "fmt = ('|'.join(['{:>2}']*len(num_4)))\n",
    "print(\"num (4): \"+fmt.format(*(list(map(str, num_4)))))\n",
    "num_5 = np.array(num_4)\n",
    "num_5[num_5>=10] -= 9\n",
    "print(\"num (5): \"+fmt.format(*num_5))\n",
    "num_6 = np.sum(num_5)\n",
    "print (\"num (6): \",num_6)\n",
    "print (\"num (7): \",np.mod(num_6*9,10),\"<-- Check digit\")"
   ]
  },
  {
   "cell_type": "markdown",
   "id": "e58955c3",
   "metadata": {},
   "source": [
    "**Proposition: Alternative to 7. step** \n",
    "\n",
    "At the 7. step, instead of taking the modulo 10 of sum multiplied by 9 and then comparing it to the check digit, just take the modulo 10 of the sum (without multiplying it by 9) and add it to the check digit -- the result must be either 0 or 10.\n",
    "\n",
    "**_Homework: Why does this work? Prove that it does._**"
   ]
  },
  {
   "cell_type": "markdown",
   "id": "7939706a",
   "metadata": {},
   "source": [
    "## Application: IBAN Validation\n",
    "0. Let the IBAN number be: TR40 0001 2345 6789 8765 4321 21\n",
    "1. Move the four initial characters to the end: 0001234567898765432121TR40\n",
    "2. Replace each letter in the string with two digits (A:10, B=11, ..., Z=35):  \n",
    "0001234567898765432121292740\n",
    "3. Divide this number by 97 $\\rightarrow$ remainder must be: 1."
   ]
  },
  {
   "cell_type": "code",
   "execution_count": 5,
   "id": "78dc409e",
   "metadata": {},
   "outputs": [
    {
     "name": "stdout",
     "output_type": "stream",
     "text": [
      "IBAN (0):  TR400001234567898765432121\n",
      "IBAN (1):  0001234567898765432121TR40\n",
      "IBAN (2):  0001234567898765432121292740\n",
      "IBAN (3):  1\n"
     ]
    }
   ],
   "source": [
    "import numpy as np\n",
    "\n",
    "IBAN = \"TR400001234567898765432121\"\n",
    "print(\"IBAN (0): \",IBAN)\n",
    "\n",
    "IBAN = IBAN[4:]+IBAN[0:4]\n",
    "print(\"IBAN (1): \",IBAN)\n",
    "s = len(IBAN)\n",
    "\n",
    "IBAN_num = \"\"\n",
    "for i in range(s):\n",
    "    if(IBAN[i].isnumeric()):\n",
    "        #print(IBAN[i],ord(IBAN[i])-48)\n",
    "        IBAN_num += str(ord(IBAN[i])-48)\n",
    "    else:\n",
    "        #print(\"*\",IBAN[i],ord(IBAN[i])-35)\n",
    "        IBAN_num += str(ord(IBAN[i])-55)\n",
    "print(\"IBAN (2): \",IBAN_num)\n",
    "print(\"IBAN (3): \",np.mod(int(IBAN_num),97))"
   ]
  },
  {
   "cell_type": "markdown",
   "id": "5cfa3100",
   "metadata": {},
   "source": [
    "## Application TC ID # Validation\n",
    "\n",
    "0. Let the TC ID# be: 12345678950\n",
    "1. Add the digits in odd positions (1., 3.,...,9.) together, multiply by 7: 25*7=175\n",
    "2. Add the digits in even positions (2., 4.,...,8.): 20\n",
    "3. Subtract the sum in the 2nd step from the product in the 1st step: 175 - 20 = 155 \n",
    "4. Take the modulo 10 -- this number must be equal to the 10th digit: $\\rightarrow\\, \\mod_{10}(155)=5$ (1st check)\n",
    "5. Add all the digits but the last one (1., 2.,...,10) -- modulo 10 of this sum must give you the 11th (last) digit: $50\\rightarrow \\mod_{10}(50)=0$ (2nd check)"
   ]
  },
  {
   "cell_type": "code",
   "execution_count": 6,
   "id": "dc26cff3",
   "metadata": {},
   "outputs": [
    {
     "name": "stdout",
     "output_type": "stream",
     "text": [
      "TCID# (0):  12345678950\n",
      "TCID# (1):  175\n",
      "TCID# (2):  20\n",
      "TCID# (3):  155\n",
      "TCID# (4):  5  ==  5\n",
      "TCID# (5):  0  ==  0\n"
     ]
    }
   ],
   "source": [
    "import numpy as np\n",
    "\n",
    "TCID = \"12345678950\"\n",
    "\n",
    "print(\"TCID# (0): \",TCID)\n",
    "\n",
    "TCID = np.array(list(map(int,TCID)))\n",
    "#print(TCID)\n",
    "\n",
    "s1 = np.sum(TCID[0:9:2])*7\n",
    "print(\"TCID# (1): \",s1)\n",
    "\n",
    "s2 = np.sum(TCID[1:8:2])\n",
    "print(\"TCID# (2): \",s2)\n",
    "\n",
    "s3 = s1 - s2\n",
    "print(\"TCID# (3): \",s3)\n",
    "\n",
    "print(\"TCID# (4): \",np.mod(s3,10),\" == \",TCID[9])\n",
    "print(\"TCID# (5): \",np.mod(np.sum(TCID[0:10]),10),\" == \",TCID[10])"
   ]
  },
  {
   "cell_type": "markdown",
   "id": "643fdc41",
   "metadata": {},
   "source": [
    "Thus, TC ID # system uses a double check algorithm."
   ]
  },
  {
   "cell_type": "markdown",
   "id": "e0325e24",
   "metadata": {},
   "source": [
    "## Hamming Code (7,4)\n",
    "* s: source message (length: 4)\n",
    "* t: transmitted message (length: 7)\n",
    "\n",
    "That means that we are using 7 bits to transmit 4 bits.\n",
    "\n",
    "The extra 3 bits (located at the end) in the transmitted message contains the following parities (calculated as $\\bmod_{2}{(sum)}$):\n",
    "\n",
    "$$t_{1-4} = s_{1-4}\\\\\n",
    "t_5 = (s_1,s_2,s_3)\\\\\n",
    "t_6 = (s_2,s_3,s_4)\\\\\n",
    "t_7 = (s_1,s_3,s_4)\n",
    "$$\n",
    "\n",
    "![HammingVenn.svg](images/HammingVenn.svg)"
   ]
  },
  {
   "cell_type": "code",
   "execution_count": 7,
   "id": "1d87de51",
   "metadata": {},
   "outputs": [
    {
     "name": "stdout",
     "output_type": "stream",
     "text": [
      "s1  |s2  |s3  |s4  |t5  |t6  |t7 \n",
      "--- |--- |--- |--- |--- |--- |---\n",
      " 0  | 0  | 0  | 0  | 0  | 0  | 0 \n",
      " 0  | 0  | 0  | 1  | 0  | 1  | 1 \n",
      " 0  | 0  | 1  | 0  | 1  | 1  | 1 \n",
      " 0  | 0  | 1  | 1  | 1  | 0  | 0 \n",
      " 0  | 1  | 0  | 0  | 1  | 1  | 0 \n",
      " 0  | 1  | 0  | 1  | 1  | 0  | 1 \n",
      " 0  | 1  | 1  | 0  | 0  | 0  | 1 \n",
      " 0  | 1  | 1  | 1  | 0  | 1  | 0 \n",
      " 1  | 0  | 0  | 0  | 1  | 0  | 1 \n",
      " 1  | 0  | 0  | 1  | 1  | 1  | 0 \n",
      " 1  | 0  | 1  | 0  | 0  | 1  | 0 \n",
      " 1  | 0  | 1  | 1  | 0  | 0  | 1 \n",
      " 1  | 1  | 0  | 0  | 0  | 1  | 1 \n",
      " 1  | 1  | 0  | 1  | 0  | 0  | 0 \n",
      " 1  | 1  | 1  | 0  | 1  | 0  | 0 \n",
      " 1  | 1  | 1  | 1  | 1  | 1  | 1 \n"
     ]
    }
   ],
   "source": [
    "import numpy as np\n",
    "\n",
    "sett = np.arange(2)\n",
    "\n",
    "fmt = \"{:^3} |{:^3} |{:^3} |{:^3} |{:^3} |{:^3} |{:^3}\"\n",
    "\n",
    "print(fmt.format(\"s1\",\"s2\",\"s3\",\"s4\",\"t5\",\"t6\",\"t7\"))\n",
    "print(fmt.format(\"---\",\"---\",\"---\",\"---\",\"---\",\"---\",\"---\"))\n",
    "\n",
    "for s1 in sett:\n",
    "    for s2 in sett:\n",
    "        for s3 in sett:\n",
    "            for s4 in sett:\n",
    "                t5 = np.mod(s1+s2+s3,2)\n",
    "                t6 = np.mod(s2+s3+s4,2)\n",
    "                t7 = np.mod(s1+s3+s4,2)\n",
    "                print(fmt.format(s1,s2,s3,s4,t5,t6,t7))"
   ]
  },
  {
   "cell_type": "markdown",
   "id": "31ce0248",
   "metadata": {},
   "source": [
    "s1  |s2  |s3  |s4  |t5  |t6  |t7 \n",
    "--- |--- |--- |--- |--- |--- |---\n",
    " 0  | 0  | 0  | 0  | 0  | 0  | 0 \n",
    " 0  | 0  | 0  | 1  | 0  | 1  | 1 \n",
    " 0  | 0  | 1  | 0  | 1  | 1  | 1 \n",
    " 0  | 0  | 1  | 1  | 1  | 0  | 0 \n",
    " 0  | 1  | 0  | 0  | 1  | 1  | 0 \n",
    " 0  | 1  | 0  | 1  | 1  | 0  | 1 \n",
    " 0  | 1  | 1  | 0  | 0  | 0  | 1 \n",
    " 0  | 1  | 1  | 1  | 0  | 1  | 0 \n",
    " 1  | 0  | 0  | 0  | 1  | 0  | 1 \n",
    " 1  | 0  | 0  | 1  | 1  | 1  | 0 \n",
    " 1  | 0  | 1  | 0  | 0  | 1  | 0 \n",
    " 1  | 0  | 1  | 1  | 0  | 0  | 1 \n",
    " 1  | 1  | 0  | 0  | 0  | 1  | 1 \n",
    " 1  | 1  | 0  | 1  | 0  | 0  | 0 \n",
    " 1  | 1  | 1  | 0  | 1  | 0  | 0 \n",
    " 1  | 1  | 1  | 1  | 1  | 1  | 1\n",
    " \n",
    "Note that any pair of codewords differ from each other in at least three bits!\n",
    "\n",
    "**Syndromes (parities):**\n",
    "\n",
    "$$z_1 = (t_5,s_1,s_2,s_3)\\\\\n",
    "z_2 = (t_6,s_2,s_3,s_4)\\\\\n",
    "z_3 = (t_7,s_1,s_3,s_4)$$\n",
    "\n",
    "A syndrome $z=(z_1,z_2,z_3)$ is actually the combination of the parities of each circle's 4 components in the Venn diagram: We just add them up and then take 0 for even, 1 for odd (mod<sub>2</sub>).\n",
    "\n",
    "Note that the parities are always 0 (even) for a healthy message (the syndrome is then: $z=(z_1,z_2,z_3) = (0,0,0)$:"
   ]
  },
  {
   "cell_type": "code",
   "execution_count": 8,
   "id": "87b2f952",
   "metadata": {},
   "outputs": [
    {
     "name": "stdout",
     "output_type": "stream",
     "text": [
      "   s   |  t  |  z  \n",
      "1-2-3-4|5-6-7|1-2-3\n",
      "-------|-----|-----\n",
      "0-0-0-0|0-0-0|0-0-0\n",
      "0-0-0-1|0-1-1|0-0-0\n",
      "0-0-1-0|1-1-1|0-0-0\n",
      "0-0-1-1|1-0-0|0-0-0\n",
      "0-1-0-0|1-1-0|0-0-0\n",
      "0-1-0-1|1-0-1|0-0-0\n",
      "0-1-1-0|0-0-1|0-0-0\n",
      "0-1-1-1|0-1-0|0-0-0\n",
      "1-0-0-0|1-0-1|0-0-0\n",
      "1-0-0-1|1-1-0|0-0-0\n",
      "1-0-1-0|0-1-0|0-0-0\n",
      "1-0-1-1|0-0-1|0-0-0\n",
      "1-1-0-0|0-1-1|0-0-0\n",
      "1-1-0-1|0-0-0|0-0-0\n",
      "1-1-1-0|1-0-0|0-0-0\n",
      "1-1-1-1|1-1-1|0-0-0\n"
     ]
    }
   ],
   "source": [
    "import numpy as np\n",
    "\n",
    "sett = np.arange(2)\n",
    "\n",
    "fmt = \"{:}-{:}-{:}-{:}|{:}-{:}-{:}|{:}-{:}-{:}\"\n",
    "print(\"{:^7}|{:^5}|{:^5}\".format(\"s\",\"t\",\"z\"))\n",
    "print(fmt.format(\"1\",\"2\",\"3\",\"4\",\"5\",\"6\",\"7\",\"1\",\"2\",\"3\"))\n",
    "print(\"-\"*7+\"|\"+\"-\"*5+\"|\"+\"-\"*5)\n",
    "\n",
    "for s1 in sett:\n",
    "    for s2 in sett:\n",
    "        for s3 in sett:\n",
    "            for s4 in sett:\n",
    "                t5 = np.mod(s1+s2+s3,2)\n",
    "                t6 = np.mod(s2+s3+s4,2)\n",
    "                t7 = np.mod(s1+s3+s4,2)\n",
    "                z1 = np.mod(t5+s1+s2+s3,2)\n",
    "                z2 = np.mod(t6+s2+s3+s4,2)\n",
    "                z3 = np.mod(t7+s1+s3+s4,2)\n",
    "\n",
    "                print(fmt.format(s1,s2,s3,s4,t5,t6,t7,z1,z2,z3))"
   ]
  },
  {
   "cell_type": "markdown",
   "id": "f69d1361",
   "metadata": {},
   "source": [
    "### Examples\n",
    "1\\. `t=1000|101  \n",
    "s1 = 1, s2 = s3 = s4 = 0\n",
    "t5 = s1+s2+s3 = 1+0+0 = 1\n",
    "t6 = s2+s3+s4 = 0+0+0 = 0\n",
    "t7 = s1+s3+s4 = 1+0+0 = 1`\n",
    "\n",
    "![HammingVenn_E01.svg](images/HammingVenn_E01.svg)\n",
    "\n",
    "Now, let's assume that, during transmission, noise flips the 2nd bit, thus the received signal becomes:\n",
    "\n",
    "$$1000101 \\rightarrow r = 1000101 + \\overline{0100000} = 1\\underline{1}00101$$\n",
    "\n",
    "If we are to draw the diagram for the message we received, then it would be like this:\n",
    "\n",
    "![HammingVenn_E01r.svg](images/HammingVenn_E01r.svg)\n",
    "\n",
    "Syndrome: z = (1,1,0)\n",
    "\n",
    "From this syndrome, we see that something is wrong, because there are 1s among the parities.\n",
    "\n",
    "Find a bit that lies in all the odd parity circles and outside of all the  even parity circles --> from the intersection of the odd parity circles, we see that r<sub>2</sub> should be flipped!"
   ]
  },
  {
   "cell_type": "markdown",
   "id": "ab2f13d5",
   "metadata": {},
   "source": [
    "2\\. $t_5$ flipped $\\rightarrow r=1000\\underline{0}01$\n",
    "\n",
    "![HammingVenn_E02r.png](images/HammingVenn_E02r.png)\n",
    "\n",
    "$z(1,0,0)\\rightarrow r_5$ should be flipped"
   ]
  },
  {
   "cell_type": "markdown",
   "id": "087aa287",
   "metadata": {},
   "source": [
    "3\\. $s_3$ flipped $\\rightarrow r=10\\underline{1}0101$\n",
    "\n",
    "![HammingVenn_E03r.svg](images/HammingVenn_E03r.svg)\n",
    "\n",
    "$z(1,1,1)\\rightarrow r_3$ should be flipped"
   ]
  },
  {
   "cell_type": "markdown",
   "id": "bfbce84a",
   "metadata": {},
   "source": [
    "**Syndromes and fixes chart**\n",
    "\n",
    "Syndrome z|000|001|010|011|100|101|110|111\n",
    "---|---|---|---|---|---|---|---|---\n",
    "Unflip this bit|none|$r_7$|$r_6$|$r_4$|$r_5$|$r_1$|$r_2$|$r_3$"
   ]
  },
  {
   "cell_type": "markdown",
   "id": "0d31aa16",
   "metadata": {},
   "source": [
    "4\\. $t_3\\, \\&\\, t_7$ are flipped $\\rightarrow r=10\\underline{1}010\\underline{0}$\n",
    "\n",
    "![HammingVenn_E04r.svg](images/HammingVenn_E04r.svg)\n",
    "\n",
    "$z(1,1,0)\\rightarrow r_2$ should be flipped:"
   ]
  },
  {
   "cell_type": "markdown",
   "id": "6c8363d5",
   "metadata": {},
   "source": [
    "### Probability of Error\n",
    "Let's calculate the probability that two or more bits will be flipped (hence, the received and corrected message will still be wrong) when $\\beta$, the probability that the noise will flip a bit be: \n",
    "* $\\beta=1/4$:\n",
    "\n",
    "$$\n",
    "\\begin{align*}P(err) &= \\underbrace{{7\\choose 2}\\left(\\frac{1}{4}\\right)^2\\left(\\frac{3}{4}\\right)^5}_{2:0.31146240}\n",
    "+\\underbrace{{7\\choose 3}\\left(\\frac{1}{4}\\right)^3\\left(\\frac{3}{4}\\right)^4}_{3:0.17303467}+\\underbrace{\\dots}_{\\begin{matrix}4:\\,0.05767822\\\\\\,5:0.01153564\\\\6:\\,0.00128174\\end{matrix}}+\\underbrace{{7\\choose 7}\\left(\\frac{1}{4}\\right)^7}_{7:\\,0.00006104}\\\\\n",
    "&=0.55505\n",
    "\\end{align*}\n",
    "$$"
   ]
  },
  {
   "cell_type": "code",
   "execution_count": 9,
   "id": "ff7c35a0",
   "metadata": {},
   "outputs": [
    {
     "name": "stdout",
     "output_type": "stream",
     "text": [
      "[[2.         0.3114624 ]\n",
      " [3.         0.17303467]\n",
      " [4.         0.05767822]\n",
      " [5.         0.01153564]\n",
      " [6.         0.00128174]\n",
      " [7.         0.00006104]]\n",
      "\n",
      "P(err): 0.55505\n"
     ]
    }
   ],
   "source": [
    "import numpy as np\n",
    "from scipy.special import comb\n",
    "\n",
    "beta = 0.25\n",
    "i_beta = 1 - beta\n",
    "\n",
    "result = np.empty([6,2])\n",
    "result[:,0] = range(2,8)\n",
    "for k in range(2,8):\n",
    "    result[k-2,1] = comb(7,k)*beta**k*i_beta**(7-k)\n",
    "np.set_printoptions(precision=8,suppress=True)\n",
    "print(result)\n",
    "print(\"\\nP(err): {:7.5f}\".format(np.sum(result[:,1])))"
   ]
  },
  {
   "cell_type": "markdown",
   "id": "294f6bf3",
   "metadata": {},
   "source": [
    "* $\\beta=0.1$:  \n",
    "\n",
    "$$\n",
    "\\begin{align*}P(err) &= \\underbrace{{7\\choose 2}\\left(\\frac{1}{10}\\right)^2\\left(\\frac{9}{10}\\right)^5}_{2:0.1240029}\n",
    "+\\underbrace{{7\\choose 3}\\left(\\frac{1}{10}\\right)^3\\left(\\frac{9}{10}\\right)^4}_{3:0.0229635}+\\underbrace{\\dots}_{\\begin{matrix}4:\\,0.0025515\\\\\\,5:0.0001701\\\\6:\\,0.0000063\\end{matrix}}+\\underbrace{{7\\choose 7}\\left(\\frac{1}{10}\\right)^7}_{7:\\,0.0000001}\\\\\n",
    "&=0.14969\n",
    "\\end{align*}$$"
   ]
  },
  {
   "cell_type": "code",
   "execution_count": 10,
   "id": "c24599bd",
   "metadata": {},
   "outputs": [
    {
     "name": "stdout",
     "output_type": "stream",
     "text": [
      "[[2.        0.1240029]\n",
      " [3.        0.0229635]\n",
      " [4.        0.0025515]\n",
      " [5.        0.0001701]\n",
      " [6.        0.0000063]\n",
      " [7.        0.0000001]]\n",
      "\n",
      "P(err): 0.14969\n"
     ]
    }
   ],
   "source": [
    "import numpy as np\n",
    "from scipy.special import comb\n",
    "\n",
    "beta = 0.1\n",
    "i_beta = 1-beta\n",
    "\n",
    "result = np.empty([6,2])\n",
    "result[:,0] = range(2,8)\n",
    "for k in range(2,8):\n",
    "    result[k-2,1] = comb(7,k)*beta**k*i_beta**(7-k)\n",
    "np.set_printoptions(precision=8,suppress=True)\n",
    "print(result)\n",
    "print(\"\\nP(err): {:7.5f}\".format(np.sum(result[:,1])))"
   ]
  },
  {
   "cell_type": "markdown",
   "id": "53f2f998",
   "metadata": {},
   "source": [
    "# Comparison of error-correction algorithms\n",
    "![MacKay_1_18.png](images/MacKay_1_18.png)\n",
    "[David MacKay - Information Theory, Inference, and Learning Algorithms](https://www.inference.org.uk/mackay/itila/book.html)\n",
    "\n",
    "In the graph above, repetition algorithms (_R#_) are compared against Hamming(7,4) code and more widely used BCH ([Bose–Chaudhuri–Hocquenghem](https://en.wikipedia.org/wiki/BCH_code)) codes."
   ]
  },
  {
   "cell_type": "markdown",
   "id": "4e7267b5",
   "metadata": {},
   "source": [
    "# Shannon's Noisy-Channel Coding Theorem / Shannon's Limit (1948)\n",
    "\n",
    "Shannon proposed an upper limit for which he defined as the channel capacity which can not be overcome by any algorithm (even in the ideal limit).\n",
    "\n",
    "Channel capacity $C(\\beta)$ is defined in terms of entropy $H_2$:\n",
    "\n",
    "$$C(\\beta) = 1 - H_2(\\beta) = 1 -\\left[\\beta\\log_2{\\frac{1}{\\beta}}+(1-\\beta)\\log_2{\\frac{1}{1-\\beta}}\\right]$$\n",
    "\n",
    "We can also use mutual information $I$ to calculate $C$:\n",
    "\n",
    "$$C=\\sup\\limits_{P_R(x)} I(X;Y)$$\n",
    "\n",
    "$$\n",
    "\\begin{align}\n",
    "I(X;Y)&=H(X)-H(X|Y)\\\\\n",
    "&=H(Y)-H(Y|X)\\\\\n",
    "&=H(X)+H(Y)-H(X,Y)\\\\\n",
    "&=H(X,Y)-H(X|Y)-H(Y|X)\n",
    "\\end{align}\n",
    "$$\n",
    "\n",
    "and taking $R(p_b)$ as the required repetition, for a given probability error, we have:\n",
    "\n",
    "$$R(p_b) = \\frac{C}{1-H_2(p_b)}$$\n",
    "\n",
    "As an example, for $\\beta=0.1$, $C\\approx0.531$. \n",
    "\n",
    "$$C(\\beta) = 1-H_2(\\beta)=1-[0.1\\,\\log_2{\\frac{1}{0.1}}+(1-0.1)\\log_2{\\frac{1}{1-0.1}}]=0.531$$"
   ]
  },
  {
   "cell_type": "code",
   "execution_count": 11,
   "id": "ce3500f4",
   "metadata": {},
   "outputs": [
    {
     "name": "stdout",
     "output_type": "stream",
     "text": [
      "0.5310044064107187\n"
     ]
    }
   ],
   "source": [
    "import numpy as np\n",
    "beta = 0.1\n",
    "C = 1-(beta*np.log2(1/beta)+(1-beta)*np.log2(1/(1-beta)))\n",
    "print(C)"
   ]
  },
  {
   "cell_type": "markdown",
   "id": "83e3c143",
   "metadata": {},
   "source": [
    "Combining it with our previous faulty hard disk example for the desired $p(e)<10^{-15}$:  \n",
    "Since $C=0.531$, $R=\\frac{1}{2}=0.5\\,(<0.531)$. Therefore, in theory, <u>two harddisks</u> are sufficient for arbitrarily small error probability ($\\epsilon>0$)."
   ]
  },
  {
   "cell_type": "markdown",
   "id": "642b6b48",
   "metadata": {},
   "source": [
    "![MacKay_1_19.png](images/MacKay_1_19.png)\n",
    "[David MacKay - Information Theory, Inference, and Learning Algorithms](https://www.inference.org.uk/mackay/itila/book.html)"
   ]
  },
  {
   "cell_type": "markdown",
   "id": "2c2bd89c",
   "metadata": {},
   "source": [
    "# References:\n",
    "* The lecture textbook: David MacKay, \"Information Theory, Inference, and Learning Algorithms\" http://www.inference.org.uk/mackay/itprnn/book.html"
   ]
  }
 ],
 "metadata": {
  "jupytext": {
   "formats": "ipynb,md:myst",
   "text_representation": {
    "extension": ".md",
    "format_name": "myst",
    "format_version": 0.13,
    "jupytext_version": "1.11.5"
   }
  },
  "kernelspec": {
   "display_name": "Python 3 (ipykernel)",
   "language": "python",
   "name": "python3"
  },
  "language_info": {
   "codemirror_mode": {
    "name": "ipython",
    "version": 3
   },
   "file_extension": ".py",
   "mimetype": "text/x-python",
   "name": "python",
   "nbconvert_exporter": "python",
   "pygments_lexer": "ipython3",
   "version": "3.8.5"
  },
  "source_map": [
   13,
   36,
   42,
   49,
   62,
   69,
   72,
   78,
   105,
   113,
   117,
   138,
   144,
   151,
   156,
   160,
   171,
   192,
   200,
   209,
   229,
   240,
   261,
   265,
   283,
   301,
   334,
   356,
   381,
   389,
   397,
   405,
   413,
   426,
   440,
   450,
   464,
   472,
   503,
   508,
   513,
   518
  ]
 },
 "nbformat": 4,
 "nbformat_minor": 5
}