{
 "cells": [
  {
   "cell_type": "markdown",
   "id": "87012ce8",
   "metadata": {},
   "source": [
    "# FIZ371 - Scientific and Technical Calculations\n",
    "**Dr. Emre S. Tasci** <emre.tasci@hacettepe.edu.tr>  \n",
    "Department of Engineering Physics  \n",
    "Hacettepe University  \n",
    "Ankara / Turkey"
   ]
  },
  {
   "cell_type": "markdown",
   "id": "a6e64510",
   "metadata": {},
   "source": [
    "This pybook is prepared to be used as a companion to the \"FIZ371 - Scientific and Technical Calculations\" course and its components can also be freely accessible via [github](https://github.com/emresururi/FIZ371).\n",
    "\n",
    "The lecture notes rely heavily on David MacKay's excellent book [\"Information Theory, Inference, and Learning Algorithms\"](https://www.inference.org.uk/mackay/itila/book.html)."
   ]
  },
  {
   "cell_type": "markdown",
   "id": "6e9c2762",
   "metadata": {},
   "source": [
    "December, 6th 2022,  \n",
    "Dr. Emre S. Tasci"
   ]
  },
  {
   "cell_type": "code",
   "execution_count": null,
   "id": "d0484287",
   "metadata": {},
   "outputs": [],
   "source": []
  }
 ],
 "metadata": {
  "jupytext": {
   "formats": "ipynb,md:myst",
   "text_representation": {
    "extension": ".md",
    "format_name": "myst",
    "format_version": 0.13,
    "jupytext_version": "1.11.5"
   }
  },
  "kernelspec": {
   "display_name": "Python 3 (ipykernel)",
   "language": "python",
   "name": "python3"
  },
  "language_info": {
   "codemirror_mode": {
    "name": "ipython",
    "version": 3
   },
   "file_extension": ".py",
   "mimetype": "text/x-python",
   "name": "python",
   "nbconvert_exporter": "python",
   "pygments_lexer": "ipython3",
   "version": "3.8.5"
  },
  "source_map": [
   13,
   21,
   27,
   32
  ]
 },
 "nbformat": 4,
 "nbformat_minor": 5
}