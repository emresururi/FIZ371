{
 "cells": [
  {
   "cell_type": "markdown",
   "id": "0804357c",
   "metadata": {},
   "source": [
    "## Cellular Automata\n",
    "**FIZ371 - Scientific & Technical Computations | 12/05/2020**\n",
    "\n",
    "**Game of Life & Cellular Automata**\n",
    "* Introduction\n",
    "* The Rules\n",
    "* Applications\n",
    "* Characteristics\n",
    "* Implementation\n",
    "  * 1-Dimensional\n",
    "    * The Rule\n",
    "  * 2-Dimensional\n",
    "* Classification of Systems\n",
    "* References & Links\n",
    "  \n",
    "Dr. Emre S. Tasci <emre.tasci@hacettepe.edu.tr>"
   ]
  },
  {
   "cell_type": "markdown",
   "id": "d97efe27",
   "metadata": {},
   "source": [
    "# Introduction\n",
    "\n",
    "Towards the end of the 60s, mathematician John H. Conway, after careful considerations, devised a set of simple rules that could mimic complex behaviour depending on the starting conditions. It was made famous after being reported by Martin Gardner on Scientific American (1970) and influenced many people from Richard Feynman to -and especially- Stephen Wolfram."
   ]
  },
  {
   "cell_type": "markdown",
   "id": "d8fa5523",
   "metadata": {},
   "source": [
    "# The Rules\n",
    "The rules of the game is simple enough: You start with a graph paper, grid page and fill in some of the boxes as you see fit. This is your starting state. Then for each one of the boxes, depending on the state of its surrounding neighbours (the 4 principal directions for the [von Neumann neighbourhood](https://en.wikipedia.org/wiki/Von_Neumann_neighborhood) and that plus the diagonals for the more commonly used [Moore neighbourhood](https://en.wikipedia.org/wiki/Moore_neighborhood)).\n",
    "\n",
    "Considering the Moore neighbourhood:\n",
    "1. a \"living\" (meaning _filled_) box dies if it has less than 2 or more than 3 living neighbours\n",
    "2. a box becomes \"alive\" if it has exactly 3 living neighbours.\n",
    "\n",
    "This rule set is summarized as \"B3/S23\" (as in: \"Born @ 3 / Survives @ 2 or 3\")."
   ]
  },
  {
   "cell_type": "markdown",
   "id": "151e8cf2",
   "metadata": {},
   "source": [
    "# Applications\n",
    "There are many implementations of these rules. Most succesful among them being:\n",
    "1. https://copy.sh/life/\n",
    "2. http://pmav.eu/stuff/javascript-game-of-life-v3.1.1/\n",
    "\n",
    "[A dedicated wiki](https://www.conwaylife.com/wiki/Main_Page) about almost anything related to the \"Game of Life\" is also available via the https://www.conwaylife.com/ site. For instance, some examples of specific behaviour clusters are:\n",
    "1. [Still Lives](http://www.conwaylife.com/wiki/List_of_common_still_lives)\n",
    "2. [Oscillators](http://www.conwaylife.com/wiki/List_of_common_oscillators)\n",
    "3. [Space Ships](http://www.conwaylife.com/wiki/List_of_spaceships)"
   ]
  },
  {
   "cell_type": "markdown",
   "id": "d7104987",
   "metadata": {},
   "source": [
    "# Characteristics\n",
    "It has been proven that \"Game of Life\" system is Turing complete (meaning that, it can be programmed to construct itself and/or variants _(or anything)_), i.e., a universal machine. Stephen Wolfram has played a huge role in the said proof [*](https://mathworld.wolfram.com/GameofLife.html). \n",
    "\n",
    "Wolfram believed -and still believes- that our universe can be understood as a similar automaton, obeying a set of simple rules like those of the Game of Life. Very recently (a month ago of this writing: April 14th, 2020), [he announced that he had achieved kind of a breakthrough in his quest to explain the physical laws via automatons(https://writings.stephenwolfram.com/2020/04/finally-we-may-have-a-path-to-the-fundamental-theory-of-physics-and-its-beautiful/)]. Coincidentally, his announcement took place just 3 days after [John Conway passed away on the 11th](https://www.dailyprincetonian.com/article/2020/04/john-conway-dead-covid-19), at the age of 82 due to Covid 19 related issues."
   ]
  },
  {
   "cell_type": "markdown",
   "id": "b8c69094",
   "metadata": {},
   "source": [
    "# Implementation\n",
    "Game of Life has many different variations with respect to its set of rules and/or dimensions but the standard is B3/S23 on a 2D square grid, using the Moore neighbourhood. There are many implementations available on the web, but to understand the process we will start by implementing a 1D version so that we can also understand the classifications with respect to the specified rules, and then will move on to the standard, 2D version."
   ]
  },
  {
   "cell_type": "markdown",
   "id": "a7731c3b",
   "metadata": {},
   "source": [
    "## 1-Dimensional\n",
    "When you are living in a 1D universe, you'll have 2 immediate neighbours: one to your left and the other to your right, so at any time, we will be focusing (doing calculations) on 3 consecutive boxes. As each of the boxes can be in one of the 2 states (being 'dead' or 'alive'), there are a total of 8 possible outcomes:"
   ]
  },
  {
   "cell_type": "code",
   "execution_count": 1,
   "id": "372810af",
   "metadata": {},
   "outputs": [
    {
     "name": "stdout",
     "output_type": "stream",
     "text": [
      "0\t000\t◻◻◻\n",
      "1\t001\t◻◻◼\n",
      "2\t010\t◻◼◻\n",
      "3\t011\t◻◼◼\n",
      "4\t100\t◼◻◻\n",
      "5\t101\t◼◻◼\n",
      "6\t110\t◼◼◻\n",
      "7\t111\t◼◼◼\n"
     ]
    }
   ],
   "source": [
    "import numpy as np\n",
    "for state in range(8):\n",
    "    state_2 = np.base_repr(state,base=2)\n",
    "    print(\"{:d}\\t{:0>3s}\\t{:s}\".format(state,state_2,\n",
    "       \"{:0>3s}\".format(state_2).replace(\"0\",\"◻\").replace(\"1\",\"◼\")))\n",
    "    #world_t_str = ''.join(world[0,:].astype(str))\n",
    "#world_t_str_symb = world_t_str.replace(\"0\",\"◻\").replace(\"1\",\"◼\")"
   ]
  },
  {
   "cell_type": "markdown",
   "id": "2586c27b",
   "metadata": {},
   "source": [
    "### The Rule\n",
    "The rule defines what happens to the cell in the middle at the next turn -- it can:\n",
    "1. Keep on being what it was (dead -> dead | alive -> alive)\n",
    "2. Go to the opposite state (dead -> alive | alive -> dead)\n",
    "3. Die ({dead, alive} -> dead)\n",
    "4. Become alive ({dead,alive} -> alive)\n",
    "\n",
    "Let's impose a set of rules of our own - it should cover all of the 8 possible states, so let it be something like:\n",
    "\n",
    "state|binary|representation|$\\rightarrow$|outcome|representation\n",
    "---|---|---|---|---|---\n",
    "7|111|◼◼◼ |$\\rightarrow$|0|◻\n",
    "6|110|◼◼◻ |$\\rightarrow$|1|◼\n",
    "5|101|◼◻◼ |$\\rightarrow$|0|◻\n",
    "4|100|◼◻◻ |$\\rightarrow$|1|◼\n",
    "3|011|◻◼◼ |$\\rightarrow$|1|◼\n",
    "2|010|◻◼◻ |$\\rightarrow$|0|◻\n",
    "1|001|◻◻◼ |$\\rightarrow$|1|◼\n",
    "0|000|◻◻◻ |$\\rightarrow$|0|◻\n",
    "\n",
    "By ordering this rule like this, from 111 to 000, we write the corresponding outcomes side by side, i.e., \"01011010\", then for practicality and mnemonic reasons, we treat this set of outcomes as if it is a binary number and convert it to the decimal system:"
   ]
  },
  {
   "cell_type": "code",
   "execution_count": 2,
   "id": "7197478e",
   "metadata": {},
   "outputs": [
    {
     "data": {
      "text/plain": [
       "90"
      ]
     },
     "execution_count": 2,
     "metadata": {},
     "output_type": "execute_result"
    }
   ],
   "source": [
    "int(\"01011010\",2)"
   ]
  },
  {
   "cell_type": "markdown",
   "id": "77062c74",
   "metadata": {},
   "source": [
    "thus, our rule as specified above is referred as \"[rule 90](https://www.wolframalpha.com/input/?i=rule+90)\". Let's see this rule at work, for a random starting configuration:"
   ]
  },
  {
   "cell_type": "code",
   "execution_count": 3,
   "id": "e7f08e09",
   "metadata": {},
   "outputs": [
    {
     "name": "stdout",
     "output_type": "stream",
     "text": [
      "000001\t◼◻◻◻◼◻◻◻◻◻◼◻◻◼◻◼◼◼◼◼◻◻◻◼◻◼◼◼◻◻◼◻◻◻◼◼◼◻◼◼\n",
      "000002\t◻◻◼◻◼◻◼◼◼◻◼◻◻◼◼◻◼◼◼◻◻◼◻◼◼◻◼◻◻◻◼◻◼◻◻◼◻◼◻◼\n",
      "000003\t◻◻◼◼◼◼◻◼◻◼◼◻◻◻◻◼◻◼◻◻◻◼◼◻◻◼◼◻◼◻◼◼◼◻◻◼◼◼◼◼\n",
      "000004\t◻◻◻◼◼◻◼◼◼◻◻◻◼◼◻◼◼◼◻◼◻◻◻◻◻◻◻◼◼◼◻◼◻◻◻◻◼◼◼◻\n",
      "000005\t◼◼◻◻◻◼◻◼◻◻◼◻◻◻◼◻◼◻◼◼◻◼◼◼◼◼◻◻◼◻◼◼◻◼◼◻◻◼◻◻\n",
      "000006\t◻◻◻◼◻◼◼◼◻◻◼◻◼◻◼◼◼◼◻◻◼◻◼◼◼◻◻◻◼◼◻◻◼◻◻◻◻◼◻◻\n",
      "000007\t◼◼◻◼◼◻◼◻◻◻◼◼◼◼◻◼◼◻◻◻◼◼◻◼◻◻◼◻◻◻◻◻◼◻◼◼◻◼◻◼\n",
      "000008\t◼◻◼◻◻◼◼◻◼◻◻◼◼◻◼◻◻◻◼◻◻◻◼◼◻◻◼◻◼◼◼◻◼◼◻◻◼◼◼◻\n",
      "000009\t◼◼◼◻◻◻◻◼◼◻◻◻◻◼◼◻◼◻◼◻◼◻◻◻◻◻◼◼◻◼◻◼◻◻◻◻◻◼◻◼\n",
      "000010\t◼◼◻◻◼◼◻◻◻◻◼◼◻◻◻◼◼◼◼◼◼◻◼◼◼◻◻◻◼◼◼◼◻◼◼◼◻◼◼◻\n",
      "000011\t◻◻◻◻◻◻◻◼◼◻◻◻◻◼◻◻◼◼◼◼◻◼◻◼◻◻◼◻◻◼◼◻◼◻◼◻◼◻◻◼\n",
      "000012\t◻◼◼◼◼◼◻◻◻◻◼◼◻◼◻◻◻◼◼◻◼◼◼◼◻◻◼◻◻◻◻◼◼◼◼◼◼◻◻◼\n",
      "000013\t◼◻◼◼◼◻◻◼◼◻◻◻◼◼◻◼◻◻◻◼◻◼◼◻◻◻◼◻◼◼◻◻◼◼◼◼◻◻◻◼\n",
      "000014\t◻◼◻◼◻◻◻◻◻◻◼◻◻◻◼◼◻◼◻◼◼◻◻◻◼◻◼◼◻◻◻◻◻◼◼◻◻◼◻◻\n",
      "000015\t◻◼◼◼◻◼◼◼◼◻◼◻◼◻◻◻◼◼◼◻◻◻◼◻◼◼◻◻◻◼◼◼◻◻◻◻◻◼◻◼\n",
      "000016\t◼◻◼◻◼◻◼◼◻◼◼◼◼◻◼◻◻◼◻◻◼◻◼◼◻◻◻◼◻◻◼◻◻◼◼◼◻◼◼◼\n",
      "000017\t◻◼◼◼◼◼◻◻◼◻◼◼◻◼◼◻◻◼◻◻◼◼◻◻◻◼◻◼◻◻◼◻◻◻◼◻◼◻◼◼\n",
      "000018\t◼◻◼◼◼◻◻◻◼◼◻◻◼◻◻◻◻◼◻◻◻◻◻◼◻◼◼◼◻◻◼◻◼◻◼◼◼◼◻◻\n",
      "000019\t◼◼◻◼◻◻◼◻◻◻◻◻◼◻◼◼◻◼◻◼◼◼◻◼◼◻◼◻◻◻◼◼◼◼◻◼◼◻◻◻\n",
      "000020\t◻◻◼◼◻◻◼◻◼◼◼◻◼◼◻◻◼◼◼◻◼◻◼◻◻◼◼◻◼◻◻◼◼◻◼◻◻◻◼◻\n",
      "000021\t◼◻◻◻◻◻◼◼◻◼◻◼◻◻◻◻◻◼◻◼◼◼◼◻◻◻◻◼◼◻◻◻◻◼◼◻◼◻◼◻\n",
      "000022\t◼◻◼◼◼◻◻◻◼◼◼◼◻◼◼◼◻◼◼◻◼◼◻◻◼◼◻◻◻◻◼◼◻◻◻◼◼◼◼◼\n",
      "000023\t◻◼◻◼◻◻◼◻◻◼◼◻◼◻◼◻◼◻◻◼◻◻◻◻◻◻◻◼◼◻◻◻◻◼◻◻◼◼◼◼\n",
      "000024\t◼◼◼◼◻◻◼◻◻◻◻◼◼◼◼◼◼◻◻◼◻◼◼◼◼◼◻◻◻◻◼◼◻◼◻◻◻◼◼◻\n",
      "000025\t◻◼◼◻◻◻◼◻◼◼◻◻◼◼◼◼◻◻◻◼◼◻◼◼◼◻◻◼◼◻◻◻◼◼◻◼◻◻◻◼\n",
      "000026\t◼◻◻◻◼◻◼◼◻◻◻◻◻◼◼◻◻◼◻◻◻◼◻◼◻◻◻◻◻◻◼◻◻◻◼◼◻◼◻◼\n",
      "000027\t◻◻◼◻◼◼◻◻◻◼◼◼◻◻◻◻◻◼◻◼◻◼◼◼◻◼◼◼◼◻◼◻◼◻◻◻◼◼◼◻\n",
      "000028\t◼◻◼◼◻◻◻◼◻◻◼◻◻◼◼◼◻◼◼◼◼◻◼◻◼◻◼◼◻◼◼◼◼◻◼◻◻◼◻◻\n",
      "000029\t◼◼◻◻◻◼◻◼◻◻◼◻◻◻◼◻◼◻◼◼◻◼◼◼◼◼◻◻◼◻◼◼◻◼◼◻◻◼◻◻\n",
      "000030\t◻◻◻◼◻◼◼◼◻◻◼◻◼◻◼◼◼◼◻◻◼◻◼◼◼◻◻◻◼◼◻◻◼◻◻◻◻◼◻◻\n",
      "000031\t◼◼◻◼◼◻◼◻◻◻◼◼◼◼◻◼◼◻◻◻◼◼◻◼◻◻◼◻◻◻◻◻◼◻◼◼◻◼◻◼\n",
      "000032\t◼◻◼◻◻◼◼◻◼◻◻◼◼◻◼◻◻◻◼◻◻◻◼◼◻◻◼◻◼◼◼◻◼◼◻◻◼◼◼◻\n",
      "000033\t◼◼◼◻◻◻◻◼◼◻◻◻◻◼◼◻◼◻◼◻◼◻◻◻◻◻◼◼◻◼◻◼◻◻◻◻◻◼◻◼\n",
      "000034\t◼◼◻◻◼◼◻◻◻◻◼◼◻◻◻◼◼◼◼◼◼◻◼◼◼◻◻◻◼◼◼◼◻◼◼◼◻◼◼◻\n",
      "000035\t◻◻◻◻◻◻◻◼◼◻◻◻◻◼◻◻◼◼◼◼◻◼◻◼◻◻◼◻◻◼◼◻◼◻◼◻◼◻◻◼\n",
      "000036\t◻◼◼◼◼◼◻◻◻◻◼◼◻◼◻◻◻◼◼◻◼◼◼◼◻◻◼◻◻◻◻◼◼◼◼◼◼◻◻◼\n",
      "000037\t◼◻◼◼◼◻◻◼◼◻◻◻◼◼◻◼◻◻◻◼◻◼◼◻◻◻◼◻◼◼◻◻◼◼◼◼◻◻◻◼\n",
      "000038\t◻◼◻◼◻◻◻◻◻◻◼◻◻◻◼◼◻◼◻◼◼◻◻◻◼◻◼◼◻◻◻◻◻◼◼◻◻◼◻◻\n",
      "000039\t◻◼◼◼◻◼◼◼◼◻◼◻◼◻◻◻◼◼◼◻◻◻◼◻◼◼◻◻◻◼◼◼◻◻◻◻◻◼◻◼\n",
      "000040\t◼◻◼◻◼◻◼◼◻◼◼◼◼◻◼◻◻◼◻◻◼◻◼◼◻◻◻◼◻◻◼◻◻◼◼◼◻◼◼◼\n",
      "000041\t◻◼◼◼◼◼◻◻◼◻◼◼◻◼◼◻◻◼◻◻◼◼◻◻◻◼◻◼◻◻◼◻◻◻◼◻◼◻◼◼\n",
      "000042\t◼◻◼◼◼◻◻◻◼◼◻◻◼◻◻◻◻◼◻◻◻◻◻◼◻◼◼◼◻◻◼◻◼◻◼◼◼◼◻◻\n",
      "000043\t◼◼◻◼◻◻◼◻◻◻◻◻◼◻◼◼◻◼◻◼◼◼◻◼◼◻◼◻◻◻◼◼◼◼◻◼◼◻◻◻\n",
      "000044\t◻◻◼◼◻◻◼◻◼◼◼◻◼◼◻◻◼◼◼◻◼◻◼◻◻◼◼◻◼◻◻◼◼◻◼◻◻◻◼◻\n",
      "000045\t◼◻◻◻◻◻◼◼◻◼◻◼◻◻◻◻◻◼◻◼◼◼◼◻◻◻◻◼◼◻◻◻◻◼◼◻◼◻◼◻\n",
      "000046\t◼◻◼◼◼◻◻◻◼◼◼◼◻◼◼◼◻◼◼◻◼◼◻◻◼◼◻◻◻◻◼◼◻◻◻◼◼◼◼◼\n",
      "000047\t◻◼◻◼◻◻◼◻◻◼◼◻◼◻◼◻◼◻◻◼◻◻◻◻◻◻◻◼◼◻◻◻◻◼◻◻◼◼◼◼\n",
      "000048\t◼◼◼◼◻◻◼◻◻◻◻◼◼◼◼◼◼◻◻◼◻◼◼◼◼◼◻◻◻◻◼◼◻◼◻◻◻◼◼◻\n",
      "000049\t◻◼◼◻◻◻◼◻◼◼◻◻◼◼◼◼◻◻◻◼◼◻◼◼◼◻◻◼◼◻◻◻◼◼◻◼◻◻◻◼\n",
      "000050\t◼◻◻◻◼◻◼◼◻◻◻◻◻◼◼◻◻◼◻◻◻◼◻◼◻◻◻◻◻◻◼◻◻◻◼◼◻◼◻◼\n"
     ]
    }
   ],
   "source": [
    "\"\"\"\n",
    "/* Emre S. Tasci <emre.tasci@hacettepe.edu.tr>          *\n",
    "*\n",
    "* Filename: game_of_life_1D.m\n",
    "*\n",
    "* 1D Game of Life implementation.\n",
    "*\n",
    "* Saves the states in \"aux_aux_world.txt\" (as a matrix) and\n",
    "* \"aux_timeline.txt\" (as visuals).\n",
    "*\n",
    "Rule #90, World Size: 40\n",
    "\n",
    "Initial state:\n",
    "0 0 0 0 0 1 1 0 1 0 1 0 1 0 0 0 1 1 0 1 1 1 0 0 1 0 1 1 1 1 0 0 1 0 1 0 1 0 0 0\n",
    "\n",
    "000001\t◼◼◼◼◼◻◻◼◻◼◻◼◻◼◼◼◻◻◼◻◻◻◼◼◻◼◻◻◻◻◼◼◻◼◻◼◻◼◼◼\n",
    "000002\t◼◼◼◼◻◻◻◼◼◼◼◼◼◻◼◻◻◻◼◻◼◻◻◻◼◼◻◼◼◻◻◻◼◼◼◼◼◻◼◼\n",
    "000003\t◼◼◼◻◻◼◻◻◼◼◼◼◻◼◼◻◼◻◼◼◼◻◼◻◻◻◼◻◻◻◼◻◻◼◼◼◻◼◻◼\n",
    "000004\t◼◼◻◻◻◼◻◻◻◼◼◻◼◻◻◼◼◼◻◼◻◼◼◻◼◻◼◻◼◻◼◻◻◻◼◻◼◼◼◻\n",
    "000005\t◻◻◻◼◻◼◻◼◻◻◻◼◼◻◻◻◼◻◼◼◼◻◻◼◼◼◼◼◼◼◼◻◼◻◼◼◻◼◻◼\n",
    "000006\t◻◼◻◼◼◼◼◼◻◼◻◻◻◻◼◻◼◼◻◼◻◻◻◻◼◼◼◼◼◼◻◼◼◼◻◻◼◼◼◼\n",
    "000007\t◼◼◼◻◼◼◼◻◼◼◻◼◼◻◼◼◻◻◼◼◻◼◼◻◻◼◼◼◼◻◼◻◼◻◻◻◻◼◼◻\n",
    "000008\t◻◼◻◼◻◼◻◼◻◻◼◻◻◼◻◻◻◻◻◻◼◻◻◻◻◻◼◼◻◼◼◼◼◻◼◼◻◻◻◼\n",
    "000009\t◼◼◼◼◼◼◼◼◻◻◼◻◻◼◻◼◼◼◼◻◼◻◼◼◼◻◻◻◼◻◼◼◻◼◻◻◻◼◻◼\n",
    "000010\t◼◼◼◼◼◼◼◻◻◻◼◻◻◼◼◻◼◼◻◼◼◼◻◼◻◻◼◻◼◼◻◻◼◼◻◼◻◼◼◻\n",
    "\n",
    "*                                             09/12/18 */\n",
    "\"\"\"\n",
    "import numpy as np\n",
    "\n",
    "world_size = 40\n",
    "num_of_time_steps = 50\n",
    "k = 3\n",
    "\n",
    "# Create the world as a num_of_time_steps x world_size size matrix:\n",
    "world = np.zeros([num_of_time_steps,world_size]);\n",
    "\n",
    "def modd(n):\n",
    "    return np.mod(n,world_size)\n",
    "def bin2dec(bin):\n",
    "    return int(bin,2)\n",
    "def dec2bin(dec):\n",
    "    return np.base_repr(dec,base=2)\n",
    "\n",
    "\n",
    "# Define the rules:\n",
    "rules = [None]*8;\n",
    "rules[0] = 0; # 000 => 0\n",
    "rules[1] = 1; # 001 => 1\n",
    "rules[2] = 0; # 010 => 0\n",
    "rules[3] = 1; # 011 => 1\n",
    "rules[4] = 1; # 100 => 1\n",
    "rules[5] = 0; # 101 => 0\n",
    "rules[6] = 1; # 110 => 1\n",
    "rules[7] = 0; # 111 => 0\n",
    "\n",
    "world = np.zeros([num_of_time_steps,world_size],int)\n",
    "#print(world.shape)\n",
    "\n",
    "file_id = open(\"aux_timeline_py.txt\",\"w\")\n",
    "#file_id.write(\"Rule #%d, World Size: %d\\n\\n\",bin2dec(strrep(num2str(rules),\" \",\"\")),world_size)\n",
    "rule = ''.join(map(str,rules))\n",
    "file_id.write(\"Rule #%d, World Size: %d\\n\\n\"%(bin2dec(rule),world_size))\n",
    "\n",
    "# Define the initial state:\n",
    "# Randomly fill with 0 & 1 of a 1 row, world_size cols sized matrix\n",
    "world[0,:] = np.random.randint(0,2,(1,world_size))\n",
    "file_id.write(\"Initial state:\\n%s\\n\\n\"%(' '.join(world[0,:].astype(str))))\n",
    "world_t_str = ''.join(world[0,:].astype(str))\n",
    "world_t_str_symb = world_t_str.replace(\"1\",\"◻\").replace(\"0\",\"◼\")\n",
    "print(\"%06d\\t%s\\n\"%(1,world_t_str_symb),end=\"\")\n",
    "file_id.write(\"%06d\\t%s\\n\"%(1,world_t_str_symb))\n",
    "\n",
    "for t in range(1,num_of_time_steps):\n",
    "    for n in range(0,world_size):\n",
    "        previous_t_left_neighbor_state= world[t-1,np.mod(n-1,world_size)].astype(str)\n",
    "        previous_t_self_neighbor_state= world[t-1,np.mod(n,world_size)].astype(str)\n",
    "        previous_t_right_neighbor_state= world[t-1,np.mod(n+1,world_size)].astype(str)\n",
    "        previous_t_triple_state = previous_t_left_neighbor_state+previous_t_self_neighbor_state+previous_t_right_neighbor_state\n",
    "        #print(\"%3d\\t%3d\\t%3s\" % (t,n,previous_t_triple_state))\n",
    "        rule = rules[bin2dec(previous_t_triple_state)];\n",
    "        world[t,n] = rule;\n",
    "    world_t_str = ''.join(world[t,:].astype(str))\n",
    "    world_t_str_symb = world_t_str.replace(\"1\",\"◻\").replace(\"0\",\"◼\")\n",
    "    print(\"%06d\\t%s\\n\"%((t+1),world_t_str_symb),end=\"\")\n",
    "    file_id.write(\"%06d\\t%s\\n\"%((t+1),world_t_str_symb))\n",
    "    #printf(figure_form);\n",
    "\n",
    "#print(world)\n",
    "file_id.close()\n",
    "\n",
    "np.savetxt(\"aux_world_py.txt\",world,\"%d\")"
   ]
  },
  {
   "cell_type": "markdown",
   "id": "f69c60df",
   "metadata": {},
   "source": [
    "## 2-Dimensional"
   ]
  },
  {
   "cell_type": "code",
   "execution_count": 4,
   "id": "7169052f",
   "metadata": {},
   "outputs": [
    {
     "data": {
      "image/png": "[encoded data removed]",
      "text/plain": [
       "<Figure size 432x288 with 1 Axes>"
      ]
     },
     "metadata": {
      "filenames": {
       "image/png": "/stmp/code/books/FIZ371/_build/jupyter_execute/FIZ371_LN47_EST_CellularAutomata_GameOfLife_13_0.png"
      },
      "needs_background": "light"
     },
     "output_type": "display_data"
    },
    {
     "data": {
      "image/png": "[encoded data removed]",
      "text/plain": [
       "<Figure size 432x288 with 1 Axes>"
      ]
     },
     "metadata": {
      "filenames": {
       "image/png": "/stmp/code/books/FIZ371/_build/jupyter_execute/FIZ371_LN47_EST_CellularAutomata_GameOfLife_13_1.png"
      },
      "needs_background": "light"
     },
     "output_type": "display_data"
    },
    {
     "data": {
      "image/png": "[encoded data removed]",
      "text/plain": [
       "<Figure size 432x288 with 1 Axes>"
      ]
     },
     "metadata": {
      "filenames": {
       "image/png": "/stmp/code/books/FIZ371/_build/jupyter_execute/FIZ371_LN47_EST_CellularAutomata_GameOfLife_13_2.png"
      },
      "needs_background": "light"
     },
     "output_type": "display_data"
    },
    {
     "data": {
      "image/png": "[encoded data removed]",
      "text/plain": [
       "<Figure size 432x288 with 1 Axes>"
      ]
     },
     "metadata": {
      "filenames": {
       "image/png": "/stmp/code/books/FIZ371/_build/jupyter_execute/FIZ371_LN47_EST_CellularAutomata_GameOfLife_13_3.png"
      },
      "needs_background": "light"
     },
     "output_type": "display_data"
    },
    {
     "data": {
      "image/png": "[encoded data removed]",
      "text/plain": [
       "<Figure size 432x288 with 1 Axes>"
      ]
     },
     "metadata": {
      "filenames": {
       "image/png": "/stmp/code/books/FIZ371/_build/jupyter_execute/FIZ371_LN47_EST_CellularAutomata_GameOfLife_13_4.png"
      },
      "needs_background": "light"
     },
     "output_type": "display_data"
    },
    {
     "data": {
      "image/png": "[encoded data removed]",
      "text/plain": [
       "<Figure size 432x288 with 1 Axes>"
      ]
     },
     "metadata": {
      "filenames": {
       "image/png": "/stmp/code/books/FIZ371/_build/jupyter_execute/FIZ371_LN47_EST_CellularAutomata_GameOfLife_13_5.png"
      },
      "needs_background": "light"
     },
     "output_type": "display_data"
    },
    {
     "data": {
      "image/png": "[encoded data removed]",
      "text/plain": [
       "<Figure size 432x288 with 1 Axes>"
      ]
     },
     "metadata": {
      "filenames": {
       "image/png": "/stmp/code/books/FIZ371/_build/jupyter_execute/FIZ371_LN47_EST_CellularAutomata_GameOfLife_13_6.png"
      },
      "needs_background": "light"
     },
     "output_type": "display_data"
    },
    {
     "data": {
      "image/png": "[encoded data removed]",
      "text/plain": [
       "<Figure size 432x288 with 1 Axes>"
      ]
     },
     "metadata": {
      "filenames": {
       "image/png": "/stmp/code/books/FIZ371/_build/jupyter_execute/FIZ371_LN47_EST_CellularAutomata_GameOfLife_13_7.png"
      },
      "needs_background": "light"
     },
     "output_type": "display_data"
    },
    {
     "data": {
      "image/png": "[encoded data removed]",
      "text/plain": [
       "<Figure size 432x288 with 1 Axes>"
      ]
     },
     "metadata": {
      "filenames": {
       "image/png": "/stmp/code/books/FIZ371/_build/jupyter_execute/FIZ371_LN47_EST_CellularAutomata_GameOfLife_13_8.png"
      },
      "needs_background": "light"
     },
     "output_type": "display_data"
    },
    {
     "data": {
      "image/png": "[encoded data removed]",
      "text/plain": [
       "<Figure size 432x288 with 1 Axes>"
      ]
     },
     "metadata": {
      "filenames": {
       "image/png": "/stmp/code/books/FIZ371/_build/jupyter_execute/FIZ371_LN47_EST_CellularAutomata_GameOfLife_13_9.png"
      },
      "needs_background": "light"
     },
     "output_type": "display_data"
    },
    {
     "data": {
      "image/png": "[encoded data removed]",
      "text/plain": [
       "<Figure size 432x288 with 1 Axes>"
      ]
     },
     "metadata": {
      "filenames": {
       "image/png": "/stmp/code/books/FIZ371/_build/jupyter_execute/FIZ371_LN47_EST_CellularAutomata_GameOfLife_13_10.png"
      },
      "needs_background": "light"
     },
     "output_type": "display_data"
    }
   ],
   "source": [
    "\"\"\"\n",
    "/* Emre S. Tasci <emre.tasci@hacettepe.edu.tr>          *\n",
    "*\n",
    "* Filename: game_of_life_2D.m\n",
    "*\n",
    "* 2D Game of Life implementation.\n",
    "*                                             09/12/18 */\n",
    "\"\"\"\n",
    "import numpy as np\n",
    "from matplotlib import pyplot as plt\n",
    "\n",
    "world_size = {\"x\":0,\"y\":0}\n",
    "world_size[\"x\"] = 20\n",
    "world_size[\"y\"] = 20\n",
    "\n",
    "num_time_steps = 10;\n",
    "#np.arccos()\n",
    "def modd_x(n):\n",
    "    return np.mod(n,world_size[\"x\"])\n",
    "\n",
    "def modd_y(n):\n",
    "    return np.mod(n,world_size[\"y\"])\n",
    "\n",
    "def show_matrix(world,fig,t=0,pause_time=0.5):\n",
    "    #fig = plt.figure()\n",
    "    ax = fig.add_subplot(1, 1, 1)\n",
    "\n",
    "    # Major ticks every 20, minor ticks every 5\n",
    "    major_ticks = np.arange(0.5, world_size[\"x\"] ,1)\n",
    "    minor_ticks = np.arange(0.5, world_size[\"x\"], 1)\n",
    "\n",
    "    ax.set_xticks(major_ticks)\n",
    "    #ax.set_xticks(minor_ticks, minor=True)\n",
    "    ax.set_yticks(major_ticks)\n",
    "    #ax.set_yticks(minor_ticks, minor=True)\n",
    "\n",
    "    # And a corresponding grid\n",
    "    ax.grid(which='both')\n",
    "\n",
    "    # Or if you want different settings for the grids:\n",
    "    #ax.grid(which='minor', alpha=1)\n",
    "    ax.grid(which='major', alpha=1)\n",
    "    ax.set_yticklabels([])\n",
    "    ax.set_xticklabels([])\n",
    "    plt.imshow(world,cmap='Greys')\n",
    "    plt.draw()\n",
    "    plt.xlabel(\"t = %05d\"%t)\n",
    "    #plt.show()\n",
    "    plt.pause(pause_time)\n",
    "    #input(\"...\")\n",
    "    plt.clf()\n",
    "\n",
    "\n",
    "# Random\n",
    "world = np.random.randint(0,2,[world_size[\"y\"], world_size[\"x\"]])\n",
    "\n",
    "# Glider Spaceship (http://www.conwaylife.com/wiki/Glider)\n",
    "world = np.zeros([world_size[\"y\"], world_size[\"x\"]])\n",
    "world[1,2] = world[2,3] = world[3,1:4] = 1\n",
    "\n",
    "# Ligthweight Spaceship (http://www.conwaylife.com/wiki/Lightweight_spaceship\n",
    "world = np.zeros([world_size[\"y\"], world_size[\"x\"]])\n",
    "world[1,2] = world[1,5] = world[2,1] = world[3,1] = world[3,5] = world[4,1:5] = 1\n",
    "\n",
    "# Figure eight (http://www.conwaylife.com/wiki/Figure_eight)\n",
    "world = np.zeros([world_size[\"y\"], world_size[\"x\"]])\n",
    "world[3:6,3:6] = world[6:9,6:9] = 1\n",
    "\n",
    "fig = plt.figure()\n",
    "show_matrix(world,fig)\n",
    "\n",
    "aux = world.copy()\n",
    "#print(world)\n",
    "#print(world.shape)\n",
    "for t in range(0,num_time_steps):\n",
    "    for row in range(0,world_size[\"y\"]):\n",
    "        for col in range(0,world_size[\"x\"]):\n",
    "            # Count the neighbours\n",
    "            neighbours = []\n",
    "            #print(\"(%2d,%2d):\\t\"%(row,col),end=\"\")\n",
    "            for i in range(-1,2):\n",
    "                for j in range(-1,2):\n",
    "                    #if(i == j == 0):\n",
    "                    #    continue\n",
    "                    #print(\"(%d,%d) \"%(modd_y(row+j),modd_x(col+i)),end=\"\")\n",
    "                    neighbours.append(world[modd_y(row+i),modd_x(col+j)])\n",
    "\n",
    "            #print(\"\")\n",
    "            #print(neighbours)\n",
    "            count_neighbours = sum(neighbours) - world[row,col] # Don't count itself as neighbor\n",
    "            if(count_neighbours == 3):\n",
    "                aux[row,col] = 1\n",
    "            elif(count_neighbours == 2):\n",
    "                aux[row,col] = world[row,col]\n",
    "            else:\n",
    "                aux[row,col] = 0\n",
    "    world = aux.copy()\n",
    "    #print(world)\n",
    "    show_matrix(world,fig,t+1,pause_time=0.1)\n",
    "plt.close()"
   ]
  },
  {
   "cell_type": "markdown",
   "id": "1c96a235",
   "metadata": {},
   "source": [
    "# Classification of Systems\n",
    "[According to the Stephen Wolfram](https://www.wolframscience.com/nks/p231--four-classes-of-behavior/), a celular automata can be classified into one of the following 4 systems:\n",
    "1. Almost all initial conditions lead to exactly the same uniform final state.\n",
    "2. The final state becomes a repetition.\n",
    "3. The evolution seems complicated alas a pattern-like behaviour (such as triangles) emerges.\n",
    "4. Clusters interact with each other to evolve into even complex and evergoing systems.\n",
    "\n",
    "It is this 4th class that is promising.\n",
    "\n",
    "![cellular_automata_classification_Wolfram.png](images/cellular_automata_classification_Wolfram.png)\n",
    "Stephen Wolfram, \"A New Kind of Science: Four Classes of Behavior: Image Source for Page 231\" from the Notebook Archive (2018), https://notebookarchive.org/2018-12-1g671ci"
   ]
  },
  {
   "cell_type": "markdown",
   "id": "96ae259b",
   "metadata": {},
   "source": [
    "# References & Links:\n",
    "## Articles\n",
    "* [Martin Gardner, “Mathematical Games: The fantastic combinations of John Conway's new solitaire game ‘life’”, Scientific American 223 120 (1970)](http://dx.doi.org/10.1038)\n",
    "* [Dierk Schleicher, “Interview with John Horton Conway”, Notices of the American Mathematical Society 60 567 (2013)](https://www.ams.org/notices/201305/rnoti-p567.pdf)\n",
    "* [Stephen Wolfram, \"A New Kind of Science\"](https://www.wolframscience.com/nks/)\n",
    "* [Mark Andrew Smith, \"Cellular Automata Methods in Mathematical Physics\", Ph.D. Thesis, MIT (1994)](https://dl.acm.org/doi/pdf/10.5555/888548)\n",
    "* [A.I. Adamatzky, \"Computation of Shortest Path in Cellular Automata\", Mathl. Comput. Modelling (23) 105 (1996)](https://doi.org/10.1016/0895-7177(96)00006-4)\n",
    "## Videos\n",
    "* [Civilization III Summary replay](https://www.youtube.com/watch?v=V7SKQAw7Txw)\n",
    "* [Programmable self-assembly in a thousand-robot swarm](https://www.youtube.com/watch?v=xK54Bu9HFRw)\n",
    "* [World War II in Europe: Every Day](https://www.youtube.com/watch?v=WOVEy1tC7nk)\n",
    "## Implementations\n",
    "* https://copy.sh/life/ (Detailed & complex)\n",
    "* http://pmav.eu/stuff/javascript-game-of-life-v3.1.1/ (simpler)\n",
    "* [Digital clock implementation](https://copy.sh/life/?gist=f3413564b1fa9c69f2bad4b0400b8090&step=512)\n",
    "* [Reaction-Diffusion Simulation using Gray-Scott Model / Karl Sims](http://karlsims.com/rd.html)\n",
    "\n",
    "* [Game of Life Wiki](http://www.conwaylife.com/wiki/Main_Page)"
   ]
  },
  {
   "cell_type": "code",
   "execution_count": null,
   "id": "69c8875b",
   "metadata": {},
   "outputs": [],
   "source": []
  }
 ],
 "metadata": {
  "jupytext": {
   "formats": "ipynb,md:myst",
   "text_representation": {
    "extension": ".md",
    "format_name": "myst",
    "format_version": 0.13,
    "jupytext_version": "1.11.5"
   }
  },
  "kernelspec": {
   "display_name": "Python 3 (ipykernel)",
   "language": "python",
   "name": "python3"
  },
  "language_info": {
   "codemirror_mode": {
    "name": "ipython",
    "version": 3
   },
   "file_extension": ".py",
   "mimetype": "text/x-python",
   "name": "python",
   "nbconvert_exporter": "python",
   "pygments_lexer": "ipython3",
   "version": "3.8.5"
  },
  "source_map": [
   13,
   32,
   38,
   49,
   61,
   68,
   73,
   78,
   86,
   110,
   112,
   116,
   209,
   213,
   314,
   328,
   349
  ]
 },
 "nbformat": 4,
 "nbformat_minor": 5
}