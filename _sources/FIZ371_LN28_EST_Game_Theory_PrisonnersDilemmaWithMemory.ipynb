{
 "cells": [
  {
   "cell_type": "markdown",
   "id": "7f6b8312",
   "metadata": {},
   "source": [
    "# Implementation of Prisonner's Dilemma with Memory"
   ]
  },
  {
   "cell_type": "code",
   "execution_count": 1,
   "id": "4a65c148",
   "metadata": {},
   "outputs": [],
   "source": [
    "import numpy as np\n",
    "import pandas as pd"
   ]
  },
  {
   "cell_type": "code",
   "execution_count": 2,
   "id": "2ea1b84b",
   "metadata": {},
   "outputs": [],
   "source": [
    "history = np.empty((0,2),int)"
   ]
  },
  {
   "cell_type": "code",
   "execution_count": 3,
   "id": "8e30130b",
   "metadata": {},
   "outputs": [],
   "source": [
    "for i in range(10):\n",
    "    history = np.vstack((history,np.array([np.round(np.random.rand()),0]).astype(int)))"
   ]
  },
  {
   "cell_type": "code",
   "execution_count": 4,
   "id": "8eb8fb17",
   "metadata": {},
   "outputs": [
    {
     "data": {
      "text/plain": [
       "array([[0, 0],\n",
       "       [1, 0],\n",
       "       [1, 0],\n",
       "       [1, 0],\n",
       "       [1, 0],\n",
       "       [0, 0],\n",
       "       [1, 0],\n",
       "       [1, 0],\n",
       "       [0, 0],\n",
       "       [0, 0]])"
      ]
     },
     "execution_count": 4,
     "metadata": {},
     "output_type": "execute_result"
    }
   ],
   "source": [
    "history"
   ]
  },
  {
   "cell_type": "code",
   "execution_count": 5,
   "id": "7cd5ab48",
   "metadata": {},
   "outputs": [],
   "source": [
    "def pick_fight(pl1,pl2,N=10):\n",
    "    history = np.empty((0,2),int)\n",
    "    for i in range(N):\n",
    "        (a,b) = [pl1(0,history),pl2(1,history)]\n",
    "        #print(a,b)\n",
    "        history = np.vstack((history,np.array([a,b])))\n",
    "    return history\n",
    "\n",
    "def score_history(history):\n",
    "    # Returns the mean score\n",
    "    s00 = np.sum((h[:,0] == 0 ) & (h[:,1] == 0)) # Both silent (2,2)\n",
    "    s01 = np.sum((h[:,0] == 0 ) & (h[:,1] == 1)) # A silent,  B defects (0,3)\n",
    "    s10 = np.sum((h[:,0] == 1 ) & (h[:,1] == 0)) # A defects, B silent (3,0)\n",
    "    s11 = np.sum((h[:,0] == 1 ) & (h[:,1] == 1)) # Both defect (1,1)\n",
    "    \n",
    "    return np.array([s00*2+s10*3+s11*1,s00*2+s01*3+s11*1])/history.shape[0]"
   ]
  },
  {
   "cell_type": "code",
   "execution_count": 6,
   "id": "e13da7bc",
   "metadata": {},
   "outputs": [],
   "source": [
    "def pl_tit4tat(pl_no=0,history=[]):\n",
    "    # starts with silence (0)\n",
    "    # afterwards, returns the last action of the opponent\n",
    "    opp_no = np.mod(pl_no+1,2)\n",
    "    if(not history.size):\n",
    "        return 0\n",
    "    return history[-1,opp_no]\n",
    "\n",
    "def pl_rando(pl_no=0,history=[]):\n",
    "    # returns random\n",
    "    return np.random.randint(0,2)\n",
    "\n",
    "def pl_good(pl_no=0,history=[]):\n",
    "    # always silent\n",
    "    return 0\n",
    "\n",
    "def pl_evil(pl_no=0,history=[]):\n",
    "    # always defects\n",
    "    return 1\n",
    "\n",
    "def pl_last10avg(pl_no,history=[]):\n",
    "    # Starts with silence (0)\n",
    "    # Returns the average of opponent's last 10 turns\n",
    "    opp_no = np.mod(pl_no+1,2)\n",
    "    if(not history.size):\n",
    "        return 0\n",
    "    return int(np.round(np.mean(history[-10:,opp_no])))\n",
    "    "
   ]
  },
  {
   "cell_type": "code",
   "execution_count": 7,
   "id": "c1720f34",
   "metadata": {},
   "outputs": [],
   "source": [
    "pls = ['pl_rando','pl_tit4tat','pl_good','pl_evil','pl_last10avg']"
   ]
  },
  {
   "cell_type": "code",
   "execution_count": 8,
   "id": "d9226da1",
   "metadata": {},
   "outputs": [
    {
     "name": "stdout",
     "output_type": "stream",
     "text": [
      "pl_rando vs pl_rando\n",
      "1.50, 1.49\n",
      "pl_rando (1st player) WINS!!!\n",
      "---------------------------------------------\n",
      "pl_rando vs pl_tit4tat\n"
     ]
    },
    {
     "name": "stdout",
     "output_type": "stream",
     "text": [
      "1.50, 1.50\n",
      "pl_rando (1st player) WINS!!!\n",
      "---------------------------------------------\n",
      "pl_rando vs pl_good\n",
      "2.51, 0.99\n",
      "pl_rando (1st player) WINS!!!\n",
      "---------------------------------------------\n",
      "pl_rando vs pl_evil\n",
      "0.50, 2.00\n",
      "pl_evil (2nd player) WINS!!!\n",
      "---------------------------------------------\n",
      "pl_rando vs pl_last10avg\n"
     ]
    },
    {
     "name": "stdout",
     "output_type": "stream",
     "text": [
      "1.76, 1.37\n",
      "pl_rando (1st player) WINS!!!\n",
      "---------------------------------------------\n",
      "pl_tit4tat vs pl_rando\n",
      "1.50, 1.50\n",
      "pl_rando (2nd player) WINS!!!\n",
      "---------------------------------------------\n",
      "pl_tit4tat vs pl_tit4tat\n"
     ]
    },
    {
     "name": "stdout",
     "output_type": "stream",
     "text": [
      "2.00, 2.00\n",
      "IT'S A DRAW!!!\n",
      "---------------------------------------------\n",
      "pl_tit4tat vs pl_good\n",
      "2.00, 2.00\n",
      "IT'S A DRAW!!!\n",
      "---------------------------------------------\n",
      "pl_tit4tat vs pl_evil\n"
     ]
    },
    {
     "name": "stdout",
     "output_type": "stream",
     "text": [
      "1.00, 1.00\n",
      "pl_evil (2nd player) WINS!!!\n",
      "---------------------------------------------\n",
      "pl_tit4tat vs pl_last10avg\n"
     ]
    },
    {
     "name": "stdout",
     "output_type": "stream",
     "text": [
      "2.00, 2.00\n",
      "IT'S A DRAW!!!\n",
      "---------------------------------------------\n",
      "pl_good vs pl_rando\n",
      "0.99, 2.51\n",
      "pl_rando (2nd player) WINS!!!\n",
      "---------------------------------------------\n",
      "pl_good vs pl_tit4tat\n"
     ]
    },
    {
     "name": "stdout",
     "output_type": "stream",
     "text": [
      "2.00, 2.00\n",
      "IT'S A DRAW!!!\n",
      "---------------------------------------------\n",
      "pl_good vs pl_good\n",
      "2.00, 2.00\n",
      "IT'S A DRAW!!!\n",
      "---------------------------------------------\n",
      "pl_good vs pl_evil\n",
      "0.00, 3.00\n",
      "pl_evil (2nd player) WINS!!!\n",
      "---------------------------------------------\n",
      "pl_good vs pl_last10avg\n"
     ]
    },
    {
     "name": "stdout",
     "output_type": "stream",
     "text": [
      "2.00, 2.00\n",
      "IT'S A DRAW!!!\n",
      "---------------------------------------------\n",
      "pl_evil vs pl_rando\n",
      "2.00, 0.50\n",
      "pl_evil (1st player) WINS!!!\n",
      "---------------------------------------------\n",
      "pl_evil vs pl_tit4tat\n",
      "1.00, 1.00\n",
      "pl_evil (1st player) WINS!!!\n",
      "---------------------------------------------\n",
      "pl_evil vs pl_good\n"
     ]
    },
    {
     "name": "stdout",
     "output_type": "stream",
     "text": [
      "3.00, 0.00\n",
      "pl_evil (1st player) WINS!!!\n",
      "---------------------------------------------\n",
      "pl_evil vs pl_evil\n",
      "1.00, 1.00\n",
      "IT'S A DRAW!!!\n",
      "---------------------------------------------\n",
      "pl_evil vs pl_last10avg\n"
     ]
    },
    {
     "name": "stdout",
     "output_type": "stream",
     "text": [
      "1.00, 1.00\n",
      "pl_evil (1st player) WINS!!!\n",
      "---------------------------------------------\n",
      "pl_last10avg vs pl_rando\n"
     ]
    },
    {
     "name": "stdout",
     "output_type": "stream",
     "text": [
      "1.39, 1.73\n",
      "pl_rando (2nd player) WINS!!!\n",
      "---------------------------------------------\n",
      "pl_last10avg vs pl_tit4tat\n"
     ]
    },
    {
     "name": "stdout",
     "output_type": "stream",
     "text": [
      "2.00, 2.00\n",
      "IT'S A DRAW!!!\n",
      "---------------------------------------------\n",
      "pl_last10avg vs pl_good\n"
     ]
    },
    {
     "name": "stdout",
     "output_type": "stream",
     "text": [
      "2.00, 2.00\n",
      "IT'S A DRAW!!!\n",
      "---------------------------------------------\n",
      "pl_last10avg vs pl_evil\n",
      "1.00, 1.00\n",
      "pl_evil (2nd player) WINS!!!\n",
      "---------------------------------------------\n",
      "pl_last10avg vs pl_last10avg\n"
     ]
    },
    {
     "name": "stdout",
     "output_type": "stream",
     "text": [
      "2.00, 2.00\n",
      "IT'S A DRAW!!!\n",
      "---------------------------------------------\n",
      "                      pl_rando        pl_tit4tat          pl_good  \\\n",
      "pl_rando      (1.5029, 1.4903)  (1.5018, 1.5015)  (2.5055, 0.989)   \n",
      "pl_tit4tat    (1.5012, 1.5015)        (2.0, 2.0)       (2.0, 2.0)   \n",
      "pl_good       (0.9866, 2.5067)        (2.0, 2.0)       (2.0, 2.0)   \n",
      "pl_evil       (1.9982, 0.5009)  (1.0002, 0.9999)       (3.0, 0.0)   \n",
      "pl_last10avg  (1.3856, 1.7324)        (2.0, 2.0)       (2.0, 2.0)   \n",
      "\n",
      "                       pl_evil      pl_last10avg  \n",
      "pl_rando      (0.4982, 2.0036)    (1.7624, 1.37)  \n",
      "pl_tit4tat    (0.9999, 1.0002)        (2.0, 2.0)  \n",
      "pl_good             (0.0, 3.0)        (2.0, 2.0)  \n",
      "pl_evil             (1.0, 1.0)  (1.0002, 0.9999)  \n",
      "pl_last10avg  (0.9999, 1.0002)        (2.0, 2.0)  \n",
      "    pl_rando pl_tit4tat  pl_good  pl_evil pl_last10avg\n",
      "tot  13.7702    17.0025  13.9756  16.0026      16.7554\n"
     ]
    }
   ],
   "source": [
    "chart = pd.DataFrame(columns=pls,index=pls)\n",
    "\n",
    "no_pl = len(pls)\n",
    "for i in range(no_pl):\n",
    "    for j in range(no_pl):\n",
    "        print(\"{:s} vs {:s}\".format(pls[i],pls[j]))\n",
    "        p1 = locals()[pls[i]]\n",
    "        p2 = locals()[pls[j]]\n",
    "        h = pick_fight(p1,p2,N=10000)\n",
    "        (a,b) = score_history(h)\n",
    "        print(\"{:.2f}, {:.2f}\".format(a,b))\n",
    "        if(a > b):\n",
    "            print(\"{:s} (1st player) WINS!!!\".format(pls[i]))\n",
    "        elif(a < b):\n",
    "            print(\"{:s} (2nd player) WINS!!!\".format(pls[j]))\n",
    "        else:\n",
    "            print(\"IT'S A DRAW!!!\")\n",
    "        print(\"-\"*45)\n",
    "        \n",
    "        chart.loc[pls[i]][pls[j]] = (a,b)\n",
    "print(chart)\n",
    "for pl in pls:\n",
    "    # Row-wise        \n",
    "    chart.loc[pl,'Tot'] = np.sum(chart.loc[pl,pls].sum()[0::2])\n",
    "\n",
    "for pl in pls:\n",
    "    # Col-wise\n",
    "    chart.loc['ToT',pl] = np.sum(chart[pl][:-1].sum()[1::2])\n",
    "    \n",
    "totscore = pd.DataFrame(columns=pls)\n",
    "for pl in pls:\n",
    "    #print(pl,chart.loc[pl,'Tot'], chart.loc['ToT',pl])\n",
    "    totscore.loc['tot',pl] = chart.loc[pl,'Tot'] + chart.loc['ToT',pl]\n",
    "print(totscore)"
   ]
  },
  {
   "cell_type": "code",
   "execution_count": 9,
   "id": "16cf372f",
   "metadata": {},
   "outputs": [
    {
     "data": {
      "text/html": [
       "<div>\n",
       "<style scoped>\n",
       "    .dataframe tbody tr th:only-of-type {\n",
       "        vertical-align: middle;\n",
       "    }\n",
       "\n",
       "    .dataframe tbody tr th {\n",
       "        vertical-align: top;\n",
       "    }\n",
       "\n",
       "    .dataframe thead th {\n",
       "        text-align: right;\n",
       "    }\n",
       "</style>\n",
       "<table border=\"1\" class=\"dataframe\">\n",
       "  <thead>\n",
       "    <tr style=\"text-align: right;\">\n",
       "      <th></th>\n",
       "      <th>pl_rando</th>\n",
       "      <th>pl_tit4tat</th>\n",
       "      <th>pl_good</th>\n",
       "      <th>pl_evil</th>\n",
       "      <th>pl_last10avg</th>\n",
       "      <th>Tot</th>\n",
       "    </tr>\n",
       "  </thead>\n",
       "  <tbody>\n",
       "    <tr>\n",
       "      <th>pl_rando</th>\n",
       "      <td>(1.5029, 1.4903)</td>\n",
       "      <td>(1.5018, 1.5015)</td>\n",
       "      <td>(2.5055, 0.989)</td>\n",
       "      <td>(0.4982, 2.0036)</td>\n",
       "      <td>(1.7624, 1.37)</td>\n",
       "      <td>7.7708</td>\n",
       "    </tr>\n",
       "    <tr>\n",
       "      <th>pl_tit4tat</th>\n",
       "      <td>(1.5012, 1.5015)</td>\n",
       "      <td>(2.0, 2.0)</td>\n",
       "      <td>(2.0, 2.0)</td>\n",
       "      <td>(0.9999, 1.0002)</td>\n",
       "      <td>(2.0, 2.0)</td>\n",
       "      <td>8.5011</td>\n",
       "    </tr>\n",
       "    <tr>\n",
       "      <th>pl_good</th>\n",
       "      <td>(0.9866, 2.5067)</td>\n",
       "      <td>(2.0, 2.0)</td>\n",
       "      <td>(2.0, 2.0)</td>\n",
       "      <td>(0.0, 3.0)</td>\n",
       "      <td>(2.0, 2.0)</td>\n",
       "      <td>6.9866</td>\n",
       "    </tr>\n",
       "    <tr>\n",
       "      <th>pl_evil</th>\n",
       "      <td>(1.9982, 0.5009)</td>\n",
       "      <td>(1.0002, 0.9999)</td>\n",
       "      <td>(3.0, 0.0)</td>\n",
       "      <td>(1.0, 1.0)</td>\n",
       "      <td>(1.0002, 0.9999)</td>\n",
       "      <td>7.9986</td>\n",
       "    </tr>\n",
       "    <tr>\n",
       "      <th>pl_last10avg</th>\n",
       "      <td>(1.3856, 1.7324)</td>\n",
       "      <td>(2.0, 2.0)</td>\n",
       "      <td>(2.0, 2.0)</td>\n",
       "      <td>(0.9999, 1.0002)</td>\n",
       "      <td>(2.0, 2.0)</td>\n",
       "      <td>8.3855</td>\n",
       "    </tr>\n",
       "    <tr>\n",
       "      <th>ToT</th>\n",
       "      <td>5.9994</td>\n",
       "      <td>8.5014</td>\n",
       "      <td>6.989</td>\n",
       "      <td>8.004</td>\n",
       "      <td>8.3699</td>\n",
       "      <td>NaN</td>\n",
       "    </tr>\n",
       "  </tbody>\n",
       "</table>\n",
       "</div>"
      ],
      "text/plain": [
       "                      pl_rando        pl_tit4tat          pl_good  \\\n",
       "pl_rando      (1.5029, 1.4903)  (1.5018, 1.5015)  (2.5055, 0.989)   \n",
       "pl_tit4tat    (1.5012, 1.5015)        (2.0, 2.0)       (2.0, 2.0)   \n",
       "pl_good       (0.9866, 2.5067)        (2.0, 2.0)       (2.0, 2.0)   \n",
       "pl_evil       (1.9982, 0.5009)  (1.0002, 0.9999)       (3.0, 0.0)   \n",
       "pl_last10avg  (1.3856, 1.7324)        (2.0, 2.0)       (2.0, 2.0)   \n",
       "ToT                     5.9994            8.5014            6.989   \n",
       "\n",
       "                       pl_evil      pl_last10avg     Tot  \n",
       "pl_rando      (0.4982, 2.0036)    (1.7624, 1.37)  7.7708  \n",
       "pl_tit4tat    (0.9999, 1.0002)        (2.0, 2.0)  8.5011  \n",
       "pl_good             (0.0, 3.0)        (2.0, 2.0)  6.9866  \n",
       "pl_evil             (1.0, 1.0)  (1.0002, 0.9999)  7.9986  \n",
       "pl_last10avg  (0.9999, 1.0002)        (2.0, 2.0)  8.3855  \n",
       "ToT                      8.004            8.3699     NaN  "
      ]
     },
     "execution_count": 9,
     "metadata": {},
     "output_type": "execute_result"
    }
   ],
   "source": [
    "chart"
   ]
  },
  {
   "cell_type": "code",
   "execution_count": 10,
   "id": "a4fd596c",
   "metadata": {},
   "outputs": [
    {
     "data": {
      "text/html": [
       "<div>\n",
       "<style scoped>\n",
       "    .dataframe tbody tr th:only-of-type {\n",
       "        vertical-align: middle;\n",
       "    }\n",
       "\n",
       "    .dataframe tbody tr th {\n",
       "        vertical-align: top;\n",
       "    }\n",
       "\n",
       "    .dataframe thead th {\n",
       "        text-align: right;\n",
       "    }\n",
       "</style>\n",
       "<table border=\"1\" class=\"dataframe\">\n",
       "  <thead>\n",
       "    <tr style=\"text-align: right;\">\n",
       "      <th></th>\n",
       "      <th>pl_rando</th>\n",
       "      <th>pl_tit4tat</th>\n",
       "      <th>pl_good</th>\n",
       "      <th>pl_evil</th>\n",
       "      <th>pl_last10avg</th>\n",
       "    </tr>\n",
       "  </thead>\n",
       "  <tbody>\n",
       "    <tr>\n",
       "      <th>tot</th>\n",
       "      <td>13.7702</td>\n",
       "      <td>17.0025</td>\n",
       "      <td>13.9756</td>\n",
       "      <td>16.0026</td>\n",
       "      <td>16.7554</td>\n",
       "    </tr>\n",
       "  </tbody>\n",
       "</table>\n",
       "</div>"
      ],
      "text/plain": [
       "    pl_rando pl_tit4tat  pl_good  pl_evil pl_last10avg\n",
       "tot  13.7702    17.0025  13.9756  16.0026      16.7554"
      ]
     },
     "execution_count": 10,
     "metadata": {},
     "output_type": "execute_result"
    }
   ],
   "source": [
    "totscore"
   ]
  },
  {
   "cell_type": "code",
   "execution_count": 11,
   "id": "b4a07c6b",
   "metadata": {},
   "outputs": [
    {
     "data": {
      "text/plain": [
       "pl_rando        (1.9982, 0.5009)\n",
       "pl_tit4tat      (1.0002, 0.9999)\n",
       "pl_good               (3.0, 0.0)\n",
       "pl_evil               (1.0, 1.0)\n",
       "pl_last10avg    (1.0002, 0.9999)\n",
       "Name: pl_evil, dtype: object"
      ]
     },
     "execution_count": 11,
     "metadata": {},
     "output_type": "execute_result"
    }
   ],
   "source": [
    "chart.loc['pl_evil',pls] # row-wise"
   ]
  },
  {
   "cell_type": "code",
   "execution_count": 12,
   "id": "c488f863",
   "metadata": {},
   "outputs": [
    {
     "data": {
      "text/plain": [
       "(1.9982, 1.0002, 3.0, 1.0, 1.0002)"
      ]
     },
     "execution_count": 12,
     "metadata": {},
     "output_type": "execute_result"
    }
   ],
   "source": [
    "chart.loc['pl_evil',pls].sum()[0::2]"
   ]
  },
  {
   "cell_type": "code",
   "execution_count": 13,
   "id": "7fb3be18",
   "metadata": {},
   "outputs": [],
   "source": [
    "chart.loc['pl_evil','tot'] = np.sum(chart.loc['pl_evil',pls].sum()[0::2])"
   ]
  },
  {
   "cell_type": "code",
   "execution_count": 14,
   "id": "698eee8b",
   "metadata": {},
   "outputs": [
    {
     "data": {
      "text/plain": [
       "pl_rando        (0.4982, 2.0036)\n",
       "pl_tit4tat      (0.9999, 1.0002)\n",
       "pl_good               (0.0, 3.0)\n",
       "pl_evil               (1.0, 1.0)\n",
       "pl_last10avg    (0.9999, 1.0002)\n",
       "ToT                        8.004\n",
       "Name: pl_evil, dtype: object"
      ]
     },
     "execution_count": 14,
     "metadata": {},
     "output_type": "execute_result"
    }
   ],
   "source": [
    "chart['pl_evil'] # col-wise"
   ]
  },
  {
   "cell_type": "code",
   "execution_count": 15,
   "id": "4abc8f36",
   "metadata": {},
   "outputs": [
    {
     "data": {
      "text/plain": [
       "array([10.0076,  9.0042, 11.004 ,  9.004 ,  9.0042])"
      ]
     },
     "execution_count": 15,
     "metadata": {},
     "output_type": "execute_result"
    }
   ],
   "source": [
    "chart['pl_evil'].sum()[1::2]"
   ]
  },
  {
   "cell_type": "code",
   "execution_count": 16,
   "id": "b2eb55d8",
   "metadata": {},
   "outputs": [],
   "source": [
    "chart.loc['ToT','pl_evil'] = np.sum(chart['pl_evil'].sum()[1::2])"
   ]
  },
  {
   "cell_type": "code",
   "execution_count": 17,
   "id": "e77db288",
   "metadata": {},
   "outputs": [
    {
     "data": {
      "text/plain": [
       "(3.0, 0.0)"
      ]
     },
     "execution_count": 17,
     "metadata": {},
     "output_type": "execute_result"
    }
   ],
   "source": [
    "chart.loc['pl_evil','pl_good']"
   ]
  },
  {
   "cell_type": "code",
   "execution_count": 18,
   "id": "f3e4c0f8",
   "metadata": {},
   "outputs": [],
   "source": [
    "chart.loc['pl_evil','tot'] = 5"
   ]
  },
  {
   "cell_type": "code",
   "execution_count": 19,
   "id": "74f65c60",
   "metadata": {},
   "outputs": [
    {
     "data": {
      "text/html": [
       "<div>\n",
       "<style scoped>\n",
       "    .dataframe tbody tr th:only-of-type {\n",
       "        vertical-align: middle;\n",
       "    }\n",
       "\n",
       "    .dataframe tbody tr th {\n",
       "        vertical-align: top;\n",
       "    }\n",
       "\n",
       "    .dataframe thead th {\n",
       "        text-align: right;\n",
       "    }\n",
       "</style>\n",
       "<table border=\"1\" class=\"dataframe\">\n",
       "  <thead>\n",
       "    <tr style=\"text-align: right;\">\n",
       "      <th></th>\n",
       "      <th>pl_rando</th>\n",
       "      <th>pl_tit4tat</th>\n",
       "      <th>pl_good</th>\n",
       "      <th>pl_evil</th>\n",
       "      <th>pl_last10avg</th>\n",
       "      <th>Tot</th>\n",
       "      <th>tot</th>\n",
       "    </tr>\n",
       "  </thead>\n",
       "  <tbody>\n",
       "    <tr>\n",
       "      <th>pl_rando</th>\n",
       "      <td>(1.5029, 1.4903)</td>\n",
       "      <td>(1.5018, 1.5015)</td>\n",
       "      <td>(2.5055, 0.989)</td>\n",
       "      <td>(0.4982, 2.0036)</td>\n",
       "      <td>(1.7624, 1.37)</td>\n",
       "      <td>7.7708</td>\n",
       "      <td>NaN</td>\n",
       "    </tr>\n",
       "    <tr>\n",
       "      <th>pl_tit4tat</th>\n",
       "      <td>(1.5012, 1.5015)</td>\n",
       "      <td>(2.0, 2.0)</td>\n",
       "      <td>(2.0, 2.0)</td>\n",
       "      <td>(0.9999, 1.0002)</td>\n",
       "      <td>(2.0, 2.0)</td>\n",
       "      <td>8.5011</td>\n",
       "      <td>NaN</td>\n",
       "    </tr>\n",
       "    <tr>\n",
       "      <th>pl_good</th>\n",
       "      <td>(0.9866, 2.5067)</td>\n",
       "      <td>(2.0, 2.0)</td>\n",
       "      <td>(2.0, 2.0)</td>\n",
       "      <td>(0.0, 3.0)</td>\n",
       "      <td>(2.0, 2.0)</td>\n",
       "      <td>6.9866</td>\n",
       "      <td>NaN</td>\n",
       "    </tr>\n",
       "    <tr>\n",
       "      <th>pl_evil</th>\n",
       "      <td>(1.9982, 0.5009)</td>\n",
       "      <td>(1.0002, 0.9999)</td>\n",
       "      <td>(3.0, 0.0)</td>\n",
       "      <td>(1.0, 1.0)</td>\n",
       "      <td>(1.0002, 0.9999)</td>\n",
       "      <td>7.9986</td>\n",
       "      <td>5.0</td>\n",
       "    </tr>\n",
       "    <tr>\n",
       "      <th>pl_last10avg</th>\n",
       "      <td>(1.3856, 1.7324)</td>\n",
       "      <td>(2.0, 2.0)</td>\n",
       "      <td>(2.0, 2.0)</td>\n",
       "      <td>(0.9999, 1.0002)</td>\n",
       "      <td>(2.0, 2.0)</td>\n",
       "      <td>8.3855</td>\n",
       "      <td>NaN</td>\n",
       "    </tr>\n",
       "    <tr>\n",
       "      <th>ToT</th>\n",
       "      <td>5.9994</td>\n",
       "      <td>8.5014</td>\n",
       "      <td>6.989</td>\n",
       "      <td>48.024</td>\n",
       "      <td>8.3699</td>\n",
       "      <td>NaN</td>\n",
       "      <td>NaN</td>\n",
       "    </tr>\n",
       "  </tbody>\n",
       "</table>\n",
       "</div>"
      ],
      "text/plain": [
       "                      pl_rando        pl_tit4tat          pl_good  \\\n",
       "pl_rando      (1.5029, 1.4903)  (1.5018, 1.5015)  (2.5055, 0.989)   \n",
       "pl_tit4tat    (1.5012, 1.5015)        (2.0, 2.0)       (2.0, 2.0)   \n",
       "pl_good       (0.9866, 2.5067)        (2.0, 2.0)       (2.0, 2.0)   \n",
       "pl_evil       (1.9982, 0.5009)  (1.0002, 0.9999)       (3.0, 0.0)   \n",
       "pl_last10avg  (1.3856, 1.7324)        (2.0, 2.0)       (2.0, 2.0)   \n",
       "ToT                     5.9994            8.5014            6.989   \n",
       "\n",
       "                       pl_evil      pl_last10avg     Tot  tot  \n",
       "pl_rando      (0.4982, 2.0036)    (1.7624, 1.37)  7.7708  NaN  \n",
       "pl_tit4tat    (0.9999, 1.0002)        (2.0, 2.0)  8.5011  NaN  \n",
       "pl_good             (0.0, 3.0)        (2.0, 2.0)  6.9866  NaN  \n",
       "pl_evil             (1.0, 1.0)  (1.0002, 0.9999)  7.9986  5.0  \n",
       "pl_last10avg  (0.9999, 1.0002)        (2.0, 2.0)  8.3855  NaN  \n",
       "ToT                     48.024            8.3699     NaN  NaN  "
      ]
     },
     "execution_count": 19,
     "metadata": {},
     "output_type": "execute_result"
    }
   ],
   "source": [
    "chart"
   ]
  },
  {
   "cell_type": "code",
   "execution_count": 20,
   "id": "3acf1ccd",
   "metadata": {},
   "outputs": [],
   "source": [
    "chart2 = chart.copy()"
   ]
  },
  {
   "cell_type": "code",
   "execution_count": 21,
   "id": "27ad9b13",
   "metadata": {},
   "outputs": [
    {
     "data": {
      "text/html": [
       "<div>\n",
       "<style scoped>\n",
       "    .dataframe tbody tr th:only-of-type {\n",
       "        vertical-align: middle;\n",
       "    }\n",
       "\n",
       "    .dataframe tbody tr th {\n",
       "        vertical-align: top;\n",
       "    }\n",
       "\n",
       "    .dataframe thead th {\n",
       "        text-align: right;\n",
       "    }\n",
       "</style>\n",
       "<table border=\"1\" class=\"dataframe\">\n",
       "  <thead>\n",
       "    <tr style=\"text-align: right;\">\n",
       "      <th></th>\n",
       "      <th>pl_rando</th>\n",
       "      <th>pl_tit4tat</th>\n",
       "      <th>pl_good</th>\n",
       "      <th>pl_evil</th>\n",
       "      <th>pl_last10avg</th>\n",
       "      <th>Tot</th>\n",
       "      <th>tot</th>\n",
       "    </tr>\n",
       "  </thead>\n",
       "  <tbody>\n",
       "    <tr>\n",
       "      <th>pl_rando</th>\n",
       "      <td>(1.5029, 1.4903)</td>\n",
       "      <td>(1.5018, 1.5015)</td>\n",
       "      <td>(2.5055, 0.989)</td>\n",
       "      <td>(0.4982, 2.0036)</td>\n",
       "      <td>(1.7624, 1.37)</td>\n",
       "      <td>7.7708</td>\n",
       "      <td>NaN</td>\n",
       "    </tr>\n",
       "    <tr>\n",
       "      <th>pl_tit4tat</th>\n",
       "      <td>(1.5012, 1.5015)</td>\n",
       "      <td>(2.0, 2.0)</td>\n",
       "      <td>(2.0, 2.0)</td>\n",
       "      <td>(0.9999, 1.0002)</td>\n",
       "      <td>(2.0, 2.0)</td>\n",
       "      <td>8.5011</td>\n",
       "      <td>NaN</td>\n",
       "    </tr>\n",
       "    <tr>\n",
       "      <th>pl_good</th>\n",
       "      <td>(0.9866, 2.5067)</td>\n",
       "      <td>(2.0, 2.0)</td>\n",
       "      <td>(2.0, 2.0)</td>\n",
       "      <td>(0.0, 3.0)</td>\n",
       "      <td>(2.0, 2.0)</td>\n",
       "      <td>6.9866</td>\n",
       "      <td>NaN</td>\n",
       "    </tr>\n",
       "    <tr>\n",
       "      <th>pl_evil</th>\n",
       "      <td>(1.9982, 0.5009)</td>\n",
       "      <td>(1.0002, 0.9999)</td>\n",
       "      <td>(3.0, 0.0)</td>\n",
       "      <td>(1.0, 1.0)</td>\n",
       "      <td>(1.0002, 0.9999)</td>\n",
       "      <td>7.9986</td>\n",
       "      <td>5.0</td>\n",
       "    </tr>\n",
       "    <tr>\n",
       "      <th>pl_last10avg</th>\n",
       "      <td>(1.3856, 1.7324)</td>\n",
       "      <td>(2.0, 2.0)</td>\n",
       "      <td>(2.0, 2.0)</td>\n",
       "      <td>(0.9999, 1.0002)</td>\n",
       "      <td>(2.0, 2.0)</td>\n",
       "      <td>8.3855</td>\n",
       "      <td>NaN</td>\n",
       "    </tr>\n",
       "    <tr>\n",
       "      <th>ToT</th>\n",
       "      <td>5.9994</td>\n",
       "      <td>8.5014</td>\n",
       "      <td>6.989</td>\n",
       "      <td>48.024</td>\n",
       "      <td>8.3699</td>\n",
       "      <td>NaN</td>\n",
       "      <td>NaN</td>\n",
       "    </tr>\n",
       "  </tbody>\n",
       "</table>\n",
       "</div>"
      ],
      "text/plain": [
       "                      pl_rando        pl_tit4tat          pl_good  \\\n",
       "pl_rando      (1.5029, 1.4903)  (1.5018, 1.5015)  (2.5055, 0.989)   \n",
       "pl_tit4tat    (1.5012, 1.5015)        (2.0, 2.0)       (2.0, 2.0)   \n",
       "pl_good       (0.9866, 2.5067)        (2.0, 2.0)       (2.0, 2.0)   \n",
       "pl_evil       (1.9982, 0.5009)  (1.0002, 0.9999)       (3.0, 0.0)   \n",
       "pl_last10avg  (1.3856, 1.7324)        (2.0, 2.0)       (2.0, 2.0)   \n",
       "ToT                     5.9994            8.5014            6.989   \n",
       "\n",
       "                       pl_evil      pl_last10avg     Tot  tot  \n",
       "pl_rando      (0.4982, 2.0036)    (1.7624, 1.37)  7.7708  NaN  \n",
       "pl_tit4tat    (0.9999, 1.0002)        (2.0, 2.0)  8.5011  NaN  \n",
       "pl_good             (0.0, 3.0)        (2.0, 2.0)  6.9866  NaN  \n",
       "pl_evil             (1.0, 1.0)  (1.0002, 0.9999)  7.9986  5.0  \n",
       "pl_last10avg  (0.9999, 1.0002)        (2.0, 2.0)  8.3855  NaN  \n",
       "ToT                     48.024            8.3699     NaN  NaN  "
      ]
     },
     "execution_count": 21,
     "metadata": {},
     "output_type": "execute_result"
    }
   ],
   "source": [
    "chart2"
   ]
  },
  {
   "cell_type": "code",
   "execution_count": 22,
   "id": "b13a436f",
   "metadata": {},
   "outputs": [],
   "source": [
    "chart2.loc['ToT'] = 0"
   ]
  },
  {
   "cell_type": "code",
   "execution_count": 23,
   "id": "4acb7498",
   "metadata": {},
   "outputs": [
    {
     "data": {
      "text/html": [
       "<div>\n",
       "<style scoped>\n",
       "    .dataframe tbody tr th:only-of-type {\n",
       "        vertical-align: middle;\n",
       "    }\n",
       "\n",
       "    .dataframe tbody tr th {\n",
       "        vertical-align: top;\n",
       "    }\n",
       "\n",
       "    .dataframe thead th {\n",
       "        text-align: right;\n",
       "    }\n",
       "</style>\n",
       "<table border=\"1\" class=\"dataframe\">\n",
       "  <thead>\n",
       "    <tr style=\"text-align: right;\">\n",
       "      <th></th>\n",
       "      <th>pl_rando</th>\n",
       "      <th>pl_tit4tat</th>\n",
       "      <th>pl_good</th>\n",
       "      <th>pl_evil</th>\n",
       "      <th>pl_last10avg</th>\n",
       "      <th>Tot</th>\n",
       "      <th>tot</th>\n",
       "    </tr>\n",
       "  </thead>\n",
       "  <tbody>\n",
       "    <tr>\n",
       "      <th>pl_rando</th>\n",
       "      <td>(1.5029, 1.4903)</td>\n",
       "      <td>(1.5018, 1.5015)</td>\n",
       "      <td>(2.5055, 0.989)</td>\n",
       "      <td>(0.4982, 2.0036)</td>\n",
       "      <td>(1.7624, 1.37)</td>\n",
       "      <td>7.7708</td>\n",
       "      <td>NaN</td>\n",
       "    </tr>\n",
       "    <tr>\n",
       "      <th>pl_tit4tat</th>\n",
       "      <td>(1.5012, 1.5015)</td>\n",
       "      <td>(2.0, 2.0)</td>\n",
       "      <td>(2.0, 2.0)</td>\n",
       "      <td>(0.9999, 1.0002)</td>\n",
       "      <td>(2.0, 2.0)</td>\n",
       "      <td>8.5011</td>\n",
       "      <td>NaN</td>\n",
       "    </tr>\n",
       "    <tr>\n",
       "      <th>pl_good</th>\n",
       "      <td>(0.9866, 2.5067)</td>\n",
       "      <td>(2.0, 2.0)</td>\n",
       "      <td>(2.0, 2.0)</td>\n",
       "      <td>(0.0, 3.0)</td>\n",
       "      <td>(2.0, 2.0)</td>\n",
       "      <td>6.9866</td>\n",
       "      <td>NaN</td>\n",
       "    </tr>\n",
       "    <tr>\n",
       "      <th>pl_evil</th>\n",
       "      <td>(1.9982, 0.5009)</td>\n",
       "      <td>(1.0002, 0.9999)</td>\n",
       "      <td>(3.0, 0.0)</td>\n",
       "      <td>(1.0, 1.0)</td>\n",
       "      <td>(1.0002, 0.9999)</td>\n",
       "      <td>7.9986</td>\n",
       "      <td>5.0</td>\n",
       "    </tr>\n",
       "    <tr>\n",
       "      <th>pl_last10avg</th>\n",
       "      <td>(1.3856, 1.7324)</td>\n",
       "      <td>(2.0, 2.0)</td>\n",
       "      <td>(2.0, 2.0)</td>\n",
       "      <td>(0.9999, 1.0002)</td>\n",
       "      <td>(2.0, 2.0)</td>\n",
       "      <td>8.3855</td>\n",
       "      <td>NaN</td>\n",
       "    </tr>\n",
       "    <tr>\n",
       "      <th>ToT</th>\n",
       "      <td>0</td>\n",
       "      <td>0</td>\n",
       "      <td>0</td>\n",
       "      <td>0</td>\n",
       "      <td>0</td>\n",
       "      <td>0.0000</td>\n",
       "      <td>0.0</td>\n",
       "    </tr>\n",
       "  </tbody>\n",
       "</table>\n",
       "</div>"
      ],
      "text/plain": [
       "                      pl_rando        pl_tit4tat          pl_good  \\\n",
       "pl_rando      (1.5029, 1.4903)  (1.5018, 1.5015)  (2.5055, 0.989)   \n",
       "pl_tit4tat    (1.5012, 1.5015)        (2.0, 2.0)       (2.0, 2.0)   \n",
       "pl_good       (0.9866, 2.5067)        (2.0, 2.0)       (2.0, 2.0)   \n",
       "pl_evil       (1.9982, 0.5009)  (1.0002, 0.9999)       (3.0, 0.0)   \n",
       "pl_last10avg  (1.3856, 1.7324)        (2.0, 2.0)       (2.0, 2.0)   \n",
       "ToT                          0                 0                0   \n",
       "\n",
       "                       pl_evil      pl_last10avg     Tot  tot  \n",
       "pl_rando      (0.4982, 2.0036)    (1.7624, 1.37)  7.7708  NaN  \n",
       "pl_tit4tat    (0.9999, 1.0002)        (2.0, 2.0)  8.5011  NaN  \n",
       "pl_good             (0.0, 3.0)        (2.0, 2.0)  6.9866  NaN  \n",
       "pl_evil             (1.0, 1.0)  (1.0002, 0.9999)  7.9986  5.0  \n",
       "pl_last10avg  (0.9999, 1.0002)        (2.0, 2.0)  8.3855  NaN  \n",
       "ToT                          0                 0  0.0000  0.0  "
      ]
     },
     "execution_count": 23,
     "metadata": {},
     "output_type": "execute_result"
    }
   ],
   "source": [
    "chart2"
   ]
  },
  {
   "cell_type": "code",
   "execution_count": 24,
   "id": "df60fd9b",
   "metadata": {},
   "outputs": [],
   "source": [
    "chart2.loc['ToT','pl_tit4tat'] = 5"
   ]
  },
  {
   "cell_type": "code",
   "execution_count": 25,
   "id": "08194907",
   "metadata": {},
   "outputs": [
    {
     "data": {
      "text/html": [
       "<div>\n",
       "<style scoped>\n",
       "    .dataframe tbody tr th:only-of-type {\n",
       "        vertical-align: middle;\n",
       "    }\n",
       "\n",
       "    .dataframe tbody tr th {\n",
       "        vertical-align: top;\n",
       "    }\n",
       "\n",
       "    .dataframe thead th {\n",
       "        text-align: right;\n",
       "    }\n",
       "</style>\n",
       "<table border=\"1\" class=\"dataframe\">\n",
       "  <thead>\n",
       "    <tr style=\"text-align: right;\">\n",
       "      <th></th>\n",
       "      <th>pl_rando</th>\n",
       "      <th>pl_tit4tat</th>\n",
       "      <th>pl_good</th>\n",
       "      <th>pl_evil</th>\n",
       "      <th>pl_last10avg</th>\n",
       "      <th>Tot</th>\n",
       "      <th>tot</th>\n",
       "    </tr>\n",
       "  </thead>\n",
       "  <tbody>\n",
       "    <tr>\n",
       "      <th>pl_rando</th>\n",
       "      <td>(1.5029, 1.4903)</td>\n",
       "      <td>(1.5018, 1.5015)</td>\n",
       "      <td>(2.5055, 0.989)</td>\n",
       "      <td>(0.4982, 2.0036)</td>\n",
       "      <td>(1.7624, 1.37)</td>\n",
       "      <td>7.7708</td>\n",
       "      <td>NaN</td>\n",
       "    </tr>\n",
       "    <tr>\n",
       "      <th>pl_tit4tat</th>\n",
       "      <td>(1.5012, 1.5015)</td>\n",
       "      <td>(2.0, 2.0)</td>\n",
       "      <td>(2.0, 2.0)</td>\n",
       "      <td>(0.9999, 1.0002)</td>\n",
       "      <td>(2.0, 2.0)</td>\n",
       "      <td>8.5011</td>\n",
       "      <td>NaN</td>\n",
       "    </tr>\n",
       "    <tr>\n",
       "      <th>pl_good</th>\n",
       "      <td>(0.9866, 2.5067)</td>\n",
       "      <td>(2.0, 2.0)</td>\n",
       "      <td>(2.0, 2.0)</td>\n",
       "      <td>(0.0, 3.0)</td>\n",
       "      <td>(2.0, 2.0)</td>\n",
       "      <td>6.9866</td>\n",
       "      <td>NaN</td>\n",
       "    </tr>\n",
       "    <tr>\n",
       "      <th>pl_evil</th>\n",
       "      <td>(1.9982, 0.5009)</td>\n",
       "      <td>(1.0002, 0.9999)</td>\n",
       "      <td>(3.0, 0.0)</td>\n",
       "      <td>(1.0, 1.0)</td>\n",
       "      <td>(1.0002, 0.9999)</td>\n",
       "      <td>7.9986</td>\n",
       "      <td>5.0</td>\n",
       "    </tr>\n",
       "    <tr>\n",
       "      <th>pl_last10avg</th>\n",
       "      <td>(1.3856, 1.7324)</td>\n",
       "      <td>(2.0, 2.0)</td>\n",
       "      <td>(2.0, 2.0)</td>\n",
       "      <td>(0.9999, 1.0002)</td>\n",
       "      <td>(2.0, 2.0)</td>\n",
       "      <td>8.3855</td>\n",
       "      <td>NaN</td>\n",
       "    </tr>\n",
       "    <tr>\n",
       "      <th>ToT</th>\n",
       "      <td>0</td>\n",
       "      <td>5</td>\n",
       "      <td>0</td>\n",
       "      <td>0</td>\n",
       "      <td>0</td>\n",
       "      <td>0.0000</td>\n",
       "      <td>0.0</td>\n",
       "    </tr>\n",
       "  </tbody>\n",
       "</table>\n",
       "</div>"
      ],
      "text/plain": [
       "                      pl_rando        pl_tit4tat          pl_good  \\\n",
       "pl_rando      (1.5029, 1.4903)  (1.5018, 1.5015)  (2.5055, 0.989)   \n",
       "pl_tit4tat    (1.5012, 1.5015)        (2.0, 2.0)       (2.0, 2.0)   \n",
       "pl_good       (0.9866, 2.5067)        (2.0, 2.0)       (2.0, 2.0)   \n",
       "pl_evil       (1.9982, 0.5009)  (1.0002, 0.9999)       (3.0, 0.0)   \n",
       "pl_last10avg  (1.3856, 1.7324)        (2.0, 2.0)       (2.0, 2.0)   \n",
       "ToT                          0                 5                0   \n",
       "\n",
       "                       pl_evil      pl_last10avg     Tot  tot  \n",
       "pl_rando      (0.4982, 2.0036)    (1.7624, 1.37)  7.7708  NaN  \n",
       "pl_tit4tat    (0.9999, 1.0002)        (2.0, 2.0)  8.5011  NaN  \n",
       "pl_good             (0.0, 3.0)        (2.0, 2.0)  6.9866  NaN  \n",
       "pl_evil             (1.0, 1.0)  (1.0002, 0.9999)  7.9986  5.0  \n",
       "pl_last10avg  (0.9999, 1.0002)        (2.0, 2.0)  8.3855  NaN  \n",
       "ToT                          0                 0  0.0000  0.0  "
      ]
     },
     "execution_count": 25,
     "metadata": {},
     "output_type": "execute_result"
    }
   ],
   "source": [
    "chart2"
   ]
  },
  {
   "cell_type": "code",
   "execution_count": null,
   "id": "68b24b23",
   "metadata": {},
   "outputs": [],
   "source": []
  }
 ],
 "metadata": {
  "jupytext": {
   "formats": "ipynb,md:myst",
   "text_representation": {
    "extension": ".md",
    "format_name": "myst",
    "format_version": 0.13,
    "jupytext_version": "1.11.5"
   }
  },
  "kernelspec": {
   "display_name": "Python 3 (ipykernel)",
   "language": "python",
   "name": "python3"
  },
  "language_info": {
   "codemirror_mode": {
    "name": "ipython",
    "version": 3
   },
   "file_extension": ".py",
   "mimetype": "text/x-python",
   "name": "python",
   "nbconvert_exporter": "python",
   "pygments_lexer": "ipython3",
   "version": "3.8.5"
  },
  "source_map": [
   13,
   17,
   22,
   26,
   31,
   35,
   54,
   85,
   89,
   126,
   130,
   134,
   138,
   142,
   146,
   150,
   154,
   158,
   162,
   166,
   170,
   174,
   178,
   182,
   186,
   190,
   194
  ]
 },
 "nbformat": 4,
 "nbformat_minor": 5
}